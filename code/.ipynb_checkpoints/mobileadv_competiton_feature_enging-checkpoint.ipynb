{
 "cells": [
  {
   "cell_type": "code",
   "execution_count": null,
   "metadata": {
    "colab": {
     "base_uri": "https://localhost:8080/",
     "height": 235
    },
    "colab_type": "code",
    "executionInfo": {
     "elapsed": 102748,
     "status": "ok",
     "timestamp": 1563489490407,
     "user": {
      "displayName": "陶士来",
      "photoUrl": "",
      "userId": "08104502188577818611"
     },
     "user_tz": -480
    },
    "id": "fDY7o_m6rqsX",
    "outputId": "981d521e-65e7-41a9-c933-9124966a1d6c"
   },
   "outputs": [],
   "source": [
    "# !apt-get install -y -qq software-properties-common python-software-properties module-init-tools\n",
    "# !add-apt-repository -y ppa:alessandro-strada/ppa 2>&1 > /dev/null\n",
    "# !apt-get update -qq 2>&1 > /dev/null\n",
    "# !apt-get -y install -qq google-drive-ocamlfuse fuse\n",
    "# from google.colab import auth\n",
    "# auth.authenticate_user()\n",
    "# from oauth2client.client import GoogleCredentials\n",
    "# creds = GoogleCredentials.get_application_default()\n",
    "# import getpass\n",
    "# !google-drive-ocamlfuse -headless -id={creds.client_id} -secret={creds.client_secret} < /dev/null 2>&1 | grep URL\n",
    "# vcode = getpass.getpass()\n",
    "# !echo {vcode} | google-drive-ocamlfuse -headless -id={creds.client_id} -secret={creds.client_secret}\n"
   ]
  },
  {
   "cell_type": "code",
   "execution_count": null,
   "metadata": {
    "colab": {},
    "colab_type": "code",
    "id": "oHLz7rzREske"
   },
   "outputs": [],
   "source": [
    "# !mkdir -p drive\n",
    "# !google-drive-ocamlfuse drive  -o nonempty\n",
    "# ##重启kernel时安装的gcloud"
   ]
  },
  {
   "cell_type": "code",
   "execution_count": null,
   "metadata": {
    "colab": {
     "base_uri": "https://localhost:8080/",
     "height": 35
    },
    "colab_type": "code",
    "executionInfo": {
     "elapsed": 3086,
     "status": "ok",
     "timestamp": 1563462369918,
     "user": {
      "displayName": "陶士来",
      "photoUrl": "",
      "userId": "08104502188577818611"
     },
     "user_tz": -480
    },
    "id": "lY_LUfHtFveL",
    "outputId": "71bf6c98-ad0e-439c-caf4-82f9b088be9b"
   },
   "outputs": [],
   "source": [
    "!ls"
   ]
  },
  {
   "cell_type": "code",
   "execution_count": null,
   "metadata": {
    "colab": {},
    "colab_type": "code",
    "id": "E65So0nPGme9"
   },
   "outputs": [],
   "source": [
    "# import os\n",
    "# os.chdir('drive/mobile_adv/code')"
   ]
  },
  {
   "cell_type": "code",
   "execution_count": null,
   "metadata": {
    "colab": {
     "base_uri": "https://localhost:8080/",
     "height": 89
    },
    "colab_type": "code",
    "executionInfo": {
     "elapsed": 4969,
     "status": "ok",
     "timestamp": 1563458380477,
     "user": {
      "displayName": "陶士来",
      "photoUrl": "",
      "userId": "08104502188577818611"
     },
     "user_tz": -480
    },
    "id": "pzpSMyXlYT0d",
    "outputId": "3bd5e650-23b1-4a23-9481-cf27c5050ee3"
   },
   "outputs": [],
   "source": [
    "ls"
   ]
  },
  {
   "cell_type": "code",
   "execution_count": null,
   "metadata": {
    "colab": {
     "base_uri": "https://localhost:8080/",
     "height": 53
    },
    "colab_type": "code",
    "executionInfo": {
     "elapsed": 4057,
     "status": "ok",
     "timestamp": 1563458323349,
     "user": {
      "displayName": "陶士来",
      "photoUrl": "",
      "userId": "08104502188577818611"
     },
     "user_tz": -480
    },
    "id": "8vMPZlPUoaD0",
    "outputId": "a949d7f6-5c91-4354-997c-05c163abd4f6"
   },
   "outputs": [],
   "source": [
    "# Install TensorFlow gpu version\n",
    "# !pip install -q tensorflow-gpu==2.0.0-beta1\n",
    "import tensorflow as tf\n",
    "print(\"GPU Available: \", tf.test.is_gpu_available())\n",
    "print(tf.__version__)\n",
    "\n",
    "# # Install TensorFlow cpu version\n",
    "# !pip install tensorflow==2.0.0-beta1\n",
    "# import tensorflow as tf\n",
    "# print(tf.__version__)"
   ]
  },
  {
   "cell_type": "code",
   "execution_count": 1,
   "metadata": {
    "colab": {},
    "colab_type": "code",
    "id": "Kcw8dwZBIX53"
   },
   "outputs": [],
   "source": [
    "root_path='../data'"
   ]
  },
  {
   "cell_type": "code",
   "execution_count": 2,
   "metadata": {
    "colab": {},
    "colab_type": "code",
    "id": "XXQpGBBlZ9U0"
   },
   "outputs": [],
   "source": [
    "train_path=root_path+'/round1_iflyad_anticheat_traindata.txt'\n",
    "test_path=root_path+'/round1_iflyad_anticheat_testdata_feature.txt'\n",
    "submission_path=root_path+'/营销反欺诈-sample.csv'"
   ]
  },
  {
   "cell_type": "code",
   "execution_count": 3,
   "metadata": {
    "colab": {},
    "colab_type": "code",
    "id": "xbVIaCZe1UMw"
   },
   "outputs": [],
   "source": [
    "import pandas as pd\n",
    "#显示所有列\n",
    "pd.set_option(\"display.max_columns\",500)"
   ]
  },
  {
   "cell_type": "code",
   "execution_count": 4,
   "metadata": {
    "colab": {},
    "colab_type": "code",
    "id": "XLYnDH8KPiM_"
   },
   "outputs": [],
   "source": [
    "train=pd.read_csv(train_path,delimiter='\\t')\n",
    "test=pd.read_csv(test_path,delimiter='\\t')\n",
    "submission=pd.read_csv(submission_path)"
   ]
  },
  {
   "cell_type": "code",
   "execution_count": 5,
   "metadata": {},
   "outputs": [
    {
     "data": {
      "text/plain": [
       "(1000000, 29)"
      ]
     },
     "execution_count": 5,
     "metadata": {},
     "output_type": "execute_result"
    }
   ],
   "source": [
    "train.shape"
   ]
  },
  {
   "cell_type": "code",
   "execution_count": 6,
   "metadata": {},
   "outputs": [
    {
     "data": {
      "text/plain": [
       "(100000, 28)"
      ]
     },
     "execution_count": 6,
     "metadata": {},
     "output_type": "execute_result"
    }
   ],
   "source": [
    "test.shape\n"
   ]
  },
  {
   "cell_type": "code",
   "execution_count": null,
   "metadata": {
    "colab": {
     "base_uri": "https://localhost:8080/",
     "height": 629
    },
    "colab_type": "code",
    "executionInfo": {
     "elapsed": 2008,
     "status": "ok",
     "timestamp": 1562484713302,
     "user": {
      "displayName": "陶士来",
      "photoUrl": "",
      "userId": "08104502188577818611"
     },
     "user_tz": -480
    },
    "id": "pK237bIIbgGo",
    "outputId": "a4d176ea-6521-4fac-b5c3-036952323fb0"
   },
   "outputs": [],
   "source": [
    "train.info()"
   ]
  },
  {
   "cell_type": "code",
   "execution_count": null,
   "metadata": {
    "colab": {
     "base_uri": "https://localhost:8080/",
     "height": 611
    },
    "colab_type": "code",
    "executionInfo": {
     "elapsed": 893,
     "status": "ok",
     "timestamp": 1562484715357,
     "user": {
      "displayName": "陶士来",
      "photoUrl": "",
      "userId": "08104502188577818611"
     },
     "user_tz": -480
    },
    "id": "eyjGUVAwbsd6",
    "outputId": "85b0cc61-9113-418b-bda5-061e104918c3"
   },
   "outputs": [],
   "source": [
    "test.info()"
   ]
  },
  {
   "cell_type": "code",
   "execution_count": null,
   "metadata": {
    "colab": {
     "base_uri": "https://localhost:8080/",
     "height": 530
    },
    "colab_type": "code",
    "executionInfo": {
     "elapsed": 3238,
     "status": "ok",
     "timestamp": 1562593662130,
     "user": {
      "displayName": "陶士来",
      "photoUrl": "",
      "userId": "08104502188577818611"
     },
     "user_tz": -480
    },
    "id": "SmJQBv_oE80e",
    "outputId": "fd776405-952b-4951-fbaa-0fad87fa536d"
   },
   "outputs": [],
   "source": [
    "train.head()"
   ]
  },
  {
   "cell_type": "code",
   "execution_count": null,
   "metadata": {
    "colab": {
     "base_uri": "https://localhost:8080/",
     "height": 564
    },
    "colab_type": "code",
    "executionInfo": {
     "elapsed": 994,
     "status": "ok",
     "timestamp": 1562484721581,
     "user": {
      "displayName": "陶士来",
      "photoUrl": "",
      "userId": "08104502188577818611"
     },
     "user_tz": -480
    },
    "id": "wf_6vOZ7Gnkc",
    "outputId": "22d6cf66-793b-4c6e-c424-47ab775fd374"
   },
   "outputs": [],
   "source": [
    "test.head()\n"
   ]
  },
  {
   "cell_type": "code",
   "execution_count": 8,
   "metadata": {
    "colab": {
     "base_uri": "https://localhost:8080/",
     "height": 161
    },
    "colab_type": "code",
    "executionInfo": {
     "elapsed": 2950,
     "status": "ok",
     "timestamp": 1563489576889,
     "user": {
      "displayName": "陶士来",
      "photoUrl": "",
      "userId": "08104502188577818611"
     },
     "user_tz": -480
    },
    "id": "fkgRE9UtPf6o",
    "outputId": "26d4626e-f9c8-43f2-e290-7d06e74e2bbc"
   },
   "outputs": [
    {
     "name": "stderr",
     "output_type": "stream",
     "text": [
      "/usr/local/lib/python3.5/dist-packages/pandas/core/frame.py:6692: FutureWarning: Sorting because non-concatenation axis is not aligned. A future version\n",
      "of pandas will change to not sort by default.\n",
      "\n",
      "To accept the future behavior, pass 'sort=False'.\n",
      "\n",
      "To retain the current behavior and silence the warning, pass 'sort=True'.\n",
      "\n",
      "  sort=sort)\n"
     ]
    }
   ],
   "source": [
    "train=train.append(test,ignore_index=True)"
   ]
  },
  {
   "cell_type": "code",
   "execution_count": 100,
   "metadata": {},
   "outputs": [
    {
     "data": {
      "text/html": [
       "<div>\n",
       "<style scoped>\n",
       "    .dataframe tbody tr th:only-of-type {\n",
       "        vertical-align: middle;\n",
       "    }\n",
       "\n",
       "    .dataframe tbody tr th {\n",
       "        vertical-align: top;\n",
       "    }\n",
       "\n",
       "    .dataframe thead th {\n",
       "        text-align: right;\n",
       "    }\n",
       "</style>\n",
       "<table border=\"1\" class=\"dataframe\">\n",
       "  <thead>\n",
       "    <tr style=\"text-align: right;\">\n",
       "      <th></th>\n",
       "      <th>make</th>\n",
       "      <th>model</th>\n",
       "      <th>lan</th>\n",
       "      <th>os</th>\n",
       "      <th>osv</th>\n",
       "      <th>ver</th>\n",
       "    </tr>\n",
       "  </thead>\n",
       "  <tbody>\n",
       "    <tr>\n",
       "      <th>1074591</th>\n",
       "      <td>OPPO</td>\n",
       "      <td>OPPO R11T</td>\n",
       "      <td>NAN</td>\n",
       "      <td>android</td>\n",
       "      <td>7.1</td>\n",
       "      <td>4.9.3</td>\n",
       "    </tr>\n",
       "    <tr>\n",
       "      <th>678803</th>\n",
       "      <td>OPPO</td>\n",
       "      <td>PBBM00</td>\n",
       "      <td>ZH-CN</td>\n",
       "      <td>Android</td>\n",
       "      <td>8.1.0</td>\n",
       "      <td>30927000</td>\n",
       "    </tr>\n",
       "    <tr>\n",
       "      <th>1078256</th>\n",
       "      <td>HUAWEI</td>\n",
       "      <td>PRA-AL00X</td>\n",
       "      <td>ZH</td>\n",
       "      <td>android</td>\n",
       "      <td>7.0</td>\n",
       "      <td>7.1.5</td>\n",
       "    </tr>\n",
       "    <tr>\n",
       "      <th>510509</th>\n",
       "      <td>OPPO</td>\n",
       "      <td>PBAM00</td>\n",
       "      <td>CN</td>\n",
       "      <td>android</td>\n",
       "      <td>8.1.0</td>\n",
       "      <td>8.5.7.0</td>\n",
       "    </tr>\n",
       "    <tr>\n",
       "      <th>825410</th>\n",
       "      <td>OPPO</td>\n",
       "      <td>OC105</td>\n",
       "      <td>CN</td>\n",
       "      <td>android</td>\n",
       "      <td>7.1.2</td>\n",
       "      <td>8.5.1.1</td>\n",
       "    </tr>\n",
       "    <tr>\n",
       "      <th>729213</th>\n",
       "      <td>HUAWEI</td>\n",
       "      <td>CLT AL01</td>\n",
       "      <td>ZH-CN</td>\n",
       "      <td>Android</td>\n",
       "      <td>9.0.0</td>\n",
       "      <td>30927067</td>\n",
       "    </tr>\n",
       "    <tr>\n",
       "      <th>19824</th>\n",
       "      <td>vivo</td>\n",
       "      <td>VIVO X9</td>\n",
       "      <td>ZH-CN</td>\n",
       "      <td>Android</td>\n",
       "      <td>7.1.2</td>\n",
       "      <td>5.2.5.1</td>\n",
       "    </tr>\n",
       "    <tr>\n",
       "      <th>364601</th>\n",
       "      <td>vivo</td>\n",
       "      <td>V1829A</td>\n",
       "      <td>ZH</td>\n",
       "      <td>android</td>\n",
       "      <td>8.1.0</td>\n",
       "      <td>30927000</td>\n",
       "    </tr>\n",
       "    <tr>\n",
       "      <th>823046</th>\n",
       "      <td>OPPO</td>\n",
       "      <td>COOLPAD 8737A</td>\n",
       "      <td>NAN</td>\n",
       "      <td>android</td>\n",
       "      <td>6.0.1</td>\n",
       "      <td>30927000</td>\n",
       "    </tr>\n",
       "    <tr>\n",
       "      <th>826631</th>\n",
       "      <td>Xiaomi</td>\n",
       "      <td>MI 8</td>\n",
       "      <td>ZH-CN</td>\n",
       "      <td>android</td>\n",
       "      <td>9</td>\n",
       "      <td>5.76.2.6040</td>\n",
       "    </tr>\n",
       "    <tr>\n",
       "      <th>587121</th>\n",
       "      <td>Xiaomi</td>\n",
       "      <td>MI 8</td>\n",
       "      <td>NAN</td>\n",
       "      <td>android</td>\n",
       "      <td>7.9.0</td>\n",
       "      <td>30927000</td>\n",
       "    </tr>\n",
       "    <tr>\n",
       "      <th>636913</th>\n",
       "      <td>OPPO</td>\n",
       "      <td>OPPO R11</td>\n",
       "      <td>ZH-CN</td>\n",
       "      <td>Android</td>\n",
       "      <td>7.1.1</td>\n",
       "      <td>3.2.1.0603.1707</td>\n",
       "    </tr>\n",
       "    <tr>\n",
       "      <th>1021074</th>\n",
       "      <td>vivo</td>\n",
       "      <td>VIVO Y67L</td>\n",
       "      <td>NAN</td>\n",
       "      <td>android</td>\n",
       "      <td>6.0</td>\n",
       "      <td>30927000</td>\n",
       "    </tr>\n",
       "    <tr>\n",
       "      <th>531202</th>\n",
       "      <td>Xiaomi</td>\n",
       "      <td>MI MAX</td>\n",
       "      <td>ZH</td>\n",
       "      <td>android</td>\n",
       "      <td>7.0</td>\n",
       "      <td>6.0.5</td>\n",
       "    </tr>\n",
       "    <tr>\n",
       "      <th>339312</th>\n",
       "      <td>vivo</td>\n",
       "      <td>VIVO X9PLUS</td>\n",
       "      <td>NAN</td>\n",
       "      <td>android</td>\n",
       "      <td>7.1.2</td>\n",
       "      <td>30927000</td>\n",
       "    </tr>\n",
       "    <tr>\n",
       "      <th>543409</th>\n",
       "      <td>360手机</td>\n",
       "      <td>1607-A01</td>\n",
       "      <td>NAN</td>\n",
       "      <td>android</td>\n",
       "      <td>7.1.1</td>\n",
       "      <td>30927000</td>\n",
       "    </tr>\n",
       "    <tr>\n",
       "      <th>222102</th>\n",
       "      <td>smartisan</td>\n",
       "      <td>OS105</td>\n",
       "      <td>ZH-CN</td>\n",
       "      <td>Android</td>\n",
       "      <td>7.1.1</td>\n",
       "      <td>521000</td>\n",
       "    </tr>\n",
       "    <tr>\n",
       "      <th>453553</th>\n",
       "      <td>vivo</td>\n",
       "      <td>V1813T</td>\n",
       "      <td>ZH-CN</td>\n",
       "      <td>Android</td>\n",
       "      <td>8.1.0</td>\n",
       "      <td>30927000</td>\n",
       "    </tr>\n",
       "    <tr>\n",
       "      <th>547293</th>\n",
       "      <td>OPPO</td>\n",
       "      <td>OPPO R9ST</td>\n",
       "      <td>ZH-CN</td>\n",
       "      <td>Android</td>\n",
       "      <td>6.0.1</td>\n",
       "      <td>3.0.6</td>\n",
       "    </tr>\n",
       "    <tr>\n",
       "      <th>779543</th>\n",
       "      <td>vivo</td>\n",
       "      <td>VIVO V3</td>\n",
       "      <td>NAN</td>\n",
       "      <td>android</td>\n",
       "      <td>5.1.1</td>\n",
       "      <td>30927000</td>\n",
       "    </tr>\n",
       "    <tr>\n",
       "      <th>389304</th>\n",
       "      <td>OPPO</td>\n",
       "      <td>HISENSE F23</td>\n",
       "      <td>NAN</td>\n",
       "      <td>android</td>\n",
       "      <td>7.1.2</td>\n",
       "      <td>30927000</td>\n",
       "    </tr>\n",
       "    <tr>\n",
       "      <th>886666</th>\n",
       "      <td>vivo</td>\n",
       "      <td>VIVO Y85</td>\n",
       "      <td>NAN</td>\n",
       "      <td>android</td>\n",
       "      <td>8.1.0</td>\n",
       "      <td>30927000</td>\n",
       "    </tr>\n",
       "    <tr>\n",
       "      <th>333136</th>\n",
       "      <td>OPPO</td>\n",
       "      <td>VIVO Z1</td>\n",
       "      <td>NAN</td>\n",
       "      <td>android</td>\n",
       "      <td>8.1.0</td>\n",
       "      <td>30927000</td>\n",
       "    </tr>\n",
       "    <tr>\n",
       "      <th>1071690</th>\n",
       "      <td>vivo</td>\n",
       "      <td>VIVO X21</td>\n",
       "      <td>ZH-CN</td>\n",
       "      <td>Android</td>\n",
       "      <td>8.1.0</td>\n",
       "      <td>30928000</td>\n",
       "    </tr>\n",
       "    <tr>\n",
       "      <th>385661</th>\n",
       "      <td>OPPO</td>\n",
       "      <td>VIVO Y71A</td>\n",
       "      <td>CN</td>\n",
       "      <td>android</td>\n",
       "      <td>8.1.0</td>\n",
       "      <td>8.5.7.1</td>\n",
       "    </tr>\n",
       "    <tr>\n",
       "      <th>794155</th>\n",
       "      <td>HUAWEI</td>\n",
       "      <td>LYA-AL00</td>\n",
       "      <td>ZH</td>\n",
       "      <td>android</td>\n",
       "      <td>9</td>\n",
       "      <td>7.1.5</td>\n",
       "    </tr>\n",
       "    <tr>\n",
       "      <th>687797</th>\n",
       "      <td>OPPO</td>\n",
       "      <td>PBAM00</td>\n",
       "      <td>NAN</td>\n",
       "      <td>android</td>\n",
       "      <td>8.1.0</td>\n",
       "      <td>5.0.1</td>\n",
       "    </tr>\n",
       "    <tr>\n",
       "      <th>828496</th>\n",
       "      <td>vivo</td>\n",
       "      <td>VIVO NEX A</td>\n",
       "      <td>ZH-CN</td>\n",
       "      <td>Android</td>\n",
       "      <td>8.1.0</td>\n",
       "      <td>30927000</td>\n",
       "    </tr>\n",
       "    <tr>\n",
       "      <th>458186</th>\n",
       "      <td>HONOR</td>\n",
       "      <td>PCT-AL10</td>\n",
       "      <td>ZH-CN</td>\n",
       "      <td>android</td>\n",
       "      <td>9</td>\n",
       "      <td>5.76.2.6060</td>\n",
       "    </tr>\n",
       "    <tr>\n",
       "      <th>87122</th>\n",
       "      <td>OPPO</td>\n",
       "      <td>PBCM10</td>\n",
       "      <td>NAN</td>\n",
       "      <td>android</td>\n",
       "      <td>8.1</td>\n",
       "      <td>4.7.5</td>\n",
       "    </tr>\n",
       "    <tr>\n",
       "      <th>715869</th>\n",
       "      <td>OPPO</td>\n",
       "      <td>PACM00</td>\n",
       "      <td>NAN</td>\n",
       "      <td>android</td>\n",
       "      <td>8.1.0</td>\n",
       "      <td>5.0.1</td>\n",
       "    </tr>\n",
       "    <tr>\n",
       "      <th>1066927</th>\n",
       "      <td>xiaomi</td>\n",
       "      <td>REDMI 5 PLUS</td>\n",
       "      <td>NAN</td>\n",
       "      <td>android</td>\n",
       "      <td>Android_8.1.0</td>\n",
       "      <td>30927000</td>\n",
       "    </tr>\n",
       "    <tr>\n",
       "      <th>507879</th>\n",
       "      <td>OPPO</td>\n",
       "      <td>ONEPLUS A6000</td>\n",
       "      <td>NAN</td>\n",
       "      <td>android</td>\n",
       "      <td>9</td>\n",
       "      <td>30927000</td>\n",
       "    </tr>\n",
       "    <tr>\n",
       "      <th>704029</th>\n",
       "      <td>华为</td>\n",
       "      <td>LON-AL00</td>\n",
       "      <td>NAN</td>\n",
       "      <td>android</td>\n",
       "      <td>9</td>\n",
       "      <td>30927000</td>\n",
       "    </tr>\n",
       "    <tr>\n",
       "      <th>235178</th>\n",
       "      <td>Xiaomi</td>\n",
       "      <td>MI 9 SE</td>\n",
       "      <td>ZH-CN</td>\n",
       "      <td>android</td>\n",
       "      <td>9</td>\n",
       "      <td>5.76.2.6060</td>\n",
       "    </tr>\n",
       "    <tr>\n",
       "      <th>886560</th>\n",
       "      <td>OnePlus</td>\n",
       "      <td>ONEPLUS A6010</td>\n",
       "      <td>ZH-CN</td>\n",
       "      <td>android</td>\n",
       "      <td>9</td>\n",
       "      <td>6.00.2.6140</td>\n",
       "    </tr>\n",
       "    <tr>\n",
       "      <th>685799</th>\n",
       "      <td>GIONEE</td>\n",
       "      <td>GN8003</td>\n",
       "      <td>ZH-CN</td>\n",
       "      <td>android</td>\n",
       "      <td>6.0</td>\n",
       "      <td>6.6.3.cu</td>\n",
       "    </tr>\n",
       "    <tr>\n",
       "      <th>298850</th>\n",
       "      <td>vivo</td>\n",
       "      <td>V1818A</td>\n",
       "      <td>ZH-CN</td>\n",
       "      <td>Android</td>\n",
       "      <td>8.1.0</td>\n",
       "      <td>30927000</td>\n",
       "    </tr>\n",
       "    <tr>\n",
       "      <th>58187</th>\n",
       "      <td>OPPO</td>\n",
       "      <td>OPPO R11</td>\n",
       "      <td>NAN</td>\n",
       "      <td>android</td>\n",
       "      <td>Android_8.1.0</td>\n",
       "      <td>30927000</td>\n",
       "    </tr>\n",
       "    <tr>\n",
       "      <th>708356</th>\n",
       "      <td>OPPO</td>\n",
       "      <td>OPPO R9S PLUS</td>\n",
       "      <td>NAN</td>\n",
       "      <td>android</td>\n",
       "      <td>6.0.1</td>\n",
       "      <td>30927000</td>\n",
       "    </tr>\n",
       "    <tr>\n",
       "      <th>707992</th>\n",
       "      <td>HUAWEI</td>\n",
       "      <td>EML AL00</td>\n",
       "      <td>ZH-CN</td>\n",
       "      <td>Android</td>\n",
       "      <td>9.0.0</td>\n",
       "      <td>30927000</td>\n",
       "    </tr>\n",
       "    <tr>\n",
       "      <th>868126</th>\n",
       "      <td>vivo</td>\n",
       "      <td>VIVO X23</td>\n",
       "      <td>NAN</td>\n",
       "      <td>android</td>\n",
       "      <td>8.1.0</td>\n",
       "      <td>30927000</td>\n",
       "    </tr>\n",
       "    <tr>\n",
       "      <th>633504</th>\n",
       "      <td>OPPO</td>\n",
       "      <td>PBAM00</td>\n",
       "      <td>ZH-CN</td>\n",
       "      <td>Android</td>\n",
       "      <td>8.1.0</td>\n",
       "      <td>30927000</td>\n",
       "    </tr>\n",
       "    <tr>\n",
       "      <th>492130</th>\n",
       "      <td>OPPO</td>\n",
       "      <td>DAZEN 6</td>\n",
       "      <td>NAN</td>\n",
       "      <td>android</td>\n",
       "      <td>7.1.1</td>\n",
       "      <td>30927000</td>\n",
       "    </tr>\n",
       "    <tr>\n",
       "      <th>380165</th>\n",
       "      <td>samsung</td>\n",
       "      <td>SM-G9280</td>\n",
       "      <td>NAN</td>\n",
       "      <td>android</td>\n",
       "      <td>7.9.0</td>\n",
       "      <td>30927000</td>\n",
       "    </tr>\n",
       "    <tr>\n",
       "      <th>709712</th>\n",
       "      <td>OPPO</td>\n",
       "      <td>OPPO A53M</td>\n",
       "      <td>NAN</td>\n",
       "      <td>android</td>\n",
       "      <td>5.1.1</td>\n",
       "      <td>4.6.1</td>\n",
       "    </tr>\n",
       "    <tr>\n",
       "      <th>123662</th>\n",
       "      <td>HUAWEI</td>\n",
       "      <td>JKM AL00B</td>\n",
       "      <td>ZH-CN</td>\n",
       "      <td>Android</td>\n",
       "      <td>8.1.0</td>\n",
       "      <td>30928000</td>\n",
       "    </tr>\n",
       "    <tr>\n",
       "      <th>757446</th>\n",
       "      <td>OPPO</td>\n",
       "      <td>OPPO R11S</td>\n",
       "      <td>ZH-CN</td>\n",
       "      <td>Android</td>\n",
       "      <td>7.1.1</td>\n",
       "      <td>5.38.0</td>\n",
       "    </tr>\n",
       "    <tr>\n",
       "      <th>248866</th>\n",
       "      <td>JKM-AL00</td>\n",
       "      <td>HUAWEI JKM-AL00</td>\n",
       "      <td>ZH-CN</td>\n",
       "      <td>Android</td>\n",
       "      <td>8.1.0</td>\n",
       "      <td>112</td>\n",
       "    </tr>\n",
       "    <tr>\n",
       "      <th>200274</th>\n",
       "      <td>OPPO</td>\n",
       "      <td>PBFM00</td>\n",
       "      <td>ZH-CN</td>\n",
       "      <td>Android</td>\n",
       "      <td>8.1.0</td>\n",
       "      <td>1.0</td>\n",
       "    </tr>\n",
       "  </tbody>\n",
       "</table>\n",
       "</div>"
      ],
      "text/plain": [
       "              make            model    lan       os            osv  \\\n",
       "1074591       OPPO        OPPO R11T    NAN  android            7.1   \n",
       "678803        OPPO           PBBM00  ZH-CN  Android          8.1.0   \n",
       "1078256     HUAWEI        PRA-AL00X     ZH  android            7.0   \n",
       "510509        OPPO           PBAM00     CN  android          8.1.0   \n",
       "825410        OPPO            OC105     CN  android          7.1.2   \n",
       "729213      HUAWEI         CLT AL01  ZH-CN  Android          9.0.0   \n",
       "19824         vivo          VIVO X9  ZH-CN  Android          7.1.2   \n",
       "364601        vivo           V1829A     ZH  android          8.1.0   \n",
       "823046        OPPO    COOLPAD 8737A    NAN  android          6.0.1   \n",
       "826631      Xiaomi             MI 8  ZH-CN  android              9   \n",
       "587121      Xiaomi             MI 8    NAN  android          7.9.0   \n",
       "636913        OPPO         OPPO R11  ZH-CN  Android          7.1.1   \n",
       "1021074       vivo        VIVO Y67L    NAN  android            6.0   \n",
       "531202      Xiaomi           MI MAX     ZH  android            7.0   \n",
       "339312        vivo      VIVO X9PLUS    NAN  android          7.1.2   \n",
       "543409       360手机         1607-A01    NAN  android          7.1.1   \n",
       "222102   smartisan            OS105  ZH-CN  Android          7.1.1   \n",
       "453553        vivo           V1813T  ZH-CN  Android          8.1.0   \n",
       "547293        OPPO        OPPO R9ST  ZH-CN  Android          6.0.1   \n",
       "779543        vivo          VIVO V3    NAN  android          5.1.1   \n",
       "389304        OPPO      HISENSE F23    NAN  android          7.1.2   \n",
       "886666        vivo         VIVO Y85    NAN  android          8.1.0   \n",
       "333136        OPPO          VIVO Z1    NAN  android          8.1.0   \n",
       "1071690       vivo         VIVO X21  ZH-CN  Android          8.1.0   \n",
       "385661        OPPO        VIVO Y71A     CN  android          8.1.0   \n",
       "794155      HUAWEI         LYA-AL00     ZH  android              9   \n",
       "687797        OPPO           PBAM00    NAN  android          8.1.0   \n",
       "828496        vivo       VIVO NEX A  ZH-CN  Android          8.1.0   \n",
       "458186       HONOR         PCT-AL10  ZH-CN  android              9   \n",
       "87122         OPPO           PBCM10    NAN  android            8.1   \n",
       "715869        OPPO           PACM00    NAN  android          8.1.0   \n",
       "1066927     xiaomi     REDMI 5 PLUS    NAN  android  Android_8.1.0   \n",
       "507879        OPPO    ONEPLUS A6000    NAN  android              9   \n",
       "704029          华为         LON-AL00    NAN  android              9   \n",
       "235178      Xiaomi          MI 9 SE  ZH-CN  android              9   \n",
       "886560     OnePlus    ONEPLUS A6010  ZH-CN  android              9   \n",
       "685799      GIONEE           GN8003  ZH-CN  android            6.0   \n",
       "298850        vivo           V1818A  ZH-CN  Android          8.1.0   \n",
       "58187         OPPO         OPPO R11    NAN  android  Android_8.1.0   \n",
       "708356        OPPO    OPPO R9S PLUS    NAN  android          6.0.1   \n",
       "707992      HUAWEI         EML AL00  ZH-CN  Android          9.0.0   \n",
       "868126        vivo         VIVO X23    NAN  android          8.1.0   \n",
       "633504        OPPO           PBAM00  ZH-CN  Android          8.1.0   \n",
       "492130        OPPO          DAZEN 6    NAN  android          7.1.1   \n",
       "380165     samsung         SM-G9280    NAN  android          7.9.0   \n",
       "709712        OPPO        OPPO A53M    NAN  android          5.1.1   \n",
       "123662      HUAWEI        JKM AL00B  ZH-CN  Android          8.1.0   \n",
       "757446        OPPO        OPPO R11S  ZH-CN  Android          7.1.1   \n",
       "248866    JKM-AL00  HUAWEI JKM-AL00  ZH-CN  Android          8.1.0   \n",
       "200274        OPPO           PBFM00  ZH-CN  Android          8.1.0   \n",
       "\n",
       "                     ver  \n",
       "1074591            4.9.3  \n",
       "678803          30927000  \n",
       "1078256            7.1.5  \n",
       "510509           8.5.7.0  \n",
       "825410           8.5.1.1  \n",
       "729213          30927067  \n",
       "19824            5.2.5.1  \n",
       "364601          30927000  \n",
       "823046          30927000  \n",
       "826631       5.76.2.6040  \n",
       "587121          30927000  \n",
       "636913   3.2.1.0603.1707  \n",
       "1021074         30927000  \n",
       "531202             6.0.5  \n",
       "339312          30927000  \n",
       "543409          30927000  \n",
       "222102            521000  \n",
       "453553          30927000  \n",
       "547293             3.0.6  \n",
       "779543          30927000  \n",
       "389304          30927000  \n",
       "886666          30927000  \n",
       "333136          30927000  \n",
       "1071690         30928000  \n",
       "385661           8.5.7.1  \n",
       "794155             7.1.5  \n",
       "687797             5.0.1  \n",
       "828496          30927000  \n",
       "458186       5.76.2.6060  \n",
       "87122              4.7.5  \n",
       "715869             5.0.1  \n",
       "1066927         30927000  \n",
       "507879          30927000  \n",
       "704029          30927000  \n",
       "235178       5.76.2.6060  \n",
       "886560       6.00.2.6140  \n",
       "685799          6.6.3.cu  \n",
       "298850          30927000  \n",
       "58187           30927000  \n",
       "708356          30927000  \n",
       "707992          30927000  \n",
       "868126          30927000  \n",
       "633504          30927000  \n",
       "492130          30927000  \n",
       "380165          30927000  \n",
       "709712             4.6.1  \n",
       "123662          30928000  \n",
       "757446            5.38.0  \n",
       "248866               112  \n",
       "200274               1.0  "
      ]
     },
     "execution_count": 100,
     "metadata": {},
     "output_type": "execute_result"
    }
   ],
   "source": [
    "train[['make','model','lan','os','osv','ver']].sample(50)"
   ]
  },
  {
   "cell_type": "code",
   "execution_count": 47,
   "metadata": {},
   "outputs": [
    {
     "data": {
      "text/html": [
       "<div>\n",
       "<style scoped>\n",
       "    .dataframe tbody tr th:only-of-type {\n",
       "        vertical-align: middle;\n",
       "    }\n",
       "\n",
       "    .dataframe tbody tr th {\n",
       "        vertical-align: top;\n",
       "    }\n",
       "\n",
       "    .dataframe thead th {\n",
       "        text-align: right;\n",
       "    }\n",
       "</style>\n",
       "<table border=\"1\" class=\"dataframe\">\n",
       "  <thead>\n",
       "    <tr style=\"text-align: right;\">\n",
       "      <th></th>\n",
       "      <th>adidmd5</th>\n",
       "      <th>adunitshowid</th>\n",
       "      <th>apptype</th>\n",
       "      <th>carrier</th>\n",
       "      <th>city</th>\n",
       "      <th>dvctype</th>\n",
       "      <th>h</th>\n",
       "      <th>idfamd5</th>\n",
       "      <th>imeimd5</th>\n",
       "      <th>ip</th>\n",
       "      <th>label</th>\n",
       "      <th>lan</th>\n",
       "      <th>macmd5</th>\n",
       "      <th>make</th>\n",
       "      <th>mediashowid</th>\n",
       "      <th>model</th>\n",
       "      <th>nginxtime</th>\n",
       "      <th>ntt</th>\n",
       "      <th>openudidmd5</th>\n",
       "      <th>orientation</th>\n",
       "      <th>os</th>\n",
       "      <th>osv</th>\n",
       "      <th>pkgname</th>\n",
       "      <th>ppi</th>\n",
       "      <th>province</th>\n",
       "      <th>reqrealip</th>\n",
       "      <th>sid</th>\n",
       "      <th>ver</th>\n",
       "      <th>w</th>\n",
       "    </tr>\n",
       "  </thead>\n",
       "  <tbody>\n",
       "    <tr>\n",
       "      <th>788459</th>\n",
       "      <td>532c268f258e839dc4851fa19df6bdcd</td>\n",
       "      <td>e7f79bda2b839f7debffe13ee6df818f</td>\n",
       "      <td>221.0</td>\n",
       "      <td>46000.0</td>\n",
       "      <td>南京市</td>\n",
       "      <td>0.0</td>\n",
       "      <td>1920.0</td>\n",
       "      <td>empty</td>\n",
       "      <td>558c90937116e9d637cf03c903c889dd</td>\n",
       "      <td>221.130.50.221</td>\n",
       "      <td>0.0</td>\n",
       "      <td>NaN</td>\n",
       "      <td>3ec3358905b0b5e4f85b513bd2223282</td>\n",
       "      <td>三星</td>\n",
       "      <td>f4658ac564ae09266976ac30e0f8f582</td>\n",
       "      <td>SM-N9008V</td>\n",
       "      <td>1.559633e+12</td>\n",
       "      <td>2.0</td>\n",
       "      <td>empty</td>\n",
       "      <td>0.0</td>\n",
       "      <td>android</td>\n",
       "      <td>5.0</td>\n",
       "      <td>0a3215caf48d92de4f8ab34dd07d6f37</td>\n",
       "      <td>0.0</td>\n",
       "      <td>-1.0</td>\n",
       "      <td>180.163.255.230</td>\n",
       "      <td>db1a5862-b6a0-4ceb-b5b5-bc6e40c4a311-155963344...</td>\n",
       "      <td>NaN</td>\n",
       "      <td>1080.0</td>\n",
       "    </tr>\n",
       "    <tr>\n",
       "      <th>186503</th>\n",
       "      <td>89d0ad82015fb6efd115915c3253fdcd</td>\n",
       "      <td>9420c665f251cf88ce076a949536faa6</td>\n",
       "      <td>322.0</td>\n",
       "      <td>46000.0</td>\n",
       "      <td>泉州市</td>\n",
       "      <td>2.0</td>\n",
       "      <td>1280.0</td>\n",
       "      <td>empty</td>\n",
       "      <td>13d2e7e140eb3a5052aa931aa6554303</td>\n",
       "      <td>36.250.92.147</td>\n",
       "      <td>0.0</td>\n",
       "      <td>zh</td>\n",
       "      <td>empty</td>\n",
       "      <td>ZTE</td>\n",
       "      <td>bc1cd52e0e3967e0ce9cf611237d420f</td>\n",
       "      <td>ZTE+BA602</td>\n",
       "      <td>1.559997e+12</td>\n",
       "      <td>2.0</td>\n",
       "      <td>empty</td>\n",
       "      <td>0.0</td>\n",
       "      <td>android</td>\n",
       "      <td>6.0</td>\n",
       "      <td>365fadab35f2a237e48cd529dd8f699b</td>\n",
       "      <td>0.0</td>\n",
       "      <td>-1.0</td>\n",
       "      <td>39.107.229.254</td>\n",
       "      <td>6d5af5b5-eca1-4c83-9326-c1183fb7cbff-155999738...</td>\n",
       "      <td>3.18.2</td>\n",
       "      <td>720.0</td>\n",
       "    </tr>\n",
       "    <tr>\n",
       "      <th>475892</th>\n",
       "      <td>ca488f04774a3a87b76c7395b8387966</td>\n",
       "      <td>48872f54fb72e0ab1e47fbb62e1fcbbf</td>\n",
       "      <td>301.0</td>\n",
       "      <td>46000.0</td>\n",
       "      <td>松原市</td>\n",
       "      <td>2.0</td>\n",
       "      <td>1523.0</td>\n",
       "      <td>empty</td>\n",
       "      <td>4440daf1bb2aeeb98b9d5f31108a95d9</td>\n",
       "      <td>122.141.13.75</td>\n",
       "      <td>1.0</td>\n",
       "      <td>zh-CN</td>\n",
       "      <td>10227dbbb4033079c54c8a37dde5e009</td>\n",
       "      <td>HUAWEI</td>\n",
       "      <td>c5e90bcf2b51e671bb4acce9c54b88e5</td>\n",
       "      <td>EML-AL00</td>\n",
       "      <td>1.559807e+12</td>\n",
       "      <td>2.0</td>\n",
       "      <td>empty</td>\n",
       "      <td>0.0</td>\n",
       "      <td>Android</td>\n",
       "      <td>9</td>\n",
       "      <td>b08f7a5b9308b6232b560d6aabbe71f9</td>\n",
       "      <td>480.0</td>\n",
       "      <td>-1.0</td>\n",
       "      <td>116.62.79.213</td>\n",
       "      <td>79fe28b1-d3f2-40d2-b038-c786f9f3c31e-155980683...</td>\n",
       "      <td>1.0</td>\n",
       "      <td>720.0</td>\n",
       "    </tr>\n",
       "    <tr>\n",
       "      <th>1014066</th>\n",
       "      <td>22951b87312473ca0c1fef5ab19b6d8c</td>\n",
       "      <td>ae3ea1765eade8fe1bf7c1628b8b60f1</td>\n",
       "      <td>318.0</td>\n",
       "      <td>46001.0</td>\n",
       "      <td>惠州市</td>\n",
       "      <td>2.0</td>\n",
       "      <td>1920.0</td>\n",
       "      <td>empty</td>\n",
       "      <td>7eb1b58a00c7dbcc900f78d0003d6c7f</td>\n",
       "      <td>58.255.18.17</td>\n",
       "      <td>NaN</td>\n",
       "      <td>zh-CN</td>\n",
       "      <td>87086dbffddd15bc4ed6ecae04a2849c</td>\n",
       "      <td>OPPO</td>\n",
       "      <td>dc48a526835bf9f2b843084a42359d72</td>\n",
       "      <td>NEM-AL10</td>\n",
       "      <td>1.560140e+12</td>\n",
       "      <td>2.0</td>\n",
       "      <td>empty</td>\n",
       "      <td>0.0</td>\n",
       "      <td>android</td>\n",
       "      <td>6.0</td>\n",
       "      <td>empty</td>\n",
       "      <td>480.0</td>\n",
       "      <td>-1.0</td>\n",
       "      <td>47.96.36.179</td>\n",
       "      <td>5756bde2-4103-4097-a523-d75f09fe3541-156013958...</td>\n",
       "      <td>2.2.1</td>\n",
       "      <td>1080.0</td>\n",
       "    </tr>\n",
       "    <tr>\n",
       "      <th>203507</th>\n",
       "      <td>e012cef0c54d32098b90dabe37e79542</td>\n",
       "      <td>352c0094be0e4c311f7f713ecbfb5847</td>\n",
       "      <td>223.0</td>\n",
       "      <td>46000.0</td>\n",
       "      <td>南通市</td>\n",
       "      <td>2.0</td>\n",
       "      <td>854.0</td>\n",
       "      <td>empty</td>\n",
       "      <td>0bb9b31def34017ee8d73026693d27b2</td>\n",
       "      <td>112.0.181.231</td>\n",
       "      <td>0.0</td>\n",
       "      <td>zh-CN</td>\n",
       "      <td>b8a51b63826ce5e5e5ae0973476228f3</td>\n",
       "      <td>OPPO</td>\n",
       "      <td>29c116d2e0f8cb173ebfd758dae81b21</td>\n",
       "      <td>A31</td>\n",
       "      <td>1.559923e+12</td>\n",
       "      <td>2.0</td>\n",
       "      <td>empty</td>\n",
       "      <td>0.0</td>\n",
       "      <td>Android</td>\n",
       "      <td>4.4.4</td>\n",
       "      <td>5a23466bee3818349bca51d7446994a2</td>\n",
       "      <td>240.0</td>\n",
       "      <td>-1.0</td>\n",
       "      <td>36.7.172.120</td>\n",
       "      <td>db5b72f3-1d73-47c9-9900-017178541080-155992324...</td>\n",
       "      <td>9.0.9070</td>\n",
       "      <td>480.0</td>\n",
       "    </tr>\n",
       "    <tr>\n",
       "      <th>215297</th>\n",
       "      <td>21e5c8fa64ea15679997a492fdb26fd6</td>\n",
       "      <td>5d8a835eb4121a512a59756ef4b2c747</td>\n",
       "      <td>336.0</td>\n",
       "      <td>46000.0</td>\n",
       "      <td>南阳市</td>\n",
       "      <td>2.0</td>\n",
       "      <td>2340.0</td>\n",
       "      <td>empty</td>\n",
       "      <td>432abbabf8d6a2313559a221eea34c5f</td>\n",
       "      <td>117.136.22.45</td>\n",
       "      <td>1.0</td>\n",
       "      <td>Zh-CN</td>\n",
       "      <td>2408c710977177815f01fbc344dedc8b</td>\n",
       "      <td>PAR-AL00</td>\n",
       "      <td>8a4086fbef59f54c7a613d3d8b621803</td>\n",
       "      <td>HUAWEI PAR-AL00</td>\n",
       "      <td>1.559989e+12</td>\n",
       "      <td>6.0</td>\n",
       "      <td>empty</td>\n",
       "      <td>0.0</td>\n",
       "      <td>Android</td>\n",
       "      <td>9</td>\n",
       "      <td>cd2323f90b21453f4d8c502c0e5bd0d7</td>\n",
       "      <td>0.0</td>\n",
       "      <td>-1.0</td>\n",
       "      <td>39.96.165.213</td>\n",
       "      <td>c19bad52-cc59-4493-b874-c35e34af7f34-155998882...</td>\n",
       "      <td>470</td>\n",
       "      <td>1080.0</td>\n",
       "    </tr>\n",
       "    <tr>\n",
       "      <th>578943</th>\n",
       "      <td>62b67fdb3568e8f9511d8bdcf88adf38</td>\n",
       "      <td>5283117130625ebe4413e3719679a495</td>\n",
       "      <td>302.0</td>\n",
       "      <td>46000.0</td>\n",
       "      <td>广州市</td>\n",
       "      <td>2.0</td>\n",
       "      <td>2340.0</td>\n",
       "      <td>empty</td>\n",
       "      <td>8728378b8f98ae4a253f4ac9b5c7ac1e</td>\n",
       "      <td>117.136.32.83</td>\n",
       "      <td>1.0</td>\n",
       "      <td>zh</td>\n",
       "      <td>e379c437fa18aeef745f063aab1194d8</td>\n",
       "      <td>HUAWEI</td>\n",
       "      <td>8fab8557d62202df2da54f4c8ee1f1e8</td>\n",
       "      <td>JSN-AL00A</td>\n",
       "      <td>1.559801e+12</td>\n",
       "      <td>6.0</td>\n",
       "      <td>empty</td>\n",
       "      <td>0.0</td>\n",
       "      <td>android</td>\n",
       "      <td>8.1</td>\n",
       "      <td>a4279a3b769d4367f97e5a3ee819a57d</td>\n",
       "      <td>480.0</td>\n",
       "      <td>-1.0</td>\n",
       "      <td>120.132.66.52</td>\n",
       "      <td>f7f2c205-75fc-419d-ad5e-4dc79018bd01-155980126...</td>\n",
       "      <td>7.1.5</td>\n",
       "      <td>1080.0</td>\n",
       "    </tr>\n",
       "    <tr>\n",
       "      <th>921851</th>\n",
       "      <td>e0addcfec0f4539156f25bb09939a3dc</td>\n",
       "      <td>f5ab4e983042c74caddfa1921bc1895f</td>\n",
       "      <td>326.0</td>\n",
       "      <td>46000.0</td>\n",
       "      <td>甘南藏族自治州</td>\n",
       "      <td>2.0</td>\n",
       "      <td>2248.0</td>\n",
       "      <td>empty</td>\n",
       "      <td>e59e2b4cd1ff297b793a6ab9691868c6</td>\n",
       "      <td>180.95.195.147</td>\n",
       "      <td>1.0</td>\n",
       "      <td>zh-CN</td>\n",
       "      <td>0f607264fc6318a92b9e13c65db7cd3c</td>\n",
       "      <td>Xiaomi</td>\n",
       "      <td>25ad2d02765793b229e8e468a6203269</td>\n",
       "      <td>MI 8</td>\n",
       "      <td>1.559573e+12</td>\n",
       "      <td>6.0</td>\n",
       "      <td>empty</td>\n",
       "      <td>0.0</td>\n",
       "      <td>android</td>\n",
       "      <td>9</td>\n",
       "      <td>empty</td>\n",
       "      <td>0.0</td>\n",
       "      <td>-1.0</td>\n",
       "      <td>101.132.187.57</td>\n",
       "      <td>44c3630d-b408-49a1-a422-ff3be50730d1-155957267...</td>\n",
       "      <td>5.76.2.6040</td>\n",
       "      <td>1080.0</td>\n",
       "    </tr>\n",
       "    <tr>\n",
       "      <th>893037</th>\n",
       "      <td>a072312426aed081c67574f6ff6c0a9b</td>\n",
       "      <td>bcf54df1636ab72824862df236704a22</td>\n",
       "      <td>336.0</td>\n",
       "      <td>46000.0</td>\n",
       "      <td>宿迁市</td>\n",
       "      <td>2.0</td>\n",
       "      <td>1080.0</td>\n",
       "      <td>empty</td>\n",
       "      <td>9a740ff6abf51a88c5d2e6209233e9f0</td>\n",
       "      <td>112.20.236.52</td>\n",
       "      <td>1.0</td>\n",
       "      <td>zh-CN</td>\n",
       "      <td>5edccae004e173eb91fdf53669b3613d</td>\n",
       "      <td>vivo</td>\n",
       "      <td>59231e97479892bd51b467733ac76b63</td>\n",
       "      <td>VIVO Y85</td>\n",
       "      <td>1.559634e+12</td>\n",
       "      <td>2.0</td>\n",
       "      <td>empty</td>\n",
       "      <td>0.0</td>\n",
       "      <td>Android</td>\n",
       "      <td>8.1.0</td>\n",
       "      <td>fed933be757067db32b40ca74143c08c</td>\n",
       "      <td>3.0</td>\n",
       "      <td>-1.0</td>\n",
       "      <td>106.75.116.197</td>\n",
       "      <td>9e448516-633e-4270-b2ca-ce8b8a2dcd27-155963414...</td>\n",
       "      <td>3.0.6</td>\n",
       "      <td>2280.0</td>\n",
       "    </tr>\n",
       "    <tr>\n",
       "      <th>1048151</th>\n",
       "      <td>17f0491925e03142a695b80e574158a0</td>\n",
       "      <td>907d0f8c29663840491577a21c7b612a</td>\n",
       "      <td>280.0</td>\n",
       "      <td>46000.0</td>\n",
       "      <td>合肥市</td>\n",
       "      <td>2.0</td>\n",
       "      <td>1520.0</td>\n",
       "      <td>empty</td>\n",
       "      <td>d90f60fad1b39b4657f79c4f135ffa7b</td>\n",
       "      <td>117.136.101.114</td>\n",
       "      <td>NaN</td>\n",
       "      <td>zh-CN</td>\n",
       "      <td>5af5d5a7074ebd1645c0666f2644c8f0</td>\n",
       "      <td>OPPO</td>\n",
       "      <td>ca64a500000d84c8fcb8a0587d0e1e0c</td>\n",
       "      <td>PBAT00</td>\n",
       "      <td>1.560165e+12</td>\n",
       "      <td>6.0</td>\n",
       "      <td>empty</td>\n",
       "      <td>0.0</td>\n",
       "      <td>Android</td>\n",
       "      <td>8.1.0</td>\n",
       "      <td>2d2664e827bcbb8b07100c7fbe072e9b</td>\n",
       "      <td>2.0</td>\n",
       "      <td>-1.0</td>\n",
       "      <td>180.76.181.7</td>\n",
       "      <td>3f241453-7843-4a5e-b83a-ec509b1c86fd-156016538...</td>\n",
       "      <td>11.11.0</td>\n",
       "      <td>720.0</td>\n",
       "    </tr>\n",
       "    <tr>\n",
       "      <th>599313</th>\n",
       "      <td>d402a43f27464dea27813110ee9f31bf</td>\n",
       "      <td>e7f79bda2b839f7debffe13ee6df818f</td>\n",
       "      <td>221.0</td>\n",
       "      <td>46001.0</td>\n",
       "      <td>北京市</td>\n",
       "      <td>0.0</td>\n",
       "      <td>2160.0</td>\n",
       "      <td>empty</td>\n",
       "      <td>ed851a13d45add32a0d88ab854d1c309</td>\n",
       "      <td>124.64.16.227</td>\n",
       "      <td>0.0</td>\n",
       "      <td>NaN</td>\n",
       "      <td>empty</td>\n",
       "      <td>NaN</td>\n",
       "      <td>f4658ac564ae09266976ac30e0f8f582</td>\n",
       "      <td>1801-A01</td>\n",
       "      <td>1.559826e+12</td>\n",
       "      <td>6.0</td>\n",
       "      <td>empty</td>\n",
       "      <td>0.0</td>\n",
       "      <td>android</td>\n",
       "      <td>7.1.1</td>\n",
       "      <td>0a3215caf48d92de4f8ab34dd07d6f37</td>\n",
       "      <td>0.0</td>\n",
       "      <td>2.0</td>\n",
       "      <td>180.163.220.46</td>\n",
       "      <td>ff3c4c2b-e48c-4a9e-afd8-01a7b8160250-155982556...</td>\n",
       "      <td>NaN</td>\n",
       "      <td>1080.0</td>\n",
       "    </tr>\n",
       "    <tr>\n",
       "      <th>484373</th>\n",
       "      <td>6628cbc7f8092b09912c3a7f78858e95</td>\n",
       "      <td>67fd2f2b660bdc8c47eaeba31474af3e</td>\n",
       "      <td>265.0</td>\n",
       "      <td>-1.0</td>\n",
       "      <td>北京市</td>\n",
       "      <td>2.0</td>\n",
       "      <td>0.0</td>\n",
       "      <td>empty</td>\n",
       "      <td>7aa76884b815778d73e1f8007139454c</td>\n",
       "      <td>114.247.56.190</td>\n",
       "      <td>0.0</td>\n",
       "      <td>NaN</td>\n",
       "      <td>bc92c31bc9de56c1c2a87c0a9ca1d917</td>\n",
       "      <td>华为</td>\n",
       "      <td>4d3d4e0848574718a6b26b2920ef1c15</td>\n",
       "      <td>HUAWEI+MLA-AL10</td>\n",
       "      <td>1.559808e+12</td>\n",
       "      <td>2.0</td>\n",
       "      <td>empty</td>\n",
       "      <td>0.0</td>\n",
       "      <td>android</td>\n",
       "      <td>6.0</td>\n",
       "      <td>6e49480920d066e575d0fb181410b4da</td>\n",
       "      <td>0.0</td>\n",
       "      <td>2.0</td>\n",
       "      <td>154.8.131.102</td>\n",
       "      <td>3a44e27e-7223-4cc3-b31a-31a5e73dd629-155980813...</td>\n",
       "      <td>NaN</td>\n",
       "      <td>0.0</td>\n",
       "    </tr>\n",
       "    <tr>\n",
       "      <th>1046881</th>\n",
       "      <td>empty</td>\n",
       "      <td>d0267547ad324d53078c09095c2e1148</td>\n",
       "      <td>336.0</td>\n",
       "      <td>46000.0</td>\n",
       "      <td>成都市</td>\n",
       "      <td>0.0</td>\n",
       "      <td>0.0</td>\n",
       "      <td>empty</td>\n",
       "      <td>69f5d8c6f4d8483293e5cd20a9729265</td>\n",
       "      <td>118.116.58.57</td>\n",
       "      <td>NaN</td>\n",
       "      <td>NaN</td>\n",
       "      <td>empty</td>\n",
       "      <td>vivo</td>\n",
       "      <td>06765782b6564446531bf6795f0fdc48</td>\n",
       "      <td>VIVO X21</td>\n",
       "      <td>1.560167e+12</td>\n",
       "      <td>2.0</td>\n",
       "      <td>empty</td>\n",
       "      <td>0.0</td>\n",
       "      <td>android</td>\n",
       "      <td>8.1.0</td>\n",
       "      <td>d8ddc5d56672fe74afac2a765d258f0a</td>\n",
       "      <td>0.0</td>\n",
       "      <td>-1.0</td>\n",
       "      <td>119.254.201.249</td>\n",
       "      <td>92836e86-3ee2-42b4-8ae4-9f03a924b8f3-156016699...</td>\n",
       "      <td>NaN</td>\n",
       "      <td>0.0</td>\n",
       "    </tr>\n",
       "    <tr>\n",
       "      <th>723244</th>\n",
       "      <td>ac774d5b90a642e500de68b91465678f</td>\n",
       "      <td>e7f79bda2b839f7debffe13ee6df818f</td>\n",
       "      <td>221.0</td>\n",
       "      <td>46001.0</td>\n",
       "      <td>太原市</td>\n",
       "      <td>0.0</td>\n",
       "      <td>2160.0</td>\n",
       "      <td>empty</td>\n",
       "      <td>015e5abb00eb525daa94519a996a1c52</td>\n",
       "      <td>223.11.6.37</td>\n",
       "      <td>0.0</td>\n",
       "      <td>NaN</td>\n",
       "      <td>empty</td>\n",
       "      <td>NaN</td>\n",
       "      <td>f4658ac564ae09266976ac30e0f8f582</td>\n",
       "      <td>OC105</td>\n",
       "      <td>1.559704e+12</td>\n",
       "      <td>2.0</td>\n",
       "      <td>empty</td>\n",
       "      <td>0.0</td>\n",
       "      <td>android</td>\n",
       "      <td>7.1.2</td>\n",
       "      <td>0a3215caf48d92de4f8ab34dd07d6f37</td>\n",
       "      <td>0.0</td>\n",
       "      <td>-1.0</td>\n",
       "      <td>180.163.255.231</td>\n",
       "      <td>5a69e8b6-c6fa-49dd-8e04-2f082936da88-155970386...</td>\n",
       "      <td>NaN</td>\n",
       "      <td>1080.0</td>\n",
       "    </tr>\n",
       "    <tr>\n",
       "      <th>1038892</th>\n",
       "      <td>empty</td>\n",
       "      <td>f67a95c5c748a5bc252d3e854f8e4977</td>\n",
       "      <td>301.0</td>\n",
       "      <td>46000.0</td>\n",
       "      <td>南京市</td>\n",
       "      <td>2.0</td>\n",
       "      <td>780.0</td>\n",
       "      <td>empty</td>\n",
       "      <td>8eda00cfae27b7ffd597b87c67526662</td>\n",
       "      <td>49.77.234.103</td>\n",
       "      <td>NaN</td>\n",
       "      <td>zh-CN</td>\n",
       "      <td>empty</td>\n",
       "      <td>HONOR</td>\n",
       "      <td>d53d2af198ebef9544f0823c3c8e84f8</td>\n",
       "      <td>JSN AL00</td>\n",
       "      <td>1.560155e+12</td>\n",
       "      <td>2.0</td>\n",
       "      <td>empty</td>\n",
       "      <td>1.0</td>\n",
       "      <td>Android</td>\n",
       "      <td>9.0.0</td>\n",
       "      <td>170a88a12e36f8a0f1b73442304398b1</td>\n",
       "      <td>0.0</td>\n",
       "      <td>-1.0</td>\n",
       "      <td>39.96.159.159</td>\n",
       "      <td>b90b3ba9-317c-498d-8e60-f163701be009-156015520...</td>\n",
       "      <td>30928000</td>\n",
       "      <td>360.0</td>\n",
       "    </tr>\n",
       "    <tr>\n",
       "      <th>975943</th>\n",
       "      <td>c2931a3ddc90dfac5c4491fee41d6369</td>\n",
       "      <td>f752b4dbcf56662d9042436425b8c164</td>\n",
       "      <td>367.0</td>\n",
       "      <td>46000.0</td>\n",
       "      <td>西安市</td>\n",
       "      <td>2.0</td>\n",
       "      <td>0.0</td>\n",
       "      <td>empty</td>\n",
       "      <td>a56a99d63e1a57c22cd9c76f637ada65</td>\n",
       "      <td>36.44.140.144</td>\n",
       "      <td>1.0</td>\n",
       "      <td>cn</td>\n",
       "      <td>0f607264fc6318a92b9e13c65db7cd3c</td>\n",
       "      <td>NaN</td>\n",
       "      <td>6a201781abc86a0666c3e94b6638c920</td>\n",
       "      <td>PCAM00</td>\n",
       "      <td>1.559563e+12</td>\n",
       "      <td>2.0</td>\n",
       "      <td>empty</td>\n",
       "      <td>0.0</td>\n",
       "      <td>android</td>\n",
       "      <td>9</td>\n",
       "      <td>2477c87258c08e20d9b3d308867ae4cd</td>\n",
       "      <td>0.0</td>\n",
       "      <td>-1.0</td>\n",
       "      <td>124.243.219.138</td>\n",
       "      <td>a8e9604c-d421-4572-98aa-b16fb540d8a5-155956299...</td>\n",
       "      <td>8.5.6.0</td>\n",
       "      <td>0.0</td>\n",
       "    </tr>\n",
       "    <tr>\n",
       "      <th>229373</th>\n",
       "      <td>522e5dc4d9c9a5bb7c67dabb98bc6db5</td>\n",
       "      <td>793105ec98cc63b82afbe3ac539bf038</td>\n",
       "      <td>302.0</td>\n",
       "      <td>46000.0</td>\n",
       "      <td>北京市</td>\n",
       "      <td>2.0</td>\n",
       "      <td>2136.0</td>\n",
       "      <td>empty</td>\n",
       "      <td>8de69b5854f0954766a902571a297fd1</td>\n",
       "      <td>223.104.64.153</td>\n",
       "      <td>0.0</td>\n",
       "      <td>zh-CN</td>\n",
       "      <td>e7198202d856ead32a8ee52528b92279</td>\n",
       "      <td>OPPO</td>\n",
       "      <td>fc31b7779ea0566d2c7056da22cc9eef</td>\n",
       "      <td>PACM00</td>\n",
       "      <td>1.559976e+12</td>\n",
       "      <td>6.0</td>\n",
       "      <td>empty</td>\n",
       "      <td>0.0</td>\n",
       "      <td>Android</td>\n",
       "      <td>8.1.0</td>\n",
       "      <td>df88db6da0b6b226860ebc6ae03699e2</td>\n",
       "      <td>480.0</td>\n",
       "      <td>2.0</td>\n",
       "      <td>116.62.59.66</td>\n",
       "      <td>9546dac0-6dd3-4715-b0de-e35b7a7fd9b2-155997618...</td>\n",
       "      <td>5.2.4</td>\n",
       "      <td>1080.0</td>\n",
       "    </tr>\n",
       "    <tr>\n",
       "      <th>322013</th>\n",
       "      <td>empty</td>\n",
       "      <td>f51ec99a47731ba46985a4530c923069</td>\n",
       "      <td>301.0</td>\n",
       "      <td>46000.0</td>\n",
       "      <td>烟台市</td>\n",
       "      <td>2.0</td>\n",
       "      <td>760.0</td>\n",
       "      <td>empty</td>\n",
       "      <td>4b5ec43519f3785bd2715824e95040d4</td>\n",
       "      <td>39.73.165.28</td>\n",
       "      <td>1.0</td>\n",
       "      <td>zh-CN</td>\n",
       "      <td>empty</td>\n",
       "      <td>vivo</td>\n",
       "      <td>d53d2af198ebef9544f0823c3c8e84f8</td>\n",
       "      <td>VIVO X21I A</td>\n",
       "      <td>1.559887e+12</td>\n",
       "      <td>2.0</td>\n",
       "      <td>empty</td>\n",
       "      <td>1.0</td>\n",
       "      <td>Android</td>\n",
       "      <td>8.1.0</td>\n",
       "      <td>170a88a12e36f8a0f1b73442304398b1</td>\n",
       "      <td>0.0</td>\n",
       "      <td>-1.0</td>\n",
       "      <td>39.96.159.160</td>\n",
       "      <td>3f55717b-58ef-447c-8a7b-557caa0c6de4-155988658...</td>\n",
       "      <td>30400000</td>\n",
       "      <td>360.0</td>\n",
       "    </tr>\n",
       "    <tr>\n",
       "      <th>887145</th>\n",
       "      <td>e3943313aa50fb62a9ccb4f43ab1f83f</td>\n",
       "      <td>ee61b20561a729e8805267105078fb32</td>\n",
       "      <td>265.0</td>\n",
       "      <td>0.0</td>\n",
       "      <td>平顶山市</td>\n",
       "      <td>2.0</td>\n",
       "      <td>0.0</td>\n",
       "      <td>empty</td>\n",
       "      <td>d7c33e9333ff251af32b635d696ba834</td>\n",
       "      <td>61.158.152.38</td>\n",
       "      <td>0.0</td>\n",
       "      <td>NaN</td>\n",
       "      <td>empty</td>\n",
       "      <td>NaN</td>\n",
       "      <td>0c28cf2afaba3174f88e045403d45763</td>\n",
       "      <td>M1852</td>\n",
       "      <td>1.559619e+12</td>\n",
       "      <td>6.0</td>\n",
       "      <td>empty</td>\n",
       "      <td>0.0</td>\n",
       "      <td>android</td>\n",
       "      <td>8.1</td>\n",
       "      <td>empty</td>\n",
       "      <td>0.0</td>\n",
       "      <td>-1.0</td>\n",
       "      <td>101.132.127.114</td>\n",
       "      <td>cd757984-feda-4058-8954-9c9be97c54d4-155961881...</td>\n",
       "      <td>4.9.10</td>\n",
       "      <td>0.0</td>\n",
       "    </tr>\n",
       "    <tr>\n",
       "      <th>512424</th>\n",
       "      <td>empty</td>\n",
       "      <td>4404268364e58fbf10c965a3bbc91924</td>\n",
       "      <td>301.0</td>\n",
       "      <td>46000.0</td>\n",
       "      <td>张家口市</td>\n",
       "      <td>2.0</td>\n",
       "      <td>780.0</td>\n",
       "      <td>empty</td>\n",
       "      <td>6daef9840fc5c82ee7211eb1b00f18a2</td>\n",
       "      <td>111.225.171.222</td>\n",
       "      <td>1.0</td>\n",
       "      <td>zh-CN</td>\n",
       "      <td>empty</td>\n",
       "      <td>HUAWEI</td>\n",
       "      <td>d53d2af198ebef9544f0823c3c8e84f8</td>\n",
       "      <td>PAR AL00</td>\n",
       "      <td>1.559821e+12</td>\n",
       "      <td>2.0</td>\n",
       "      <td>empty</td>\n",
       "      <td>1.0</td>\n",
       "      <td>Android</td>\n",
       "      <td>9.0.0</td>\n",
       "      <td>170a88a12e36f8a0f1b73442304398b1</td>\n",
       "      <td>0.0</td>\n",
       "      <td>-1.0</td>\n",
       "      <td>39.96.159.161</td>\n",
       "      <td>2c4fd674-1e61-40fe-988d-545d76dbe434-155982099...</td>\n",
       "      <td>30928000</td>\n",
       "      <td>360.0</td>\n",
       "    </tr>\n",
       "    <tr>\n",
       "      <th>727488</th>\n",
       "      <td>empty</td>\n",
       "      <td>f67a95c5c748a5bc252d3e854f8e4977</td>\n",
       "      <td>301.0</td>\n",
       "      <td>46000.0</td>\n",
       "      <td>重庆市</td>\n",
       "      <td>2.0</td>\n",
       "      <td>760.0</td>\n",
       "      <td>empty</td>\n",
       "      <td>9421d764efdcfb778c950ccaf3cdd1f2</td>\n",
       "      <td>183.228.73.102</td>\n",
       "      <td>1.0</td>\n",
       "      <td>zh-CN</td>\n",
       "      <td>empty</td>\n",
       "      <td>OPPO</td>\n",
       "      <td>d53d2af198ebef9544f0823c3c8e84f8</td>\n",
       "      <td>PADM00</td>\n",
       "      <td>1.559734e+12</td>\n",
       "      <td>2.0</td>\n",
       "      <td>empty</td>\n",
       "      <td>1.0</td>\n",
       "      <td>Android</td>\n",
       "      <td>8.1.0</td>\n",
       "      <td>170a88a12e36f8a0f1b73442304398b1</td>\n",
       "      <td>0.0</td>\n",
       "      <td>31.0</td>\n",
       "      <td>39.96.159.159</td>\n",
       "      <td>12727187-f9cf-4e39-9bcd-ff4dd1e95096-155973439...</td>\n",
       "      <td>30927000</td>\n",
       "      <td>360.0</td>\n",
       "    </tr>\n",
       "    <tr>\n",
       "      <th>283686</th>\n",
       "      <td>empty</td>\n",
       "      <td>01e7dda5ca1066873e7bfebdccc03416</td>\n",
       "      <td>336.0</td>\n",
       "      <td>46000.0</td>\n",
       "      <td>白城市</td>\n",
       "      <td>0.0</td>\n",
       "      <td>0.0</td>\n",
       "      <td>empty</td>\n",
       "      <td>6422c25b9f9b36bce184925b7894713e</td>\n",
       "      <td>36.104.114.89</td>\n",
       "      <td>0.0</td>\n",
       "      <td>NaN</td>\n",
       "      <td>empty</td>\n",
       "      <td>vivo</td>\n",
       "      <td>06765782b6564446531bf6795f0fdc48</td>\n",
       "      <td>VIVO Y22IL</td>\n",
       "      <td>1.559962e+12</td>\n",
       "      <td>0.0</td>\n",
       "      <td>empty</td>\n",
       "      <td>0.0</td>\n",
       "      <td>android</td>\n",
       "      <td>4.4.2</td>\n",
       "      <td>7685b2e307ec6dd8c3eac59f60b5de52</td>\n",
       "      <td>0.0</td>\n",
       "      <td>-1.0</td>\n",
       "      <td>119.254.201.249</td>\n",
       "      <td>adc675c3-8fa2-442b-95c8-19667a1d208e-155996199...</td>\n",
       "      <td>NaN</td>\n",
       "      <td>0.0</td>\n",
       "    </tr>\n",
       "    <tr>\n",
       "      <th>79899</th>\n",
       "      <td>6b3df6fdbf8ffe0e5b34e0ecf405b989</td>\n",
       "      <td>c317c846ac9da7b89e3b1a770379e65b</td>\n",
       "      <td>318.0</td>\n",
       "      <td>46000.0</td>\n",
       "      <td>忻州市</td>\n",
       "      <td>2.0</td>\n",
       "      <td>1920.0</td>\n",
       "      <td>empty</td>\n",
       "      <td>1671419068693637a972976c7c155d2b</td>\n",
       "      <td>223.10.159.50</td>\n",
       "      <td>0.0</td>\n",
       "      <td>zh-CN</td>\n",
       "      <td>339817bdf1115a934ab0fed7b78c7914</td>\n",
       "      <td>vivo</td>\n",
       "      <td>a51cf88cec32c6cd06703838c50d19ac</td>\n",
       "      <td>VIVO X9</td>\n",
       "      <td>1.560066e+12</td>\n",
       "      <td>2.0</td>\n",
       "      <td>23fd0bd4e682214eb4930d95ab1cc46a</td>\n",
       "      <td>1.0</td>\n",
       "      <td>Android</td>\n",
       "      <td>6.0.1</td>\n",
       "      <td>0ff1fb05e89fd10fb480a9184c2c2d15</td>\n",
       "      <td>480.0</td>\n",
       "      <td>-1.0</td>\n",
       "      <td>211.159.203.243</td>\n",
       "      <td>c5462e17-c533-4afb-a76c-29241e0bbe46-156006592...</td>\n",
       "      <td>521000</td>\n",
       "      <td>1080.0</td>\n",
       "    </tr>\n",
       "    <tr>\n",
       "      <th>807975</th>\n",
       "      <td>f6a2110beb51bb41429fc0a2a6f8d086</td>\n",
       "      <td>e7f79bda2b839f7debffe13ee6df818f</td>\n",
       "      <td>221.0</td>\n",
       "      <td>46000.0</td>\n",
       "      <td>茂名市</td>\n",
       "      <td>0.0</td>\n",
       "      <td>1920.0</td>\n",
       "      <td>empty</td>\n",
       "      <td>07b93d0c0d7f5a94d8a8a622fa4c5ea6</td>\n",
       "      <td>120.231.23.225</td>\n",
       "      <td>0.0</td>\n",
       "      <td>NaN</td>\n",
       "      <td>empty</td>\n",
       "      <td>NaN</td>\n",
       "      <td>f4658ac564ae09266976ac30e0f8f582</td>\n",
       "      <td>1505-A02</td>\n",
       "      <td>1.559616e+12</td>\n",
       "      <td>2.0</td>\n",
       "      <td>empty</td>\n",
       "      <td>0.0</td>\n",
       "      <td>android</td>\n",
       "      <td>6.0.1</td>\n",
       "      <td>0a3215caf48d92de4f8ab34dd07d6f37</td>\n",
       "      <td>0.0</td>\n",
       "      <td>-1.0</td>\n",
       "      <td>180.163.255.230</td>\n",
       "      <td>66e893f7-10a7-4804-bb6a-23957c1f52dd-155961639...</td>\n",
       "      <td>NaN</td>\n",
       "      <td>1080.0</td>\n",
       "    </tr>\n",
       "    <tr>\n",
       "      <th>603673</th>\n",
       "      <td>943ecbb78b92ee6b47ee6e62252ee21a</td>\n",
       "      <td>e75047ac4169618b8961a689ed954151</td>\n",
       "      <td>281.0</td>\n",
       "      <td>-1.0</td>\n",
       "      <td>西安市</td>\n",
       "      <td>2.0</td>\n",
       "      <td>0.0</td>\n",
       "      <td>empty</td>\n",
       "      <td>d094b70a4afbfa74c1136f77f9efb948</td>\n",
       "      <td>1.81.83.235</td>\n",
       "      <td>1.0</td>\n",
       "      <td>NaN</td>\n",
       "      <td>empty</td>\n",
       "      <td>HUAWEI</td>\n",
       "      <td>fc5c28b3674877c00e1cff5f025d223e</td>\n",
       "      <td>POT-AL00A</td>\n",
       "      <td>1.559694e+12</td>\n",
       "      <td>6.0</td>\n",
       "      <td>empty</td>\n",
       "      <td>0.0</td>\n",
       "      <td>android</td>\n",
       "      <td>7.9.2</td>\n",
       "      <td>c3928c124c66197bda97ee4f34a4767e</td>\n",
       "      <td>0.0</td>\n",
       "      <td>-1.0</td>\n",
       "      <td>123.123.219.7</td>\n",
       "      <td>95d785c1-f57c-4dde-90b3-f1910a586ffd-155969381...</td>\n",
       "      <td>NaN</td>\n",
       "      <td>0.0</td>\n",
       "    </tr>\n",
       "    <tr>\n",
       "      <th>195570</th>\n",
       "      <td>c56c36953faaf6aeb003a272a0d689b4</td>\n",
       "      <td>d14a9f6f1293156f608bc0855d48dd17</td>\n",
       "      <td>273.0</td>\n",
       "      <td>46000.0</td>\n",
       "      <td>长沙市</td>\n",
       "      <td>3.0</td>\n",
       "      <td>2137.0</td>\n",
       "      <td>empty</td>\n",
       "      <td>f70e3259022f84506d058e4d34d184c5</td>\n",
       "      <td>222.247.33.147</td>\n",
       "      <td>1.0</td>\n",
       "      <td>zh_CN</td>\n",
       "      <td>24c24bb68e5055f33feae249c843a3f8</td>\n",
       "      <td>HUAWEI</td>\n",
       "      <td>af25d97ac9e2b9f1c240b8e3a10cb1f8</td>\n",
       "      <td>JSN-AL00A</td>\n",
       "      <td>1.560001e+12</td>\n",
       "      <td>2.0</td>\n",
       "      <td>empty</td>\n",
       "      <td>0.0</td>\n",
       "      <td>android</td>\n",
       "      <td>9</td>\n",
       "      <td>empty</td>\n",
       "      <td>0.0</td>\n",
       "      <td>-1.0</td>\n",
       "      <td>120.132.53.176</td>\n",
       "      <td>c78e1f3a-1780-4885-9789-b3ff53ebe259-156000123...</td>\n",
       "      <td>190516</td>\n",
       "      <td>1080.0</td>\n",
       "    </tr>\n",
       "    <tr>\n",
       "      <th>781506</th>\n",
       "      <td>200a0d28ffe0c8ea51cb7901584893af</td>\n",
       "      <td>9f1eadd9092b19bc86ee0cacde1c867f</td>\n",
       "      <td>265.0</td>\n",
       "      <td>0.0</td>\n",
       "      <td>南通市</td>\n",
       "      <td>2.0</td>\n",
       "      <td>0.0</td>\n",
       "      <td>empty</td>\n",
       "      <td>49c0b233cb841f06b3c5336c00bd53e0</td>\n",
       "      <td>117.86.33.161</td>\n",
       "      <td>1.0</td>\n",
       "      <td>NaN</td>\n",
       "      <td>empty</td>\n",
       "      <td>NaN</td>\n",
       "      <td>eec946a5a66c023ec9d3b2ede5900626</td>\n",
       "      <td>OPPO R11S</td>\n",
       "      <td>1.559656e+12</td>\n",
       "      <td>2.0</td>\n",
       "      <td>empty</td>\n",
       "      <td>0.0</td>\n",
       "      <td>android</td>\n",
       "      <td>8.1</td>\n",
       "      <td>empty</td>\n",
       "      <td>0.0</td>\n",
       "      <td>-1.0</td>\n",
       "      <td>47.101.136.176</td>\n",
       "      <td>89a8b5ae-d521-437a-a73b-0ee31cd40426-155965643...</td>\n",
       "      <td>4.7.5</td>\n",
       "      <td>0.0</td>\n",
       "    </tr>\n",
       "    <tr>\n",
       "      <th>755099</th>\n",
       "      <td>0a50347e448ac34821e84a76b3f81ebe</td>\n",
       "      <td>32815afd89d704fe6277c064689564ac</td>\n",
       "      <td>328.0</td>\n",
       "      <td>-1.0</td>\n",
       "      <td>南京市</td>\n",
       "      <td>0.0</td>\n",
       "      <td>1280.0</td>\n",
       "      <td>empty</td>\n",
       "      <td>32cbb4c55508f69b981aa2ebd525c09f</td>\n",
       "      <td>112.0.60.151</td>\n",
       "      <td>0.0</td>\n",
       "      <td>NaN</td>\n",
       "      <td>empty</td>\n",
       "      <td>NaN</td>\n",
       "      <td>00e944ce2b73625c54aaf03356c83bac</td>\n",
       "      <td>NaN</td>\n",
       "      <td>1.559640e+12</td>\n",
       "      <td>2.0</td>\n",
       "      <td>empty</td>\n",
       "      <td>0.0</td>\n",
       "      <td>android</td>\n",
       "      <td>NaN</td>\n",
       "      <td>empty</td>\n",
       "      <td>0.0</td>\n",
       "      <td>-1.0</td>\n",
       "      <td>123.58.191.198</td>\n",
       "      <td>a9954ec0-9cdf-4c6c-a9da-dfc05664bf87-155963979...</td>\n",
       "      <td>NaN</td>\n",
       "      <td>720.0</td>\n",
       "    </tr>\n",
       "    <tr>\n",
       "      <th>88665</th>\n",
       "      <td>51134eabd3478a848347268fbf8eaa2f</td>\n",
       "      <td>empty</td>\n",
       "      <td>-1.0</td>\n",
       "      <td>46000.0</td>\n",
       "      <td>郑州市</td>\n",
       "      <td>2.0</td>\n",
       "      <td>1080.0</td>\n",
       "      <td>empty</td>\n",
       "      <td>800714ffc333a851310e7d8fde1a737a</td>\n",
       "      <td>117.136.104.228</td>\n",
       "      <td>0.0</td>\n",
       "      <td>NaN</td>\n",
       "      <td>0f607264fc6318a92b9e13c65db7cd3c</td>\n",
       "      <td>OPPO</td>\n",
       "      <td>empty</td>\n",
       "      <td>PBCM30</td>\n",
       "      <td>1.560042e+12</td>\n",
       "      <td>5.0</td>\n",
       "      <td>51134eabd3478a848347268fbf8eaa2f</td>\n",
       "      <td>0.0</td>\n",
       "      <td>android</td>\n",
       "      <td>Android_8.1.0</td>\n",
       "      <td>empty</td>\n",
       "      <td>0.0</td>\n",
       "      <td>-1.0</td>\n",
       "      <td>47.93.215.93</td>\n",
       "      <td>ac2ffa9a-89f7-4150-86ff-d9372e6dedae-156004189...</td>\n",
       "      <td>NaN</td>\n",
       "      <td>2196.0</td>\n",
       "    </tr>\n",
       "    <tr>\n",
       "      <th>918893</th>\n",
       "      <td>d7285b39e0cf46b16522a6fffae60194</td>\n",
       "      <td>459cd6e24e5cfec60cee0fe63a89bdba</td>\n",
       "      <td>286.0</td>\n",
       "      <td>46000.0</td>\n",
       "      <td>来宾市</td>\n",
       "      <td>2.0</td>\n",
       "      <td>1920.0</td>\n",
       "      <td>empty</td>\n",
       "      <td>c43a5727bb22284957340f0c4b06a104</td>\n",
       "      <td>106.127.182.71</td>\n",
       "      <td>0.0</td>\n",
       "      <td>zh-CN</td>\n",
       "      <td>e88415a5642281ea45fc761319effd3b</td>\n",
       "      <td>OPPO</td>\n",
       "      <td>67ef697818dbcd3a5de79876fa48d3f8</td>\n",
       "      <td>N5207</td>\n",
       "      <td>1.559543e+12</td>\n",
       "      <td>2.0</td>\n",
       "      <td>empty</td>\n",
       "      <td>0.0</td>\n",
       "      <td>Android</td>\n",
       "      <td>4.4.4</td>\n",
       "      <td>d4c128ffdd918d75c285899579800012</td>\n",
       "      <td>480.0</td>\n",
       "      <td>-1.0</td>\n",
       "      <td>120.92.124.171</td>\n",
       "      <td>0d46bc81-8a3a-4cd0-8b9a-cdf9e81699f5-155954276...</td>\n",
       "      <td>NaN</td>\n",
       "      <td>1080.0</td>\n",
       "    </tr>\n",
       "    <tr>\n",
       "      <th>854008</th>\n",
       "      <td>27617a50bf60260c8a42d77a9cfac217</td>\n",
       "      <td>2d5c619f048e36be4e441ad1b4c44974</td>\n",
       "      <td>326.0</td>\n",
       "      <td>46000.0</td>\n",
       "      <td>苏州市</td>\n",
       "      <td>2.0</td>\n",
       "      <td>2316.0</td>\n",
       "      <td>empty</td>\n",
       "      <td>0029ca22a27641e80dce97a8bed6c6de</td>\n",
       "      <td>112.20.118.187</td>\n",
       "      <td>1.0</td>\n",
       "      <td>zh-CN</td>\n",
       "      <td>0f607264fc6318a92b9e13c65db7cd3c</td>\n",
       "      <td>vivo</td>\n",
       "      <td>25ad2d02765793b229e8e468a6203269</td>\n",
       "      <td>VIVO NEX S</td>\n",
       "      <td>1.559656e+12</td>\n",
       "      <td>2.0</td>\n",
       "      <td>empty</td>\n",
       "      <td>0.0</td>\n",
       "      <td>android</td>\n",
       "      <td>9</td>\n",
       "      <td>empty</td>\n",
       "      <td>0.0</td>\n",
       "      <td>-1.0</td>\n",
       "      <td>47.100.11.90</td>\n",
       "      <td>f6612a76-81ff-4b44-b0bd-f81a6c303ed2-155965555...</td>\n",
       "      <td>5.76.2.6040</td>\n",
       "      <td>1080.0</td>\n",
       "    </tr>\n",
       "    <tr>\n",
       "      <th>811756</th>\n",
       "      <td>empty</td>\n",
       "      <td>6618408bae888ad02c4e0d9bd4d88d29</td>\n",
       "      <td>301.0</td>\n",
       "      <td>46000.0</td>\n",
       "      <td>湛江市</td>\n",
       "      <td>2.0</td>\n",
       "      <td>780.0</td>\n",
       "      <td>empty</td>\n",
       "      <td>b3e6ad0e0545e6bc266fc5f25680cdef</td>\n",
       "      <td>223.104.65.46</td>\n",
       "      <td>1.0</td>\n",
       "      <td>zh-CN</td>\n",
       "      <td>5ba1cf1efeee4f83e91f9c0adc3015e3</td>\n",
       "      <td>OPPO</td>\n",
       "      <td>d53d2af198ebef9544f0823c3c8e84f8</td>\n",
       "      <td>PCAM10</td>\n",
       "      <td>1.559608e+12</td>\n",
       "      <td>5.0</td>\n",
       "      <td>empty</td>\n",
       "      <td>1.0</td>\n",
       "      <td>Android</td>\n",
       "      <td>9.0.0</td>\n",
       "      <td>170a88a12e36f8a0f1b73442304398b1</td>\n",
       "      <td>0.0</td>\n",
       "      <td>-1.0</td>\n",
       "      <td>39.96.159.162</td>\n",
       "      <td>57383bfd-f7f5-4ef4-a004-c08531749ecc-155960810...</td>\n",
       "      <td>30927000</td>\n",
       "      <td>360.0</td>\n",
       "    </tr>\n",
       "    <tr>\n",
       "      <th>64681</th>\n",
       "      <td>65e6f359e50c1b260bdb0c6d8ca7c57e</td>\n",
       "      <td>9e51e9c2c243d34390b80903f181baa0</td>\n",
       "      <td>241.0</td>\n",
       "      <td>0.0</td>\n",
       "      <td>泉州市</td>\n",
       "      <td>2.0</td>\n",
       "      <td>760.0</td>\n",
       "      <td>empty</td>\n",
       "      <td>c39e16d26c7010ac44ba2fab144e93a8</td>\n",
       "      <td>211.97.129.245</td>\n",
       "      <td>1.0</td>\n",
       "      <td>NaN</td>\n",
       "      <td>empty</td>\n",
       "      <td>HUAWEI</td>\n",
       "      <td>6f209d86e0781e637684aa40a20eec3c</td>\n",
       "      <td>LLD-AL20</td>\n",
       "      <td>1.560072e+12</td>\n",
       "      <td>0.0</td>\n",
       "      <td>empty</td>\n",
       "      <td>0.0</td>\n",
       "      <td>android</td>\n",
       "      <td>8.0.0</td>\n",
       "      <td>empty</td>\n",
       "      <td>0.0</td>\n",
       "      <td>-1.0</td>\n",
       "      <td>59.110.124.37</td>\n",
       "      <td>73a3eecb-fd4b-439b-87ec-6322707c901d-156007151...</td>\n",
       "      <td>NaN</td>\n",
       "      <td>360.0</td>\n",
       "    </tr>\n",
       "    <tr>\n",
       "      <th>962562</th>\n",
       "      <td>822ed93fad28d82547a26b77a0a5db95</td>\n",
       "      <td>2af944462e43cd2f59acbbfd37445413</td>\n",
       "      <td>336.0</td>\n",
       "      <td>46000.0</td>\n",
       "      <td>营口市</td>\n",
       "      <td>2.0</td>\n",
       "      <td>2280.0</td>\n",
       "      <td>empty</td>\n",
       "      <td>78ab74d4bbf9bddfd41a5745df91bdce</td>\n",
       "      <td>112.42.178.23</td>\n",
       "      <td>1.0</td>\n",
       "      <td>Zh-CN</td>\n",
       "      <td>9eebe7817716a1403ab6813a50868120</td>\n",
       "      <td>COL-TL10</td>\n",
       "      <td>57b3053174973702549ba88b6017ac30</td>\n",
       "      <td>HONOR COL-TL10</td>\n",
       "      <td>1.559571e+12</td>\n",
       "      <td>2.0</td>\n",
       "      <td>empty</td>\n",
       "      <td>0.0</td>\n",
       "      <td>Android</td>\n",
       "      <td>9</td>\n",
       "      <td>cf4821986014a7fef9d7b7ad8de655e4</td>\n",
       "      <td>0.0</td>\n",
       "      <td>-1.0</td>\n",
       "      <td>39.105.121.43</td>\n",
       "      <td>e16b77da-a243-46d7-a324-b33663027b91-155957126...</td>\n",
       "      <td>228</td>\n",
       "      <td>1080.0</td>\n",
       "    </tr>\n",
       "    <tr>\n",
       "      <th>300337</th>\n",
       "      <td>5b63590fc5eb855203ab9f7ea4b83944</td>\n",
       "      <td>580d13b46b75e6bb2f80d0e38fc3fe2c</td>\n",
       "      <td>318.0</td>\n",
       "      <td>46000.0</td>\n",
       "      <td>北京市</td>\n",
       "      <td>2.0</td>\n",
       "      <td>1280.0</td>\n",
       "      <td>empty</td>\n",
       "      <td>7be7b9c8e6899e87b46add034da149d8</td>\n",
       "      <td>111.201.146.94</td>\n",
       "      <td>0.0</td>\n",
       "      <td>zh-CN</td>\n",
       "      <td>8617d6eaa353bdee0dbaff6278b41854</td>\n",
       "      <td>OPPO</td>\n",
       "      <td>a51cf88cec32c6cd06703838c50d19ac</td>\n",
       "      <td>OPPO A37M</td>\n",
       "      <td>1.559889e+12</td>\n",
       "      <td>2.0</td>\n",
       "      <td>dd1f8e71262c49a778de2490506db591</td>\n",
       "      <td>1.0</td>\n",
       "      <td>Android</td>\n",
       "      <td>5.1</td>\n",
       "      <td>0ff1fb05e89fd10fb480a9184c2c2d15</td>\n",
       "      <td>480.0</td>\n",
       "      <td>2.0</td>\n",
       "      <td>211.159.203.244</td>\n",
       "      <td>6e1264a5-f98d-4650-95f4-e0cd6756058f-155988914...</td>\n",
       "      <td>521000</td>\n",
       "      <td>720.0</td>\n",
       "    </tr>\n",
       "    <tr>\n",
       "      <th>744260</th>\n",
       "      <td>7de700d9e41e105aa8cd14110d82559c</td>\n",
       "      <td>372747b93242b5b4d5e1867f1a3ed651</td>\n",
       "      <td>301.0</td>\n",
       "      <td>46000.0</td>\n",
       "      <td>南昌市</td>\n",
       "      <td>2.0</td>\n",
       "      <td>2340.0</td>\n",
       "      <td>empty</td>\n",
       "      <td>fad9cca56a7c31d1bdbf1e44056d686c</td>\n",
       "      <td>59.52.187.9</td>\n",
       "      <td>1.0</td>\n",
       "      <td>zh-CN</td>\n",
       "      <td>01fa19095fcb9c8f942d5eadd2001bda</td>\n",
       "      <td>vivo</td>\n",
       "      <td>9cfc68d2236479207f09a40d57c6ee0c</td>\n",
       "      <td>V1809T</td>\n",
       "      <td>1.559696e+12</td>\n",
       "      <td>2.0</td>\n",
       "      <td>empty</td>\n",
       "      <td>1.0</td>\n",
       "      <td>Android</td>\n",
       "      <td>8.1.0</td>\n",
       "      <td>3fbfcb303410dc1b7ec97d750ab0b28c</td>\n",
       "      <td>2.0</td>\n",
       "      <td>-1.0</td>\n",
       "      <td>47.98.186.228</td>\n",
       "      <td>f9d18915-99d6-4b3f-a740-f2c5959777c4-155969558...</td>\n",
       "      <td>7.0.9</td>\n",
       "      <td>1080.0</td>\n",
       "    </tr>\n",
       "    <tr>\n",
       "      <th>101865</th>\n",
       "      <td>89f76baa94234a42804ff4e638b43214</td>\n",
       "      <td>f3e1efdde34d6a6cdcd5655fd628919c</td>\n",
       "      <td>214.0</td>\n",
       "      <td>46000.0</td>\n",
       "      <td>滨州市</td>\n",
       "      <td>2.0</td>\n",
       "      <td>1280.0</td>\n",
       "      <td>empty</td>\n",
       "      <td>9def1a8285865f73b4a77cebc2d9b00c</td>\n",
       "      <td>112.252.72.151</td>\n",
       "      <td>0.0</td>\n",
       "      <td>zh-CN</td>\n",
       "      <td>bf9dd31135783521d858542df0f7cc0b</td>\n",
       "      <td>GIONEE</td>\n",
       "      <td>ac5cd37ad285472ae95bc89b18939cef</td>\n",
       "      <td>GN3001</td>\n",
       "      <td>1.560079e+12</td>\n",
       "      <td>2.0</td>\n",
       "      <td>empty</td>\n",
       "      <td>0.0</td>\n",
       "      <td>android</td>\n",
       "      <td>5.1</td>\n",
       "      <td>empty</td>\n",
       "      <td>0.0</td>\n",
       "      <td>-1.0</td>\n",
       "      <td>114.215.17.214</td>\n",
       "      <td>b80216b0-df4a-410c-8875-2ffd9a0130e6-156007860...</td>\n",
       "      <td>2.0.90</td>\n",
       "      <td>720.0</td>\n",
       "    </tr>\n",
       "    <tr>\n",
       "      <th>440722</th>\n",
       "      <td>5b1d267c1f580085616511d6b23f6286</td>\n",
       "      <td>a3221f42435d8e10078e013fdedd154c</td>\n",
       "      <td>280.0</td>\n",
       "      <td>46000.0</td>\n",
       "      <td>安阳市</td>\n",
       "      <td>2.0</td>\n",
       "      <td>2340.0</td>\n",
       "      <td>empty</td>\n",
       "      <td>28fac8817b5b1510d77615b72f7c4b6c</td>\n",
       "      <td>171.13.131.30</td>\n",
       "      <td>1.0</td>\n",
       "      <td>zh-CN</td>\n",
       "      <td>38a7de2a2cdef20e674338b3c58b7791</td>\n",
       "      <td>vivo</td>\n",
       "      <td>ca64a500000d84c8fcb8a0587d0e1e0c</td>\n",
       "      <td>V1809A</td>\n",
       "      <td>1.559907e+12</td>\n",
       "      <td>2.0</td>\n",
       "      <td>empty</td>\n",
       "      <td>0.0</td>\n",
       "      <td>Android</td>\n",
       "      <td>8.1.0</td>\n",
       "      <td>2d2664e827bcbb8b07100c7fbe072e9b</td>\n",
       "      <td>3.0</td>\n",
       "      <td>-1.0</td>\n",
       "      <td>180.76.181.7</td>\n",
       "      <td>18cb59f1-82cf-4bcd-8dcd-1e4ba985dbd4-155990712...</td>\n",
       "      <td>11.11.0</td>\n",
       "      <td>1080.0</td>\n",
       "    </tr>\n",
       "    <tr>\n",
       "      <th>1023066</th>\n",
       "      <td>empty</td>\n",
       "      <td>d0267547ad324d53078c09095c2e1148</td>\n",
       "      <td>336.0</td>\n",
       "      <td>46000.0</td>\n",
       "      <td>安庆市</td>\n",
       "      <td>0.0</td>\n",
       "      <td>0.0</td>\n",
       "      <td>empty</td>\n",
       "      <td>860077003d3b1bff8a5b96e9daa4c6c3</td>\n",
       "      <td>112.122.77.64</td>\n",
       "      <td>NaN</td>\n",
       "      <td>NaN</td>\n",
       "      <td>empty</td>\n",
       "      <td>vivo</td>\n",
       "      <td>06765782b6564446531bf6795f0fdc48</td>\n",
       "      <td>VIVO Y51A</td>\n",
       "      <td>1.560160e+12</td>\n",
       "      <td>2.0</td>\n",
       "      <td>empty</td>\n",
       "      <td>0.0</td>\n",
       "      <td>android</td>\n",
       "      <td>5.1.1</td>\n",
       "      <td>9fa14a798a23957226e066966594d7da</td>\n",
       "      <td>0.0</td>\n",
       "      <td>-1.0</td>\n",
       "      <td>119.254.201.249</td>\n",
       "      <td>9c5d24bf-e07a-4062-ac71-5a0cfdad9fbb-156015950...</td>\n",
       "      <td>NaN</td>\n",
       "      <td>0.0</td>\n",
       "    </tr>\n",
       "    <tr>\n",
       "      <th>680051</th>\n",
       "      <td>12c5e08e1a885ee4d8ce7179fbcee061</td>\n",
       "      <td>4f2f5735b281a22587f22fb0aaba707e</td>\n",
       "      <td>375.0</td>\n",
       "      <td>46000.0</td>\n",
       "      <td>深圳市</td>\n",
       "      <td>0.0</td>\n",
       "      <td>1920.0</td>\n",
       "      <td>empty</td>\n",
       "      <td>bb5d278157bf5d02b5c50828184a8ebe</td>\n",
       "      <td>121.35.103.99</td>\n",
       "      <td>0.0</td>\n",
       "      <td>NaN</td>\n",
       "      <td>empty</td>\n",
       "      <td>360手机</td>\n",
       "      <td>651673a5531dde9cd40f08d09d16fe70</td>\n",
       "      <td>1605-A01</td>\n",
       "      <td>1.559723e+12</td>\n",
       "      <td>2.0</td>\n",
       "      <td>empty</td>\n",
       "      <td>0.0</td>\n",
       "      <td>android</td>\n",
       "      <td>6.0.1</td>\n",
       "      <td>b15030107319685361f4c8c0d9598cf1</td>\n",
       "      <td>0.0</td>\n",
       "      <td>-1.0</td>\n",
       "      <td>180.163.255.230</td>\n",
       "      <td>6bc7c637-3c09-47c4-8022-e6c0dd082959-155972336...</td>\n",
       "      <td>NaN</td>\n",
       "      <td>1080.0</td>\n",
       "    </tr>\n",
       "    <tr>\n",
       "      <th>387574</th>\n",
       "      <td>eaab18ddb14801c5a0d92fb5454ba736</td>\n",
       "      <td>ab85ef736cd21df4861e71b73bffccab</td>\n",
       "      <td>326.0</td>\n",
       "      <td>46000.0</td>\n",
       "      <td>温州市</td>\n",
       "      <td>2.0</td>\n",
       "      <td>2248.0</td>\n",
       "      <td>empty</td>\n",
       "      <td>36b067819e1347bfe62d491ea64ca633</td>\n",
       "      <td>60.180.3.157</td>\n",
       "      <td>1.0</td>\n",
       "      <td>zh-CN</td>\n",
       "      <td>0f607264fc6318a92b9e13c65db7cd3c</td>\n",
       "      <td>Xiaomi</td>\n",
       "      <td>25ad2d02765793b229e8e468a6203269</td>\n",
       "      <td>MI 8</td>\n",
       "      <td>1.559891e+12</td>\n",
       "      <td>2.0</td>\n",
       "      <td>empty</td>\n",
       "      <td>0.0</td>\n",
       "      <td>android</td>\n",
       "      <td>9</td>\n",
       "      <td>empty</td>\n",
       "      <td>0.0</td>\n",
       "      <td>-1.0</td>\n",
       "      <td>47.100.18.3</td>\n",
       "      <td>9df62a68-de54-4493-a7d1-9680e750c6ff-155989097...</td>\n",
       "      <td>5.75.2.6020</td>\n",
       "      <td>1080.0</td>\n",
       "    </tr>\n",
       "    <tr>\n",
       "      <th>449648</th>\n",
       "      <td>ff15d7c49421861b65ee9ec4d5522fcd</td>\n",
       "      <td>e7f79bda2b839f7debffe13ee6df818f</td>\n",
       "      <td>221.0</td>\n",
       "      <td>46001.0</td>\n",
       "      <td>滁州市</td>\n",
       "      <td>0.0</td>\n",
       "      <td>1280.0</td>\n",
       "      <td>empty</td>\n",
       "      <td>5c5cb29cdfb134578f14f7f641e96ebd</td>\n",
       "      <td>120.242.30.28</td>\n",
       "      <td>0.0</td>\n",
       "      <td>NaN</td>\n",
       "      <td>empty</td>\n",
       "      <td>NaN</td>\n",
       "      <td>f4658ac564ae09266976ac30e0f8f582</td>\n",
       "      <td>OPPO A57T</td>\n",
       "      <td>1.559853e+12</td>\n",
       "      <td>2.0</td>\n",
       "      <td>empty</td>\n",
       "      <td>0.0</td>\n",
       "      <td>android</td>\n",
       "      <td>6.0.1</td>\n",
       "      <td>0a3215caf48d92de4f8ab34dd07d6f37</td>\n",
       "      <td>0.0</td>\n",
       "      <td>-1.0</td>\n",
       "      <td>42.236.10.110</td>\n",
       "      <td>99faf7b6-02bd-4e66-b349-797762b1c7c0-155985303...</td>\n",
       "      <td>NaN</td>\n",
       "      <td>720.0</td>\n",
       "    </tr>\n",
       "    <tr>\n",
       "      <th>220280</th>\n",
       "      <td>cdc80a8814a24878cc5fbcf1ff6c7857</td>\n",
       "      <td>52b5e49f63f25d1f06c4696130f15630</td>\n",
       "      <td>273.0</td>\n",
       "      <td>46000.0</td>\n",
       "      <td>黔南布依族苗族自治州</td>\n",
       "      <td>2.0</td>\n",
       "      <td>2280.0</td>\n",
       "      <td>empty</td>\n",
       "      <td>1d072450e64e3232d21d47cc93fb7b89</td>\n",
       "      <td>117.188.75.126</td>\n",
       "      <td>0.0</td>\n",
       "      <td>NaN</td>\n",
       "      <td>0f607264fc6318a92b9e13c65db7cd3c</td>\n",
       "      <td>OPPO</td>\n",
       "      <td>0c01813efdd71cd69006b50c8f493976</td>\n",
       "      <td>PACT00</td>\n",
       "      <td>1.559979e+12</td>\n",
       "      <td>2.0</td>\n",
       "      <td>empty</td>\n",
       "      <td>0.0</td>\n",
       "      <td>android</td>\n",
       "      <td>8.1.0</td>\n",
       "      <td>empty</td>\n",
       "      <td>0.0</td>\n",
       "      <td>-1.0</td>\n",
       "      <td>39.97.108.148</td>\n",
       "      <td>90a50da0-440e-4082-aae5-de8621b5a213-155997945...</td>\n",
       "      <td>5.0.1</td>\n",
       "      <td>1080.0</td>\n",
       "    </tr>\n",
       "    <tr>\n",
       "      <th>1063556</th>\n",
       "      <td>5a8d1d14381590b8c628fb4391ae03c6</td>\n",
       "      <td>c2c317328d5ffc8b7dc543e24fa896cc</td>\n",
       "      <td>367.0</td>\n",
       "      <td>46000.0</td>\n",
       "      <td>红河哈尼族彝族自治州</td>\n",
       "      <td>2.0</td>\n",
       "      <td>0.0</td>\n",
       "      <td>empty</td>\n",
       "      <td>a2d5d0772924f4ff5976f0d19ea7babb</td>\n",
       "      <td>106.56.103.188</td>\n",
       "      <td>NaN</td>\n",
       "      <td>cn</td>\n",
       "      <td>4c16a43eb6a4eca6ea309f1314aafab6</td>\n",
       "      <td>OPPO</td>\n",
       "      <td>6a201781abc86a0666c3e94b6638c920</td>\n",
       "      <td>OPPO A33</td>\n",
       "      <td>1.560166e+12</td>\n",
       "      <td>2.0</td>\n",
       "      <td>empty</td>\n",
       "      <td>0.0</td>\n",
       "      <td>android</td>\n",
       "      <td>5.1.1</td>\n",
       "      <td>2477c87258c08e20d9b3d308867ae4cd</td>\n",
       "      <td>0.0</td>\n",
       "      <td>-1.0</td>\n",
       "      <td>124.243.219.138</td>\n",
       "      <td>db71f93d-0764-4c67-ae74-478744f0cf9a-156016563...</td>\n",
       "      <td>8.5.7.1</td>\n",
       "      <td>0.0</td>\n",
       "    </tr>\n",
       "    <tr>\n",
       "      <th>481835</th>\n",
       "      <td>1b481706c10b8b9cf479daecbf988c70</td>\n",
       "      <td>be7b4818939482a91e3d20dfc2d3a19c</td>\n",
       "      <td>318.0</td>\n",
       "      <td>46000.0</td>\n",
       "      <td>阜阳市</td>\n",
       "      <td>2.0</td>\n",
       "      <td>1920.0</td>\n",
       "      <td>empty</td>\n",
       "      <td>77998680431742d6d310ce76408fc0fc</td>\n",
       "      <td>114.96.12.63</td>\n",
       "      <td>0.0</td>\n",
       "      <td>zh-CN</td>\n",
       "      <td>f6f6666ac6c9bbcd5ace98f01b171e1a</td>\n",
       "      <td>Meizu</td>\n",
       "      <td>a51cf88cec32c6cd06703838c50d19ac</td>\n",
       "      <td>M3X</td>\n",
       "      <td>1.559786e+12</td>\n",
       "      <td>2.0</td>\n",
       "      <td>42ae2dc813941707db116abf79edd7cb</td>\n",
       "      <td>1.0</td>\n",
       "      <td>Android</td>\n",
       "      <td>6.0.1</td>\n",
       "      <td>0ff1fb05e89fd10fb480a9184c2c2d15</td>\n",
       "      <td>480.0</td>\n",
       "      <td>-1.0</td>\n",
       "      <td>211.159.203.237</td>\n",
       "      <td>8b0934fa-11a5-4af8-adb1-7df32617408f-155978585...</td>\n",
       "      <td>521000</td>\n",
       "      <td>1080.0</td>\n",
       "    </tr>\n",
       "    <tr>\n",
       "      <th>554944</th>\n",
       "      <td>f529c1919ea892b5be89091306a15dd5</td>\n",
       "      <td>da481895c5141d3df070009e63b77503</td>\n",
       "      <td>265.0</td>\n",
       "      <td>0.0</td>\n",
       "      <td>邯郸市</td>\n",
       "      <td>2.0</td>\n",
       "      <td>0.0</td>\n",
       "      <td>empty</td>\n",
       "      <td>b21cf9a7952a35a1806a5cbb8873b19d</td>\n",
       "      <td>106.112.10.209</td>\n",
       "      <td>0.0</td>\n",
       "      <td>NaN</td>\n",
       "      <td>empty</td>\n",
       "      <td>OPPO</td>\n",
       "      <td>eec946a5a66c023ec9d3b2ede5900626</td>\n",
       "      <td>OPPO R9S</td>\n",
       "      <td>1.559778e+12</td>\n",
       "      <td>2.0</td>\n",
       "      <td>empty</td>\n",
       "      <td>0.0</td>\n",
       "      <td>android</td>\n",
       "      <td>6.0</td>\n",
       "      <td>empty</td>\n",
       "      <td>0.0</td>\n",
       "      <td>-1.0</td>\n",
       "      <td>106.15.185.157</td>\n",
       "      <td>6a7e9fd6-3d09-4c0d-88c5-877aa92eae16-155977813...</td>\n",
       "      <td>4.7.5</td>\n",
       "      <td>0.0</td>\n",
       "    </tr>\n",
       "    <tr>\n",
       "      <th>741260</th>\n",
       "      <td>e32eba9778560514a940fd97037fe27f</td>\n",
       "      <td>e00e9da465ddfd605e2c39aa531dc6da</td>\n",
       "      <td>221.0</td>\n",
       "      <td>46000.0</td>\n",
       "      <td>菏泽市</td>\n",
       "      <td>0.0</td>\n",
       "      <td>1920.0</td>\n",
       "      <td>empty</td>\n",
       "      <td>8401e8f22003a4fefb5482906f1a7424</td>\n",
       "      <td>223.96.52.105</td>\n",
       "      <td>0.0</td>\n",
       "      <td>NaN</td>\n",
       "      <td>empty</td>\n",
       "      <td>360手机</td>\n",
       "      <td>f4658ac564ae09266976ac30e0f8f582</td>\n",
       "      <td>1605-A01</td>\n",
       "      <td>1.559665e+12</td>\n",
       "      <td>2.0</td>\n",
       "      <td>empty</td>\n",
       "      <td>0.0</td>\n",
       "      <td>android</td>\n",
       "      <td>6.0.1</td>\n",
       "      <td>0a3215caf48d92de4f8ab34dd07d6f37</td>\n",
       "      <td>0.0</td>\n",
       "      <td>-1.0</td>\n",
       "      <td>180.163.220.101</td>\n",
       "      <td>1835f7ea-aacb-441f-9a48-d244c96f74f9-155966507...</td>\n",
       "      <td>NaN</td>\n",
       "      <td>1080.0</td>\n",
       "    </tr>\n",
       "    <tr>\n",
       "      <th>491887</th>\n",
       "      <td>empty</td>\n",
       "      <td>f67a95c5c748a5bc252d3e854f8e4977</td>\n",
       "      <td>301.0</td>\n",
       "      <td>46000.0</td>\n",
       "      <td>呼和浩特市</td>\n",
       "      <td>2.0</td>\n",
       "      <td>780.0</td>\n",
       "      <td>empty</td>\n",
       "      <td>cd5f7cf0bab88ea450a08dff2d9d8fcd</td>\n",
       "      <td>219.159.14.153</td>\n",
       "      <td>1.0</td>\n",
       "      <td>zh-CN</td>\n",
       "      <td>empty</td>\n",
       "      <td>HONOR</td>\n",
       "      <td>d53d2af198ebef9544f0823c3c8e84f8</td>\n",
       "      <td>JSN AL00</td>\n",
       "      <td>1.559815e+12</td>\n",
       "      <td>2.0</td>\n",
       "      <td>empty</td>\n",
       "      <td>1.0</td>\n",
       "      <td>Android</td>\n",
       "      <td>8.1.0</td>\n",
       "      <td>170a88a12e36f8a0f1b73442304398b1</td>\n",
       "      <td>0.0</td>\n",
       "      <td>-1.0</td>\n",
       "      <td>39.96.159.161</td>\n",
       "      <td>b280adf7-b02c-4eaf-94d6-261c6bdb770b-155981478...</td>\n",
       "      <td>30927000</td>\n",
       "      <td>360.0</td>\n",
       "    </tr>\n",
       "    <tr>\n",
       "      <th>335798</th>\n",
       "      <td>6c14fd0ce7ee07c246f0b3f230aaaadb</td>\n",
       "      <td>4f2f5735b281a22587f22fb0aaba707e</td>\n",
       "      <td>375.0</td>\n",
       "      <td>46000.0</td>\n",
       "      <td>广州市</td>\n",
       "      <td>0.0</td>\n",
       "      <td>1280.0</td>\n",
       "      <td>empty</td>\n",
       "      <td>c27f3303a42b23795273c08f9f88b24b</td>\n",
       "      <td>113.66.38.49</td>\n",
       "      <td>0.0</td>\n",
       "      <td>NaN</td>\n",
       "      <td>empty</td>\n",
       "      <td>NaN</td>\n",
       "      <td>651673a5531dde9cd40f08d09d16fe70</td>\n",
       "      <td>LEPHONE T11</td>\n",
       "      <td>1.559858e+12</td>\n",
       "      <td>2.0</td>\n",
       "      <td>empty</td>\n",
       "      <td>0.0</td>\n",
       "      <td>android</td>\n",
       "      <td>6.0</td>\n",
       "      <td>b15030107319685361f4c8c0d9598cf1</td>\n",
       "      <td>0.0</td>\n",
       "      <td>-1.0</td>\n",
       "      <td>180.163.220.97</td>\n",
       "      <td>23464948-d85f-450c-a1c7-2f300eab817f-155985772...</td>\n",
       "      <td>NaN</td>\n",
       "      <td>720.0</td>\n",
       "    </tr>\n",
       "    <tr>\n",
       "      <th>525956</th>\n",
       "      <td>7942d3ad997ca0ded7b7bc716c31744d</td>\n",
       "      <td>7079e2ecd68552e55a513983663bbb7b</td>\n",
       "      <td>222.0</td>\n",
       "      <td>0.0</td>\n",
       "      <td>常州市</td>\n",
       "      <td>2.0</td>\n",
       "      <td>640.0</td>\n",
       "      <td>empty</td>\n",
       "      <td>a8d9cabad65e259afc910307461f34f2</td>\n",
       "      <td>114.227.33.23</td>\n",
       "      <td>0.0</td>\n",
       "      <td>NaN</td>\n",
       "      <td>cfcd208495d565ef66e7dff9f98764da</td>\n",
       "      <td>vivo</td>\n",
       "      <td>6d4f90003c1f4a5aac93198ce36a72db</td>\n",
       "      <td>VIVO V3</td>\n",
       "      <td>1.559822e+12</td>\n",
       "      <td>2.0</td>\n",
       "      <td>empty</td>\n",
       "      <td>0.0</td>\n",
       "      <td>android</td>\n",
       "      <td>5.1.1</td>\n",
       "      <td>empty</td>\n",
       "      <td>0.0</td>\n",
       "      <td>-1.0</td>\n",
       "      <td>52.83.248.101</td>\n",
       "      <td>9a99e507-bc87-4df4-ac1b-9ef4c4ea4ab8-155982237...</td>\n",
       "      <td>1.2.9</td>\n",
       "      <td>360.0</td>\n",
       "    </tr>\n",
       "  </tbody>\n",
       "</table>\n",
       "</div>"
      ],
      "text/plain": [
       "                                  adidmd5                      adunitshowid  \\\n",
       "788459   532c268f258e839dc4851fa19df6bdcd  e7f79bda2b839f7debffe13ee6df818f   \n",
       "186503   89d0ad82015fb6efd115915c3253fdcd  9420c665f251cf88ce076a949536faa6   \n",
       "475892   ca488f04774a3a87b76c7395b8387966  48872f54fb72e0ab1e47fbb62e1fcbbf   \n",
       "1014066  22951b87312473ca0c1fef5ab19b6d8c  ae3ea1765eade8fe1bf7c1628b8b60f1   \n",
       "203507   e012cef0c54d32098b90dabe37e79542  352c0094be0e4c311f7f713ecbfb5847   \n",
       "215297   21e5c8fa64ea15679997a492fdb26fd6  5d8a835eb4121a512a59756ef4b2c747   \n",
       "578943   62b67fdb3568e8f9511d8bdcf88adf38  5283117130625ebe4413e3719679a495   \n",
       "921851   e0addcfec0f4539156f25bb09939a3dc  f5ab4e983042c74caddfa1921bc1895f   \n",
       "893037   a072312426aed081c67574f6ff6c0a9b  bcf54df1636ab72824862df236704a22   \n",
       "1048151  17f0491925e03142a695b80e574158a0  907d0f8c29663840491577a21c7b612a   \n",
       "599313   d402a43f27464dea27813110ee9f31bf  e7f79bda2b839f7debffe13ee6df818f   \n",
       "484373   6628cbc7f8092b09912c3a7f78858e95  67fd2f2b660bdc8c47eaeba31474af3e   \n",
       "1046881                             empty  d0267547ad324d53078c09095c2e1148   \n",
       "723244   ac774d5b90a642e500de68b91465678f  e7f79bda2b839f7debffe13ee6df818f   \n",
       "1038892                             empty  f67a95c5c748a5bc252d3e854f8e4977   \n",
       "975943   c2931a3ddc90dfac5c4491fee41d6369  f752b4dbcf56662d9042436425b8c164   \n",
       "229373   522e5dc4d9c9a5bb7c67dabb98bc6db5  793105ec98cc63b82afbe3ac539bf038   \n",
       "322013                              empty  f51ec99a47731ba46985a4530c923069   \n",
       "887145   e3943313aa50fb62a9ccb4f43ab1f83f  ee61b20561a729e8805267105078fb32   \n",
       "512424                              empty  4404268364e58fbf10c965a3bbc91924   \n",
       "727488                              empty  f67a95c5c748a5bc252d3e854f8e4977   \n",
       "283686                              empty  01e7dda5ca1066873e7bfebdccc03416   \n",
       "79899    6b3df6fdbf8ffe0e5b34e0ecf405b989  c317c846ac9da7b89e3b1a770379e65b   \n",
       "807975   f6a2110beb51bb41429fc0a2a6f8d086  e7f79bda2b839f7debffe13ee6df818f   \n",
       "603673   943ecbb78b92ee6b47ee6e62252ee21a  e75047ac4169618b8961a689ed954151   \n",
       "195570   c56c36953faaf6aeb003a272a0d689b4  d14a9f6f1293156f608bc0855d48dd17   \n",
       "781506   200a0d28ffe0c8ea51cb7901584893af  9f1eadd9092b19bc86ee0cacde1c867f   \n",
       "755099   0a50347e448ac34821e84a76b3f81ebe  32815afd89d704fe6277c064689564ac   \n",
       "88665    51134eabd3478a848347268fbf8eaa2f                             empty   \n",
       "918893   d7285b39e0cf46b16522a6fffae60194  459cd6e24e5cfec60cee0fe63a89bdba   \n",
       "854008   27617a50bf60260c8a42d77a9cfac217  2d5c619f048e36be4e441ad1b4c44974   \n",
       "811756                              empty  6618408bae888ad02c4e0d9bd4d88d29   \n",
       "64681    65e6f359e50c1b260bdb0c6d8ca7c57e  9e51e9c2c243d34390b80903f181baa0   \n",
       "962562   822ed93fad28d82547a26b77a0a5db95  2af944462e43cd2f59acbbfd37445413   \n",
       "300337   5b63590fc5eb855203ab9f7ea4b83944  580d13b46b75e6bb2f80d0e38fc3fe2c   \n",
       "744260   7de700d9e41e105aa8cd14110d82559c  372747b93242b5b4d5e1867f1a3ed651   \n",
       "101865   89f76baa94234a42804ff4e638b43214  f3e1efdde34d6a6cdcd5655fd628919c   \n",
       "440722   5b1d267c1f580085616511d6b23f6286  a3221f42435d8e10078e013fdedd154c   \n",
       "1023066                             empty  d0267547ad324d53078c09095c2e1148   \n",
       "680051   12c5e08e1a885ee4d8ce7179fbcee061  4f2f5735b281a22587f22fb0aaba707e   \n",
       "387574   eaab18ddb14801c5a0d92fb5454ba736  ab85ef736cd21df4861e71b73bffccab   \n",
       "449648   ff15d7c49421861b65ee9ec4d5522fcd  e7f79bda2b839f7debffe13ee6df818f   \n",
       "220280   cdc80a8814a24878cc5fbcf1ff6c7857  52b5e49f63f25d1f06c4696130f15630   \n",
       "1063556  5a8d1d14381590b8c628fb4391ae03c6  c2c317328d5ffc8b7dc543e24fa896cc   \n",
       "481835   1b481706c10b8b9cf479daecbf988c70  be7b4818939482a91e3d20dfc2d3a19c   \n",
       "554944   f529c1919ea892b5be89091306a15dd5  da481895c5141d3df070009e63b77503   \n",
       "741260   e32eba9778560514a940fd97037fe27f  e00e9da465ddfd605e2c39aa531dc6da   \n",
       "491887                              empty  f67a95c5c748a5bc252d3e854f8e4977   \n",
       "335798   6c14fd0ce7ee07c246f0b3f230aaaadb  4f2f5735b281a22587f22fb0aaba707e   \n",
       "525956   7942d3ad997ca0ded7b7bc716c31744d  7079e2ecd68552e55a513983663bbb7b   \n",
       "\n",
       "         apptype  carrier        city  dvctype       h idfamd5  \\\n",
       "788459     221.0  46000.0         南京市      0.0  1920.0   empty   \n",
       "186503     322.0  46000.0         泉州市      2.0  1280.0   empty   \n",
       "475892     301.0  46000.0         松原市      2.0  1523.0   empty   \n",
       "1014066    318.0  46001.0         惠州市      2.0  1920.0   empty   \n",
       "203507     223.0  46000.0         南通市      2.0   854.0   empty   \n",
       "215297     336.0  46000.0         南阳市      2.0  2340.0   empty   \n",
       "578943     302.0  46000.0         广州市      2.0  2340.0   empty   \n",
       "921851     326.0  46000.0     甘南藏族自治州      2.0  2248.0   empty   \n",
       "893037     336.0  46000.0         宿迁市      2.0  1080.0   empty   \n",
       "1048151    280.0  46000.0         合肥市      2.0  1520.0   empty   \n",
       "599313     221.0  46001.0         北京市      0.0  2160.0   empty   \n",
       "484373     265.0     -1.0         北京市      2.0     0.0   empty   \n",
       "1046881    336.0  46000.0         成都市      0.0     0.0   empty   \n",
       "723244     221.0  46001.0         太原市      0.0  2160.0   empty   \n",
       "1038892    301.0  46000.0         南京市      2.0   780.0   empty   \n",
       "975943     367.0  46000.0         西安市      2.0     0.0   empty   \n",
       "229373     302.0  46000.0         北京市      2.0  2136.0   empty   \n",
       "322013     301.0  46000.0         烟台市      2.0   760.0   empty   \n",
       "887145     265.0      0.0        平顶山市      2.0     0.0   empty   \n",
       "512424     301.0  46000.0        张家口市      2.0   780.0   empty   \n",
       "727488     301.0  46000.0         重庆市      2.0   760.0   empty   \n",
       "283686     336.0  46000.0         白城市      0.0     0.0   empty   \n",
       "79899      318.0  46000.0         忻州市      2.0  1920.0   empty   \n",
       "807975     221.0  46000.0         茂名市      0.0  1920.0   empty   \n",
       "603673     281.0     -1.0         西安市      2.0     0.0   empty   \n",
       "195570     273.0  46000.0         长沙市      3.0  2137.0   empty   \n",
       "781506     265.0      0.0         南通市      2.0     0.0   empty   \n",
       "755099     328.0     -1.0         南京市      0.0  1280.0   empty   \n",
       "88665       -1.0  46000.0         郑州市      2.0  1080.0   empty   \n",
       "918893     286.0  46000.0         来宾市      2.0  1920.0   empty   \n",
       "854008     326.0  46000.0         苏州市      2.0  2316.0   empty   \n",
       "811756     301.0  46000.0         湛江市      2.0   780.0   empty   \n",
       "64681      241.0      0.0         泉州市      2.0   760.0   empty   \n",
       "962562     336.0  46000.0         营口市      2.0  2280.0   empty   \n",
       "300337     318.0  46000.0         北京市      2.0  1280.0   empty   \n",
       "744260     301.0  46000.0         南昌市      2.0  2340.0   empty   \n",
       "101865     214.0  46000.0         滨州市      2.0  1280.0   empty   \n",
       "440722     280.0  46000.0         安阳市      2.0  2340.0   empty   \n",
       "1023066    336.0  46000.0         安庆市      0.0     0.0   empty   \n",
       "680051     375.0  46000.0         深圳市      0.0  1920.0   empty   \n",
       "387574     326.0  46000.0         温州市      2.0  2248.0   empty   \n",
       "449648     221.0  46001.0         滁州市      0.0  1280.0   empty   \n",
       "220280     273.0  46000.0  黔南布依族苗族自治州      2.0  2280.0   empty   \n",
       "1063556    367.0  46000.0  红河哈尼族彝族自治州      2.0     0.0   empty   \n",
       "481835     318.0  46000.0         阜阳市      2.0  1920.0   empty   \n",
       "554944     265.0      0.0         邯郸市      2.0     0.0   empty   \n",
       "741260     221.0  46000.0         菏泽市      0.0  1920.0   empty   \n",
       "491887     301.0  46000.0       呼和浩特市      2.0   780.0   empty   \n",
       "335798     375.0  46000.0         广州市      0.0  1280.0   empty   \n",
       "525956     222.0      0.0         常州市      2.0   640.0   empty   \n",
       "\n",
       "                                  imeimd5               ip  label    lan  \\\n",
       "788459   558c90937116e9d637cf03c903c889dd   221.130.50.221    0.0    NaN   \n",
       "186503   13d2e7e140eb3a5052aa931aa6554303    36.250.92.147    0.0     zh   \n",
       "475892   4440daf1bb2aeeb98b9d5f31108a95d9    122.141.13.75    1.0  zh-CN   \n",
       "1014066  7eb1b58a00c7dbcc900f78d0003d6c7f     58.255.18.17    NaN  zh-CN   \n",
       "203507   0bb9b31def34017ee8d73026693d27b2    112.0.181.231    0.0  zh-CN   \n",
       "215297   432abbabf8d6a2313559a221eea34c5f    117.136.22.45    1.0  Zh-CN   \n",
       "578943   8728378b8f98ae4a253f4ac9b5c7ac1e    117.136.32.83    1.0     zh   \n",
       "921851   e59e2b4cd1ff297b793a6ab9691868c6   180.95.195.147    1.0  zh-CN   \n",
       "893037   9a740ff6abf51a88c5d2e6209233e9f0    112.20.236.52    1.0  zh-CN   \n",
       "1048151  d90f60fad1b39b4657f79c4f135ffa7b  117.136.101.114    NaN  zh-CN   \n",
       "599313   ed851a13d45add32a0d88ab854d1c309    124.64.16.227    0.0    NaN   \n",
       "484373   7aa76884b815778d73e1f8007139454c   114.247.56.190    0.0    NaN   \n",
       "1046881  69f5d8c6f4d8483293e5cd20a9729265    118.116.58.57    NaN    NaN   \n",
       "723244   015e5abb00eb525daa94519a996a1c52      223.11.6.37    0.0    NaN   \n",
       "1038892  8eda00cfae27b7ffd597b87c67526662    49.77.234.103    NaN  zh-CN   \n",
       "975943   a56a99d63e1a57c22cd9c76f637ada65    36.44.140.144    1.0     cn   \n",
       "229373   8de69b5854f0954766a902571a297fd1   223.104.64.153    0.0  zh-CN   \n",
       "322013   4b5ec43519f3785bd2715824e95040d4     39.73.165.28    1.0  zh-CN   \n",
       "887145   d7c33e9333ff251af32b635d696ba834    61.158.152.38    0.0    NaN   \n",
       "512424   6daef9840fc5c82ee7211eb1b00f18a2  111.225.171.222    1.0  zh-CN   \n",
       "727488   9421d764efdcfb778c950ccaf3cdd1f2   183.228.73.102    1.0  zh-CN   \n",
       "283686   6422c25b9f9b36bce184925b7894713e    36.104.114.89    0.0    NaN   \n",
       "79899    1671419068693637a972976c7c155d2b    223.10.159.50    0.0  zh-CN   \n",
       "807975   07b93d0c0d7f5a94d8a8a622fa4c5ea6   120.231.23.225    0.0    NaN   \n",
       "603673   d094b70a4afbfa74c1136f77f9efb948      1.81.83.235    1.0    NaN   \n",
       "195570   f70e3259022f84506d058e4d34d184c5   222.247.33.147    1.0  zh_CN   \n",
       "781506   49c0b233cb841f06b3c5336c00bd53e0    117.86.33.161    1.0    NaN   \n",
       "755099   32cbb4c55508f69b981aa2ebd525c09f     112.0.60.151    0.0    NaN   \n",
       "88665    800714ffc333a851310e7d8fde1a737a  117.136.104.228    0.0    NaN   \n",
       "918893   c43a5727bb22284957340f0c4b06a104   106.127.182.71    0.0  zh-CN   \n",
       "854008   0029ca22a27641e80dce97a8bed6c6de   112.20.118.187    1.0  zh-CN   \n",
       "811756   b3e6ad0e0545e6bc266fc5f25680cdef    223.104.65.46    1.0  zh-CN   \n",
       "64681    c39e16d26c7010ac44ba2fab144e93a8   211.97.129.245    1.0    NaN   \n",
       "962562   78ab74d4bbf9bddfd41a5745df91bdce    112.42.178.23    1.0  Zh-CN   \n",
       "300337   7be7b9c8e6899e87b46add034da149d8   111.201.146.94    0.0  zh-CN   \n",
       "744260   fad9cca56a7c31d1bdbf1e44056d686c      59.52.187.9    1.0  zh-CN   \n",
       "101865   9def1a8285865f73b4a77cebc2d9b00c   112.252.72.151    0.0  zh-CN   \n",
       "440722   28fac8817b5b1510d77615b72f7c4b6c    171.13.131.30    1.0  zh-CN   \n",
       "1023066  860077003d3b1bff8a5b96e9daa4c6c3    112.122.77.64    NaN    NaN   \n",
       "680051   bb5d278157bf5d02b5c50828184a8ebe    121.35.103.99    0.0    NaN   \n",
       "387574   36b067819e1347bfe62d491ea64ca633     60.180.3.157    1.0  zh-CN   \n",
       "449648   5c5cb29cdfb134578f14f7f641e96ebd    120.242.30.28    0.0    NaN   \n",
       "220280   1d072450e64e3232d21d47cc93fb7b89   117.188.75.126    0.0    NaN   \n",
       "1063556  a2d5d0772924f4ff5976f0d19ea7babb   106.56.103.188    NaN     cn   \n",
       "481835   77998680431742d6d310ce76408fc0fc     114.96.12.63    0.0  zh-CN   \n",
       "554944   b21cf9a7952a35a1806a5cbb8873b19d   106.112.10.209    0.0    NaN   \n",
       "741260   8401e8f22003a4fefb5482906f1a7424    223.96.52.105    0.0    NaN   \n",
       "491887   cd5f7cf0bab88ea450a08dff2d9d8fcd   219.159.14.153    1.0  zh-CN   \n",
       "335798   c27f3303a42b23795273c08f9f88b24b     113.66.38.49    0.0    NaN   \n",
       "525956   a8d9cabad65e259afc910307461f34f2    114.227.33.23    0.0    NaN   \n",
       "\n",
       "                                   macmd5      make  \\\n",
       "788459   3ec3358905b0b5e4f85b513bd2223282        三星   \n",
       "186503                              empty       ZTE   \n",
       "475892   10227dbbb4033079c54c8a37dde5e009    HUAWEI   \n",
       "1014066  87086dbffddd15bc4ed6ecae04a2849c      OPPO   \n",
       "203507   b8a51b63826ce5e5e5ae0973476228f3      OPPO   \n",
       "215297   2408c710977177815f01fbc344dedc8b  PAR-AL00   \n",
       "578943   e379c437fa18aeef745f063aab1194d8    HUAWEI   \n",
       "921851   0f607264fc6318a92b9e13c65db7cd3c    Xiaomi   \n",
       "893037   5edccae004e173eb91fdf53669b3613d      vivo   \n",
       "1048151  5af5d5a7074ebd1645c0666f2644c8f0      OPPO   \n",
       "599313                              empty       NaN   \n",
       "484373   bc92c31bc9de56c1c2a87c0a9ca1d917        华为   \n",
       "1046881                             empty      vivo   \n",
       "723244                              empty       NaN   \n",
       "1038892                             empty     HONOR   \n",
       "975943   0f607264fc6318a92b9e13c65db7cd3c       NaN   \n",
       "229373   e7198202d856ead32a8ee52528b92279      OPPO   \n",
       "322013                              empty      vivo   \n",
       "887145                              empty       NaN   \n",
       "512424                              empty    HUAWEI   \n",
       "727488                              empty      OPPO   \n",
       "283686                              empty      vivo   \n",
       "79899    339817bdf1115a934ab0fed7b78c7914      vivo   \n",
       "807975                              empty       NaN   \n",
       "603673                              empty    HUAWEI   \n",
       "195570   24c24bb68e5055f33feae249c843a3f8    HUAWEI   \n",
       "781506                              empty       NaN   \n",
       "755099                              empty       NaN   \n",
       "88665    0f607264fc6318a92b9e13c65db7cd3c      OPPO   \n",
       "918893   e88415a5642281ea45fc761319effd3b      OPPO   \n",
       "854008   0f607264fc6318a92b9e13c65db7cd3c      vivo   \n",
       "811756   5ba1cf1efeee4f83e91f9c0adc3015e3      OPPO   \n",
       "64681                               empty    HUAWEI   \n",
       "962562   9eebe7817716a1403ab6813a50868120  COL-TL10   \n",
       "300337   8617d6eaa353bdee0dbaff6278b41854      OPPO   \n",
       "744260   01fa19095fcb9c8f942d5eadd2001bda      vivo   \n",
       "101865   bf9dd31135783521d858542df0f7cc0b    GIONEE   \n",
       "440722   38a7de2a2cdef20e674338b3c58b7791      vivo   \n",
       "1023066                             empty      vivo   \n",
       "680051                              empty     360手机   \n",
       "387574   0f607264fc6318a92b9e13c65db7cd3c    Xiaomi   \n",
       "449648                              empty       NaN   \n",
       "220280   0f607264fc6318a92b9e13c65db7cd3c      OPPO   \n",
       "1063556  4c16a43eb6a4eca6ea309f1314aafab6      OPPO   \n",
       "481835   f6f6666ac6c9bbcd5ace98f01b171e1a     Meizu   \n",
       "554944                              empty      OPPO   \n",
       "741260                              empty     360手机   \n",
       "491887                              empty     HONOR   \n",
       "335798                              empty       NaN   \n",
       "525956   cfcd208495d565ef66e7dff9f98764da      vivo   \n",
       "\n",
       "                              mediashowid            model     nginxtime  ntt  \\\n",
       "788459   f4658ac564ae09266976ac30e0f8f582        SM-N9008V  1.559633e+12  2.0   \n",
       "186503   bc1cd52e0e3967e0ce9cf611237d420f        ZTE+BA602  1.559997e+12  2.0   \n",
       "475892   c5e90bcf2b51e671bb4acce9c54b88e5         EML-AL00  1.559807e+12  2.0   \n",
       "1014066  dc48a526835bf9f2b843084a42359d72         NEM-AL10  1.560140e+12  2.0   \n",
       "203507   29c116d2e0f8cb173ebfd758dae81b21              A31  1.559923e+12  2.0   \n",
       "215297   8a4086fbef59f54c7a613d3d8b621803  HUAWEI PAR-AL00  1.559989e+12  6.0   \n",
       "578943   8fab8557d62202df2da54f4c8ee1f1e8        JSN-AL00A  1.559801e+12  6.0   \n",
       "921851   25ad2d02765793b229e8e468a6203269             MI 8  1.559573e+12  6.0   \n",
       "893037   59231e97479892bd51b467733ac76b63         VIVO Y85  1.559634e+12  2.0   \n",
       "1048151  ca64a500000d84c8fcb8a0587d0e1e0c           PBAT00  1.560165e+12  6.0   \n",
       "599313   f4658ac564ae09266976ac30e0f8f582         1801-A01  1.559826e+12  6.0   \n",
       "484373   4d3d4e0848574718a6b26b2920ef1c15  HUAWEI+MLA-AL10  1.559808e+12  2.0   \n",
       "1046881  06765782b6564446531bf6795f0fdc48         VIVO X21  1.560167e+12  2.0   \n",
       "723244   f4658ac564ae09266976ac30e0f8f582            OC105  1.559704e+12  2.0   \n",
       "1038892  d53d2af198ebef9544f0823c3c8e84f8         JSN AL00  1.560155e+12  2.0   \n",
       "975943   6a201781abc86a0666c3e94b6638c920           PCAM00  1.559563e+12  2.0   \n",
       "229373   fc31b7779ea0566d2c7056da22cc9eef           PACM00  1.559976e+12  6.0   \n",
       "322013   d53d2af198ebef9544f0823c3c8e84f8      VIVO X21I A  1.559887e+12  2.0   \n",
       "887145   0c28cf2afaba3174f88e045403d45763            M1852  1.559619e+12  6.0   \n",
       "512424   d53d2af198ebef9544f0823c3c8e84f8         PAR AL00  1.559821e+12  2.0   \n",
       "727488   d53d2af198ebef9544f0823c3c8e84f8           PADM00  1.559734e+12  2.0   \n",
       "283686   06765782b6564446531bf6795f0fdc48       VIVO Y22IL  1.559962e+12  0.0   \n",
       "79899    a51cf88cec32c6cd06703838c50d19ac          VIVO X9  1.560066e+12  2.0   \n",
       "807975   f4658ac564ae09266976ac30e0f8f582         1505-A02  1.559616e+12  2.0   \n",
       "603673   fc5c28b3674877c00e1cff5f025d223e        POT-AL00A  1.559694e+12  6.0   \n",
       "195570   af25d97ac9e2b9f1c240b8e3a10cb1f8        JSN-AL00A  1.560001e+12  2.0   \n",
       "781506   eec946a5a66c023ec9d3b2ede5900626        OPPO R11S  1.559656e+12  2.0   \n",
       "755099   00e944ce2b73625c54aaf03356c83bac              NaN  1.559640e+12  2.0   \n",
       "88665                               empty           PBCM30  1.560042e+12  5.0   \n",
       "918893   67ef697818dbcd3a5de79876fa48d3f8            N5207  1.559543e+12  2.0   \n",
       "854008   25ad2d02765793b229e8e468a6203269       VIVO NEX S  1.559656e+12  2.0   \n",
       "811756   d53d2af198ebef9544f0823c3c8e84f8           PCAM10  1.559608e+12  5.0   \n",
       "64681    6f209d86e0781e637684aa40a20eec3c         LLD-AL20  1.560072e+12  0.0   \n",
       "962562   57b3053174973702549ba88b6017ac30   HONOR COL-TL10  1.559571e+12  2.0   \n",
       "300337   a51cf88cec32c6cd06703838c50d19ac        OPPO A37M  1.559889e+12  2.0   \n",
       "744260   9cfc68d2236479207f09a40d57c6ee0c           V1809T  1.559696e+12  2.0   \n",
       "101865   ac5cd37ad285472ae95bc89b18939cef           GN3001  1.560079e+12  2.0   \n",
       "440722   ca64a500000d84c8fcb8a0587d0e1e0c           V1809A  1.559907e+12  2.0   \n",
       "1023066  06765782b6564446531bf6795f0fdc48        VIVO Y51A  1.560160e+12  2.0   \n",
       "680051   651673a5531dde9cd40f08d09d16fe70         1605-A01  1.559723e+12  2.0   \n",
       "387574   25ad2d02765793b229e8e468a6203269             MI 8  1.559891e+12  2.0   \n",
       "449648   f4658ac564ae09266976ac30e0f8f582        OPPO A57T  1.559853e+12  2.0   \n",
       "220280   0c01813efdd71cd69006b50c8f493976           PACT00  1.559979e+12  2.0   \n",
       "1063556  6a201781abc86a0666c3e94b6638c920         OPPO A33  1.560166e+12  2.0   \n",
       "481835   a51cf88cec32c6cd06703838c50d19ac              M3X  1.559786e+12  2.0   \n",
       "554944   eec946a5a66c023ec9d3b2ede5900626         OPPO R9S  1.559778e+12  2.0   \n",
       "741260   f4658ac564ae09266976ac30e0f8f582         1605-A01  1.559665e+12  2.0   \n",
       "491887   d53d2af198ebef9544f0823c3c8e84f8         JSN AL00  1.559815e+12  2.0   \n",
       "335798   651673a5531dde9cd40f08d09d16fe70      LEPHONE T11  1.559858e+12  2.0   \n",
       "525956   6d4f90003c1f4a5aac93198ce36a72db          VIVO V3  1.559822e+12  2.0   \n",
       "\n",
       "                              openudidmd5  orientation       os  \\\n",
       "788459                              empty          0.0  android   \n",
       "186503                              empty          0.0  android   \n",
       "475892                              empty          0.0  Android   \n",
       "1014066                             empty          0.0  android   \n",
       "203507                              empty          0.0  Android   \n",
       "215297                              empty          0.0  Android   \n",
       "578943                              empty          0.0  android   \n",
       "921851                              empty          0.0  android   \n",
       "893037                              empty          0.0  Android   \n",
       "1048151                             empty          0.0  Android   \n",
       "599313                              empty          0.0  android   \n",
       "484373                              empty          0.0  android   \n",
       "1046881                             empty          0.0  android   \n",
       "723244                              empty          0.0  android   \n",
       "1038892                             empty          1.0  Android   \n",
       "975943                              empty          0.0  android   \n",
       "229373                              empty          0.0  Android   \n",
       "322013                              empty          1.0  Android   \n",
       "887145                              empty          0.0  android   \n",
       "512424                              empty          1.0  Android   \n",
       "727488                              empty          1.0  Android   \n",
       "283686                              empty          0.0  android   \n",
       "79899    23fd0bd4e682214eb4930d95ab1cc46a          1.0  Android   \n",
       "807975                              empty          0.0  android   \n",
       "603673                              empty          0.0  android   \n",
       "195570                              empty          0.0  android   \n",
       "781506                              empty          0.0  android   \n",
       "755099                              empty          0.0  android   \n",
       "88665    51134eabd3478a848347268fbf8eaa2f          0.0  android   \n",
       "918893                              empty          0.0  Android   \n",
       "854008                              empty          0.0  android   \n",
       "811756                              empty          1.0  Android   \n",
       "64681                               empty          0.0  android   \n",
       "962562                              empty          0.0  Android   \n",
       "300337   dd1f8e71262c49a778de2490506db591          1.0  Android   \n",
       "744260                              empty          1.0  Android   \n",
       "101865                              empty          0.0  android   \n",
       "440722                              empty          0.0  Android   \n",
       "1023066                             empty          0.0  android   \n",
       "680051                              empty          0.0  android   \n",
       "387574                              empty          0.0  android   \n",
       "449648                              empty          0.0  android   \n",
       "220280                              empty          0.0  android   \n",
       "1063556                             empty          0.0  android   \n",
       "481835   42ae2dc813941707db116abf79edd7cb          1.0  Android   \n",
       "554944                              empty          0.0  android   \n",
       "741260                              empty          0.0  android   \n",
       "491887                              empty          1.0  Android   \n",
       "335798                              empty          0.0  android   \n",
       "525956                              empty          0.0  android   \n",
       "\n",
       "                   osv                           pkgname    ppi  province  \\\n",
       "788459             5.0  0a3215caf48d92de4f8ab34dd07d6f37    0.0      -1.0   \n",
       "186503             6.0  365fadab35f2a237e48cd529dd8f699b    0.0      -1.0   \n",
       "475892               9  b08f7a5b9308b6232b560d6aabbe71f9  480.0      -1.0   \n",
       "1014066            6.0                             empty  480.0      -1.0   \n",
       "203507           4.4.4  5a23466bee3818349bca51d7446994a2  240.0      -1.0   \n",
       "215297               9  cd2323f90b21453f4d8c502c0e5bd0d7    0.0      -1.0   \n",
       "578943             8.1  a4279a3b769d4367f97e5a3ee819a57d  480.0      -1.0   \n",
       "921851               9                             empty    0.0      -1.0   \n",
       "893037           8.1.0  fed933be757067db32b40ca74143c08c    3.0      -1.0   \n",
       "1048151          8.1.0  2d2664e827bcbb8b07100c7fbe072e9b    2.0      -1.0   \n",
       "599313           7.1.1  0a3215caf48d92de4f8ab34dd07d6f37    0.0       2.0   \n",
       "484373             6.0  6e49480920d066e575d0fb181410b4da    0.0       2.0   \n",
       "1046881          8.1.0  d8ddc5d56672fe74afac2a765d258f0a    0.0      -1.0   \n",
       "723244           7.1.2  0a3215caf48d92de4f8ab34dd07d6f37    0.0      -1.0   \n",
       "1038892          9.0.0  170a88a12e36f8a0f1b73442304398b1    0.0      -1.0   \n",
       "975943               9  2477c87258c08e20d9b3d308867ae4cd    0.0      -1.0   \n",
       "229373           8.1.0  df88db6da0b6b226860ebc6ae03699e2  480.0       2.0   \n",
       "322013           8.1.0  170a88a12e36f8a0f1b73442304398b1    0.0      -1.0   \n",
       "887145             8.1                             empty    0.0      -1.0   \n",
       "512424           9.0.0  170a88a12e36f8a0f1b73442304398b1    0.0      -1.0   \n",
       "727488           8.1.0  170a88a12e36f8a0f1b73442304398b1    0.0      31.0   \n",
       "283686           4.4.2  7685b2e307ec6dd8c3eac59f60b5de52    0.0      -1.0   \n",
       "79899            6.0.1  0ff1fb05e89fd10fb480a9184c2c2d15  480.0      -1.0   \n",
       "807975           6.0.1  0a3215caf48d92de4f8ab34dd07d6f37    0.0      -1.0   \n",
       "603673           7.9.2  c3928c124c66197bda97ee4f34a4767e    0.0      -1.0   \n",
       "195570               9                             empty    0.0      -1.0   \n",
       "781506             8.1                             empty    0.0      -1.0   \n",
       "755099             NaN                             empty    0.0      -1.0   \n",
       "88665    Android_8.1.0                             empty    0.0      -1.0   \n",
       "918893           4.4.4  d4c128ffdd918d75c285899579800012  480.0      -1.0   \n",
       "854008               9                             empty    0.0      -1.0   \n",
       "811756           9.0.0  170a88a12e36f8a0f1b73442304398b1    0.0      -1.0   \n",
       "64681            8.0.0                             empty    0.0      -1.0   \n",
       "962562               9  cf4821986014a7fef9d7b7ad8de655e4    0.0      -1.0   \n",
       "300337             5.1  0ff1fb05e89fd10fb480a9184c2c2d15  480.0       2.0   \n",
       "744260           8.1.0  3fbfcb303410dc1b7ec97d750ab0b28c    2.0      -1.0   \n",
       "101865             5.1                             empty    0.0      -1.0   \n",
       "440722           8.1.0  2d2664e827bcbb8b07100c7fbe072e9b    3.0      -1.0   \n",
       "1023066          5.1.1  9fa14a798a23957226e066966594d7da    0.0      -1.0   \n",
       "680051           6.0.1  b15030107319685361f4c8c0d9598cf1    0.0      -1.0   \n",
       "387574               9                             empty    0.0      -1.0   \n",
       "449648           6.0.1  0a3215caf48d92de4f8ab34dd07d6f37    0.0      -1.0   \n",
       "220280           8.1.0                             empty    0.0      -1.0   \n",
       "1063556          5.1.1  2477c87258c08e20d9b3d308867ae4cd    0.0      -1.0   \n",
       "481835           6.0.1  0ff1fb05e89fd10fb480a9184c2c2d15  480.0      -1.0   \n",
       "554944             6.0                             empty    0.0      -1.0   \n",
       "741260           6.0.1  0a3215caf48d92de4f8ab34dd07d6f37    0.0      -1.0   \n",
       "491887           8.1.0  170a88a12e36f8a0f1b73442304398b1    0.0      -1.0   \n",
       "335798             6.0  b15030107319685361f4c8c0d9598cf1    0.0      -1.0   \n",
       "525956           5.1.1                             empty    0.0      -1.0   \n",
       "\n",
       "               reqrealip                                                sid  \\\n",
       "788459   180.163.255.230  db1a5862-b6a0-4ceb-b5b5-bc6e40c4a311-155963344...   \n",
       "186503    39.107.229.254  6d5af5b5-eca1-4c83-9326-c1183fb7cbff-155999738...   \n",
       "475892     116.62.79.213  79fe28b1-d3f2-40d2-b038-c786f9f3c31e-155980683...   \n",
       "1014066     47.96.36.179  5756bde2-4103-4097-a523-d75f09fe3541-156013958...   \n",
       "203507      36.7.172.120  db5b72f3-1d73-47c9-9900-017178541080-155992324...   \n",
       "215297     39.96.165.213  c19bad52-cc59-4493-b874-c35e34af7f34-155998882...   \n",
       "578943     120.132.66.52  f7f2c205-75fc-419d-ad5e-4dc79018bd01-155980126...   \n",
       "921851    101.132.187.57  44c3630d-b408-49a1-a422-ff3be50730d1-155957267...   \n",
       "893037    106.75.116.197  9e448516-633e-4270-b2ca-ce8b8a2dcd27-155963414...   \n",
       "1048151     180.76.181.7  3f241453-7843-4a5e-b83a-ec509b1c86fd-156016538...   \n",
       "599313    180.163.220.46  ff3c4c2b-e48c-4a9e-afd8-01a7b8160250-155982556...   \n",
       "484373     154.8.131.102  3a44e27e-7223-4cc3-b31a-31a5e73dd629-155980813...   \n",
       "1046881  119.254.201.249  92836e86-3ee2-42b4-8ae4-9f03a924b8f3-156016699...   \n",
       "723244   180.163.255.231  5a69e8b6-c6fa-49dd-8e04-2f082936da88-155970386...   \n",
       "1038892    39.96.159.159  b90b3ba9-317c-498d-8e60-f163701be009-156015520...   \n",
       "975943   124.243.219.138  a8e9604c-d421-4572-98aa-b16fb540d8a5-155956299...   \n",
       "229373      116.62.59.66  9546dac0-6dd3-4715-b0de-e35b7a7fd9b2-155997618...   \n",
       "322013     39.96.159.160  3f55717b-58ef-447c-8a7b-557caa0c6de4-155988658...   \n",
       "887145   101.132.127.114  cd757984-feda-4058-8954-9c9be97c54d4-155961881...   \n",
       "512424     39.96.159.161  2c4fd674-1e61-40fe-988d-545d76dbe434-155982099...   \n",
       "727488     39.96.159.159  12727187-f9cf-4e39-9bcd-ff4dd1e95096-155973439...   \n",
       "283686   119.254.201.249  adc675c3-8fa2-442b-95c8-19667a1d208e-155996199...   \n",
       "79899    211.159.203.243  c5462e17-c533-4afb-a76c-29241e0bbe46-156006592...   \n",
       "807975   180.163.255.230  66e893f7-10a7-4804-bb6a-23957c1f52dd-155961639...   \n",
       "603673     123.123.219.7  95d785c1-f57c-4dde-90b3-f1910a586ffd-155969381...   \n",
       "195570    120.132.53.176  c78e1f3a-1780-4885-9789-b3ff53ebe259-156000123...   \n",
       "781506    47.101.136.176  89a8b5ae-d521-437a-a73b-0ee31cd40426-155965643...   \n",
       "755099    123.58.191.198  a9954ec0-9cdf-4c6c-a9da-dfc05664bf87-155963979...   \n",
       "88665       47.93.215.93  ac2ffa9a-89f7-4150-86ff-d9372e6dedae-156004189...   \n",
       "918893    120.92.124.171  0d46bc81-8a3a-4cd0-8b9a-cdf9e81699f5-155954276...   \n",
       "854008      47.100.11.90  f6612a76-81ff-4b44-b0bd-f81a6c303ed2-155965555...   \n",
       "811756     39.96.159.162  57383bfd-f7f5-4ef4-a004-c08531749ecc-155960810...   \n",
       "64681      59.110.124.37  73a3eecb-fd4b-439b-87ec-6322707c901d-156007151...   \n",
       "962562     39.105.121.43  e16b77da-a243-46d7-a324-b33663027b91-155957126...   \n",
       "300337   211.159.203.244  6e1264a5-f98d-4650-95f4-e0cd6756058f-155988914...   \n",
       "744260     47.98.186.228  f9d18915-99d6-4b3f-a740-f2c5959777c4-155969558...   \n",
       "101865    114.215.17.214  b80216b0-df4a-410c-8875-2ffd9a0130e6-156007860...   \n",
       "440722      180.76.181.7  18cb59f1-82cf-4bcd-8dcd-1e4ba985dbd4-155990712...   \n",
       "1023066  119.254.201.249  9c5d24bf-e07a-4062-ac71-5a0cfdad9fbb-156015950...   \n",
       "680051   180.163.255.230  6bc7c637-3c09-47c4-8022-e6c0dd082959-155972336...   \n",
       "387574       47.100.18.3  9df62a68-de54-4493-a7d1-9680e750c6ff-155989097...   \n",
       "449648     42.236.10.110  99faf7b6-02bd-4e66-b349-797762b1c7c0-155985303...   \n",
       "220280     39.97.108.148  90a50da0-440e-4082-aae5-de8621b5a213-155997945...   \n",
       "1063556  124.243.219.138  db71f93d-0764-4c67-ae74-478744f0cf9a-156016563...   \n",
       "481835   211.159.203.237  8b0934fa-11a5-4af8-adb1-7df32617408f-155978585...   \n",
       "554944    106.15.185.157  6a7e9fd6-3d09-4c0d-88c5-877aa92eae16-155977813...   \n",
       "741260   180.163.220.101  1835f7ea-aacb-441f-9a48-d244c96f74f9-155966507...   \n",
       "491887     39.96.159.161  b280adf7-b02c-4eaf-94d6-261c6bdb770b-155981478...   \n",
       "335798    180.163.220.97  23464948-d85f-450c-a1c7-2f300eab817f-155985772...   \n",
       "525956     52.83.248.101  9a99e507-bc87-4df4-ac1b-9ef4c4ea4ab8-155982237...   \n",
       "\n",
       "                 ver       w  \n",
       "788459           NaN  1080.0  \n",
       "186503        3.18.2   720.0  \n",
       "475892           1.0   720.0  \n",
       "1014066        2.2.1  1080.0  \n",
       "203507      9.0.9070   480.0  \n",
       "215297           470  1080.0  \n",
       "578943         7.1.5  1080.0  \n",
       "921851   5.76.2.6040  1080.0  \n",
       "893037         3.0.6  2280.0  \n",
       "1048151      11.11.0   720.0  \n",
       "599313           NaN  1080.0  \n",
       "484373           NaN     0.0  \n",
       "1046881          NaN     0.0  \n",
       "723244           NaN  1080.0  \n",
       "1038892     30928000   360.0  \n",
       "975943       8.5.6.0     0.0  \n",
       "229373         5.2.4  1080.0  \n",
       "322013      30400000   360.0  \n",
       "887145        4.9.10     0.0  \n",
       "512424      30928000   360.0  \n",
       "727488      30927000   360.0  \n",
       "283686           NaN     0.0  \n",
       "79899         521000  1080.0  \n",
       "807975           NaN  1080.0  \n",
       "603673           NaN     0.0  \n",
       "195570        190516  1080.0  \n",
       "781506         4.7.5     0.0  \n",
       "755099           NaN   720.0  \n",
       "88665            NaN  2196.0  \n",
       "918893           NaN  1080.0  \n",
       "854008   5.76.2.6040  1080.0  \n",
       "811756      30927000   360.0  \n",
       "64681            NaN   360.0  \n",
       "962562           228  1080.0  \n",
       "300337        521000   720.0  \n",
       "744260         7.0.9  1080.0  \n",
       "101865        2.0.90   720.0  \n",
       "440722       11.11.0  1080.0  \n",
       "1023066          NaN     0.0  \n",
       "680051           NaN  1080.0  \n",
       "387574   5.75.2.6020  1080.0  \n",
       "449648           NaN   720.0  \n",
       "220280         5.0.1  1080.0  \n",
       "1063556      8.5.7.1     0.0  \n",
       "481835        521000  1080.0  \n",
       "554944         4.7.5     0.0  \n",
       "741260           NaN  1080.0  \n",
       "491887      30927000   360.0  \n",
       "335798           NaN   720.0  \n",
       "525956         1.2.9   360.0  "
      ]
     },
     "execution_count": 47,
     "metadata": {},
     "output_type": "execute_result"
    }
   ],
   "source": [
    "train.sample(50)###os应该是ios和andirod，这里可能是出错了"
   ]
  },
  {
   "cell_type": "raw",
   "metadata": {},
   "source": []
  },
  {
   "cell_type": "code",
   "execution_count": null,
   "metadata": {},
   "outputs": [],
   "source": [
    "train.columns"
   ]
  },
  {
   "cell_type": "code",
   "execution_count": 13,
   "metadata": {
    "colab": {},
    "colab_type": "code",
    "id": "HhUPBAX1FVxg"
   },
   "outputs": [
    {
     "name": "stdout",
     "output_type": "stream",
     "text": [
      "['apptype', 'dvctype', 'lan', 'reqrealip', 'ver', 'mediashowid', 'city', 'ip', 'idfamd5', 'province', 'pkgname', 'carrier', 'os', 'imeimd5', 'adunitshowid', 'make', 'model', 'orientation', 'osv', 'openudidmd5', 'ntt', 'macmd5', 'adidmd5']\n"
     ]
    }
   ],
   "source": [
    "drop_col=['label','sid']\n",
    "num_col=['nginxtime','ppi','w','h']\n",
    "\n",
    "\n",
    "cat_var=list(set(train.columns)-set(drop_col)-set(num_col))\n",
    "print(cat_var)"
   ]
  },
  {
   "cell_type": "code",
   "execution_count": 28,
   "metadata": {
    "colab": {},
    "colab_type": "code",
    "id": "7gPmbjULFWcI"
   },
   "outputs": [
    {
     "data": {
      "text/html": [
       "<div>\n",
       "<style scoped>\n",
       "    .dataframe tbody tr th:only-of-type {\n",
       "        vertical-align: middle;\n",
       "    }\n",
       "\n",
       "    .dataframe tbody tr th {\n",
       "        vertical-align: top;\n",
       "    }\n",
       "\n",
       "    .dataframe thead th {\n",
       "        text-align: right;\n",
       "    }\n",
       "</style>\n",
       "<table border=\"1\" class=\"dataframe\">\n",
       "  <thead>\n",
       "    <tr style=\"text-align: right;\">\n",
       "      <th></th>\n",
       "      <th>nginxtime</th>\n",
       "      <th>ppi</th>\n",
       "      <th>w</th>\n",
       "      <th>h</th>\n",
       "    </tr>\n",
       "  </thead>\n",
       "  <tbody>\n",
       "    <tr>\n",
       "      <th>count</th>\n",
       "      <td>1.100000e+06</td>\n",
       "      <td>1.100000e+06</td>\n",
       "      <td>1.100000e+06</td>\n",
       "      <td>1.100000e+06</td>\n",
       "    </tr>\n",
       "    <tr>\n",
       "      <th>mean</th>\n",
       "      <td>1.559845e+12</td>\n",
       "      <td>7.215708e+01</td>\n",
       "      <td>7.052276e+02</td>\n",
       "      <td>1.269678e+03</td>\n",
       "    </tr>\n",
       "    <tr>\n",
       "      <th>std</th>\n",
       "      <td>1.868501e+08</td>\n",
       "      <td>1.678313e+02</td>\n",
       "      <td>5.045361e+02</td>\n",
       "      <td>8.525796e+02</td>\n",
       "    </tr>\n",
       "    <tr>\n",
       "      <th>min</th>\n",
       "      <td>1.559491e+12</td>\n",
       "      <td>0.000000e+00</td>\n",
       "      <td>-1.000000e+00</td>\n",
       "      <td>-1.000000e+00</td>\n",
       "    </tr>\n",
       "    <tr>\n",
       "      <th>25%</th>\n",
       "      <td>1.559691e+12</td>\n",
       "      <td>0.000000e+00</td>\n",
       "      <td>3.600000e+02</td>\n",
       "      <td>7.200000e+02</td>\n",
       "    </tr>\n",
       "    <tr>\n",
       "      <th>50%</th>\n",
       "      <td>1.559837e+12</td>\n",
       "      <td>0.000000e+00</td>\n",
       "      <td>7.200000e+02</td>\n",
       "      <td>1.280000e+03</td>\n",
       "    </tr>\n",
       "    <tr>\n",
       "      <th>75%</th>\n",
       "      <td>1.559999e+12</td>\n",
       "      <td>0.000000e+00</td>\n",
       "      <td>1.080000e+03</td>\n",
       "      <td>2.048000e+03</td>\n",
       "    </tr>\n",
       "    <tr>\n",
       "      <th>max</th>\n",
       "      <td>1.560182e+12</td>\n",
       "      <td>1.000000e+03</td>\n",
       "      <td>9.024000e+03</td>\n",
       "      <td>9.024000e+03</td>\n",
       "    </tr>\n",
       "  </tbody>\n",
       "</table>\n",
       "</div>"
      ],
      "text/plain": [
       "          nginxtime           ppi             w             h\n",
       "count  1.100000e+06  1.100000e+06  1.100000e+06  1.100000e+06\n",
       "mean   1.559845e+12  7.215708e+01  7.052276e+02  1.269678e+03\n",
       "std    1.868501e+08  1.678313e+02  5.045361e+02  8.525796e+02\n",
       "min    1.559491e+12  0.000000e+00 -1.000000e+00 -1.000000e+00\n",
       "25%    1.559691e+12  0.000000e+00  3.600000e+02  7.200000e+02\n",
       "50%    1.559837e+12  0.000000e+00  7.200000e+02  1.280000e+03\n",
       "75%    1.559999e+12  0.000000e+00  1.080000e+03  2.048000e+03\n",
       "max    1.560182e+12  1.000000e+03  9.024000e+03  9.024000e+03"
      ]
     },
     "execution_count": 28,
     "metadata": {},
     "output_type": "execute_result"
    }
   ],
   "source": [
    "##连续变量看分布找异常值\n",
    "##离散变量看unique去发现\n",
    "train[num_col].describe()"
   ]
  },
  {
   "cell_type": "code",
   "execution_count": 18,
   "metadata": {},
   "outputs": [],
   "source": [
    "from matplotlib import pyplot as plt"
   ]
  },
  {
   "cell_type": "code",
   "execution_count": 9,
   "metadata": {},
   "outputs": [
    {
     "name": "stdout",
     "output_type": "stream",
     "text": [
      "nginxtime 1098977\n"
     ]
    },
    {
     "data": {
      "image/png": "[encoded data removed]",
      "text/plain": [
       "<Figure size 432x288 with 1 Axes>"
      ]
     },
     "metadata": {
      "needs_background": "light"
     },
     "output_type": "display_data"
    },
    {
     "name": "stdout",
     "output_type": "stream",
     "text": [
      "ppi 119\n"
     ]
    },
    {
     "data": {
      "image/png": "[encoded data removed]",
      "text/plain": [
       "<Figure size 432x288 with 1 Axes>"
      ]
     },
     "metadata": {
      "needs_background": "light"
     },
     "output_type": "display_data"
    },
    {
     "name": "stdout",
     "output_type": "stream",
     "text": [
      "w 449\n"
     ]
    },
    {
     "data": {
      "image/png": "[encoded data removed]",
      "text/plain": [
       "<Figure size 432x288 with 1 Axes>"
      ]
     },
     "metadata": {
      "needs_background": "light"
     },
     "output_type": "display_data"
    },
    {
     "name": "stdout",
     "output_type": "stream",
     "text": [
      "h 985\n"
     ]
    },
    {
     "data": {
      "image/png": "[encoded data removed]",
      "text/plain": [
       "<Figure size 432x288 with 1 Axes>"
      ]
     },
     "metadata": {
      "needs_background": "light"
     },
     "output_type": "display_data"
    }
   ],
   "source": [
    "\n",
    "for each in num_col:\n",
    "    print(each,train[each].nunique())\n",
    "    train[each].hist()\n",
    "    plt.show()"
   ]
  },
  {
   "cell_type": "code",
   "execution_count": 11,
   "metadata": {},
   "outputs": [
    {
     "ename": "SyntaxError",
     "evalue": "invalid syntax (<ipython-input-11-7da9132cc105>, line 5)",
     "output_type": "error",
     "traceback": [
      "\u001b[0;36m  File \u001b[0;32m\"<ipython-input-11-7da9132cc105>\"\u001b[0;36m, line \u001b[0;32m5\u001b[0m\n\u001b[0;31m    train[num_col]=train[num_col].applymap(lambda x: train[each].mean() if x==0 else x))\u001b[0m\n\u001b[0m                                                                                       ^\u001b[0m\n\u001b[0;31mSyntaxError\u001b[0m\u001b[0;31m:\u001b[0m invalid syntax\n"
     ]
    }
   ],
   "source": [
    "##填充值为0时为均值\n",
    "# for each in set(num_col)-set(['nginxtime']):\n",
    "#     print('each={}'.format(each))\n",
    "#     train[each]=train[each].map(lambda x: train[each].mean() if x==0 else x)\n",
    "# train[num_col]=train[num_col].applymap(lambda x: train[each].mean() if x==0 else x))\n",
    "\n",
    "\n",
    "\n",
    "# from matplotlib import pyplot as plt\n",
    "# for each in num_col:\n",
    "#     print(each,train[each].nunique())\n",
    "  \n",
    "#     train[each].hist()\n",
    "#     plt.show()"
   ]
  },
  {
   "cell_type": "code",
   "execution_count": 79,
   "metadata": {},
   "outputs": [],
   "source": [
    "####异常值0替换为均值，这样子速度最快\n",
    "for each in num_col:\n",
    "    train.loc[train[each]==0,each]=train[each].mean()\n"
   ]
  },
  {
   "cell_type": "code",
   "execution_count": 65,
   "metadata": {},
   "outputs": [
    {
     "name": "stdout",
     "output_type": "stream",
     "text": [
      "True\n",
      "True\n"
     ]
    }
   ],
   "source": [
    "print(0==0.0)\n",
    "print(-1==-1.0)"
   ]
  },
  {
   "cell_type": "code",
   "execution_count": 80,
   "metadata": {},
   "outputs": [],
   "source": [
    "###设备类型未知的类型0，替换成众数 ###carrier包含0和-1\n",
    "###众数要去其它非异常值的众数\n",
    "# ['orientation','province']\n",
    "for each in ['dvctype','ntt','carrier','province','orientation']:\n",
    "    train.loc[(train[each]==0)|(train[each]==-1),each]=train.loc[(train[each]!=0)&(train[each]!=-1),each].mode()[0]"
   ]
  },
  {
   "cell_type": "code",
   "execution_count": 87,
   "metadata": {},
   "outputs": [
    {
     "name": "stderr",
     "output_type": "stream",
     "text": [
      "/usr/local/lib/python3.5/dist-packages/pandas/core/ops.py:1649: FutureWarning: elementwise comparison failed; returning scalar instead, but in the future will perform elementwise comparison\n",
      "  result = method(y)\n"
     ]
    }
   ],
   "source": [
    "# ##含md5字段中，值为empty的都改为众数,所有字段含empty都都替换\n",
    "# all_md5_col=[]\n",
    "# for each in train.columns:\n",
    "#     if 'md5' in each:\n",
    "#         all_md5_col.append(each)\n",
    "# print(all_md5_col)\n",
    "\n",
    "all_md5_col=['adidmd5', 'idfamd5', 'imeimd5', 'macmd5', 'openudidmd5']\n",
    "# train[all_md5_col].info()\n",
    "\n",
    "for each in train.columns:\n",
    "    train.loc[train[each]=='empty',each]=train.loc[train[each]!='empty',each].mode()[0]"
   ]
  },
  {
   "cell_type": "code",
   "execution_count": 83,
   "metadata": {},
   "outputs": [],
   "source": [
    "###lan转为大写\n",
    "train['lan']=train['lan'].map(lambda x:str(x).upper())"
   ]
  },
  {
   "cell_type": "code",
   "execution_count": 92,
   "metadata": {},
   "outputs": [
    {
     "name": "stdout",
     "output_type": "stream",
     "text": [
      "var ZH-CN\n",
      "var 30927000\n",
      "var OPPO\n",
      "var 北京市\n",
      "var 8.1.0\n",
      "var PBAM00\n"
     ]
    }
   ],
   "source": [
    "#缺失值填充\n",
    "# 原来由于众数可能存在多个，所以pandas返回的是一个Series,而不像mean（）返回的是一个值:\n",
    "null_var=['lan','ver','make','city','osv','model']\n",
    "for each in null_var:\n",
    "  mode_value=str(train[each].mode()[0])#要转为字符串才能填充缺失值否则填充失败,众数可能有多个只取第一个\n",
    "  print('var',mode_value)\n",
    "  train[each].fillna(mode_value,inplace=True)#.sample(10))"
   ]
  },
  {
   "cell_type": "code",
   "execution_count": 48,
   "metadata": {},
   "outputs": [],
   "source": [
    "##处理所有编码，可能存在的\n",
    "import urllib.parse\n",
    "def encode_process(s):\n",
    "    s=urllib.parse.unquote(s)##带%号的有的要进行两次\n",
    "    \n",
    "    s = unquote(x,'utf-8').replace('%2B',' ').replace('%20',' ').replace('%2F','/').replace('%3F','?').replace('%25','%').replace('%23','#').replace(\".\",' ').replace('??',' ').\\\n",
    "                               replace('%26',' ').replace(\"%3D\",'=').replace('%22','').replace('_',' ').replace('+',' ').replace('-',' ').replace('__',' ').replace('  ',' ').replace(',',' ')\n",
    "    \n",
    "    s=s.upper()\n",
    "    \n",
    "    if (s[0]=='V') & (s[-1]=='A'):\n",
    "            return \"VIVO {}\".format(x)\n",
    "    elif (s[0]=='P') & (s[-1]=='0'):\n",
    "            return \"OPPO {}\".format(x)\n",
    "    elif (len(s)==5) & (s[0]=='O'):\n",
    "            return \"Smartisan {}\".format(s)\n",
    "    elif ('AL00' in s):\n",
    "            return \"HW {}\".format(s)\n",
    "    else:\n",
    "            return s\n",
    "#     if '%' in s:\n",
    "#         s=urllib.parse.unquote(s)\n",
    "  \n",
    "#         return s\n",
    "#     else:\n",
    "    \n",
    "#         return s    "
   ]
  },
  {
   "cell_type": "code",
   "execution_count": 103,
   "metadata": {},
   "outputs": [],
   "source": [
    "\n",
    "train['make']=train['make'].apply(lambda x:encode_process(x))\n",
    "train['model']=train['model'].apply(lambda x:encode_process(x))\n",
    "    \n"
   ]
  },
  {
   "cell_type": "code",
   "execution_count": null,
   "metadata": {},
   "outputs": [],
   "source": [
    "# 全部变成大写，防止oppo 和 OPPO 的出现；model是带详细型号的。make只是品牌\n",
    "all_data['model'].replace('PACM00',\"OPPO R15\",inplace=True)\n",
    "all_data['model'].replace('PBAM00',\"OPPO A5\",inplace=True)\n",
    "all_data['model'].replace('PBEM00',\"OPPO R17\",inplace=True)\n",
    "all_data['model'].replace('PADM00',\"OPPO A3\",inplace=True)\n",
    "all_data['model'].replace('PBBM00',\"OPPO A7\",inplace=True)\n",
    "all_data['model'].replace('PAAM00',\"OPPO R15_1\",inplace=True)\n",
    "all_data['model'].replace('PACT00',\"OPPO R15_2\",inplace=True)\n",
    "all_data['model'].replace('PABT00',\"OPPO A5_1\",inplace=True)\n",
    "all_data['model'].replace('PBCM10',\"OPPO R15x\",inplace=True)\n"
   ]
  },
  {
   "cell_type": "code",
   "execution_count": null,
   "metadata": {},
   "outputs": [],
   "source": []
  },
  {
   "cell_type": "code",
   "execution_count": 54,
   "metadata": {},
   "outputs": [
    {
     "data": {
      "text/plain": [
       "'江灵OS+5.0++'"
      ]
     },
     "execution_count": 54,
     "metadata": {},
     "output_type": "execute_result"
    }
   ],
   "source": [
    "a=encode_process('%E6%B1%9F%E7%81%B5OS+5.0+%2B')\n",
    "# a=encode_process(a)\n",
    "a"
   ]
  },
  {
   "cell_type": "code",
   "execution_count": 93,
   "metadata": {},
   "outputs": [
    {
     "name": "stdout",
     "output_type": "stream",
     "text": [
      "wrong 21000\n",
      "wrong 21000\n",
      "wrong 21100\n",
      "wrong 6.0_23\n",
      "wrong 21000\n",
      "wrong 21100\n",
      "wrong 21100\n",
      "wrong 21100\n",
      "wrong 21100\n",
      "wrong 21100\n",
      "wrong 21100\n",
      "wrong 6.0_23\n",
      "wrong 6.0.1_19\n",
      "wrong 21000\n",
      "wrong 21000\n",
      "wrong 21100\n",
      "wrong 6.0_23\n",
      "wrong 21000\n",
      "wrong 21100\n",
      "wrong 7930\n",
      "wrong 21100\n",
      "wrong 21000\n",
      "wrong Android_qq83520489\n",
      "wrong 21100\n",
      "wrong 21100\n",
      "wrong 21000\n",
      "wrong 6.0_23\n",
      "wrong 71200\n",
      "wrong 6.0_23\n",
      "wrong 21100\n",
      "wrong 21000\n",
      "wrong 21100\n",
      "wrong 21100\n",
      "wrong 21000\n",
      "wrong 21000\n",
      "wrong 21100\n",
      "wrong 21100\n",
      "wrong 21100\n",
      "wrong 6.0.1_19\n",
      "wrong 21100\n",
      "wrong 21100\n",
      "wrong 21100\n",
      "wrong 6.1.0-RS-20190305.1125\n",
      "wrong 21000\n",
      "wrong 21100\n",
      "wrong 21100\n",
      "wrong 21100\n",
      "wrong 6.0_23\n",
      "wrong 21100\n",
      "wrong 21100\n",
      "wrong 6.0.1_22\n",
      "wrong 5.1_22\n",
      "wrong 21100\n",
      "wrong 21100\n",
      "wrong 21000\n",
      "wrong 21000\n",
      "wrong 21000\n",
      "wrong 3.2.0-FL2-20180726.9015\n",
      "wrong 21000\n",
      "wrong 21100\n",
      "wrong 6.0_23\n",
      "wrong 6.0.1_19\n",
      "wrong 21100\n",
      "wrong 21100\n",
      "wrong 21100\n",
      "wrong 21100\n",
      "wrong 21000\n",
      "wrong 21100\n",
      "wrong 21000\n",
      "wrong 21000\n",
      "wrong 6.0_23\n",
      "wrong 21100\n",
      "wrong 21100\n",
      "wrong 21000\n",
      "wrong 21100\n",
      "wrong 21100\n",
      "wrong 21100\n",
      "wrong 21100\n",
      "wrong 6.0_23\n",
      "wrong 21100\n",
      "wrong 6.0_23\n",
      "wrong 21000\n",
      "wrong 6.0_23\n",
      "wrong 21100\n",
      "wrong 21100\n",
      "wrong 21000\n",
      "wrong 21000\n",
      "wrong 6.0_23\n",
      "wrong 21100\n",
      "wrong 21000\n",
      "wrong 21000\n",
      "wrong 21100\n",
      "wrong 6.0.1_19\n",
      "wrong 21000\n",
      "wrong 21100\n",
      "wrong 21100\n",
      "wrong 21100\n",
      "wrong 21100\n",
      "wrong 6.0_23\n",
      "wrong 21000\n",
      "wrong 21100\n",
      "wrong 21100\n",
      "wrong 21100\n",
      "wrong 21100\n",
      "wrong 6.0.1_19\n",
      "wrong 21000\n",
      "wrong 21100\n",
      "wrong 21100\n",
      "wrong 6.0_23\n",
      "wrong 21100\n",
      "wrong 21000\n",
      "wrong 6.0_23\n",
      "wrong 6.0_23\n",
      "wrong 21100\n",
      "wrong 21000\n",
      "wrong Android_qq83520489\n",
      "wrong 21100\n",
      "wrong 21000\n",
      "wrong 21100\n",
      "wrong 21000\n",
      "wrong 21100\n",
      "wrong 5.3.0-FL2-20180717.9010\n",
      "wrong 21100\n",
      "wrong 21100\n",
      "wrong 21000\n",
      "wrong 21100\n",
      "wrong 21100\n",
      "wrong 21100\n",
      "wrong 6.0_23\n",
      "wrong 21100\n",
      "wrong 7910\n",
      "wrong 21100\n",
      "wrong 21100\n",
      "wrong 21100\n",
      "wrong 21000\n",
      "wrong 21100\n",
      "wrong 7930\n",
      "wrong 71300\n",
      "wrong 21100\n",
      "wrong 21100\n",
      "wrong 21000\n",
      "wrong 21000\n",
      "wrong 21000\n",
      "wrong 21100\n",
      "wrong Android\n",
      "wrong 21100\n",
      "wrong 21000\n",
      "wrong 6.0_23\n",
      "wrong 21100\n",
      "wrong 7930\n",
      "wrong 6.0_23\n",
      "wrong 21000\n",
      "wrong 21100\n",
      "wrong 21100\n",
      "wrong 21100\n",
      "wrong 21100\n",
      "wrong 21000\n",
      "wrong 21000\n",
      "wrong 21100\n",
      "wrong 6.0_23\n",
      "wrong 21000\n",
      "wrong 21100\n",
      "wrong 21000\n",
      "wrong 21100\n",
      "wrong 6.0_23\n",
      "wrong 21100\n",
      "wrong 21000\n",
      "wrong 21000\n",
      "wrong 21100\n",
      "wrong 7910\n",
      "wrong 71200\n",
      "wrong 21100\n",
      "wrong 21100\n",
      "wrong 5.1_22\n",
      "wrong 21000\n",
      "wrong 6.0_23\n",
      "wrong 21000\n",
      "wrong 21000\n",
      "wrong 21100\n",
      "wrong 6.0_23\n",
      "wrong 21100\n",
      "wrong 4.2.3.2\n",
      "wrong 21100\n",
      "wrong 21100\n",
      "wrong Android\n",
      "wrong 6.0_23\n",
      "wrong 21100\n",
      "wrong 21100\n",
      "wrong 21100\n",
      "wrong 21000\n",
      "wrong 21100\n",
      "wrong 7930\n",
      "wrong 7930\n",
      "wrong 21100\n",
      "wrong 5.3.0-FL2-20180717.9010\n",
      "wrong 21100\n",
      "wrong 21100\n",
      "wrong 21000\n",
      "wrong 21000\n",
      "wrong 71200\n",
      "wrong 21000\n",
      "wrong 21000\n",
      "wrong 21100\n",
      "wrong 21100\n",
      "wrong 21000\n",
      "wrong 5.3.0-FL2-20180717.9010\n",
      "wrong 6.0_23\n",
      "wrong 21000\n",
      "wrong 21100\n",
      "wrong 21100\n",
      "wrong 6.0.1_22\n",
      "wrong 6.0_23\n",
      "wrong f073b_changxiang_v01_b1b8_20180915\n",
      "wrong 6.0_23\n",
      "wrong 6.0_23\n",
      "wrong 21100\n",
      "wrong 21100\n",
      "wrong 7930\n",
      "wrong 21100\n",
      "wrong 21100\n",
      "wrong 21100\n",
      "wrong 6.0.1_19\n",
      "wrong 21000\n",
      "wrong 21100\n",
      "wrong 21100\n",
      "wrong 21100\n",
      "wrong 6.0_23\n",
      "wrong 6.0_23\n",
      "wrong 21100\n",
      "wrong 21100\n",
      "wrong 10.3.3\n",
      "wrong 6.0_23\n",
      "wrong 21100\n",
      "wrong 6.0_23\n",
      "wrong 6.0.1_19\n",
      "wrong 21100\n",
      "wrong 21000\n",
      "wrong 21100\n",
      "wrong 21100\n",
      "wrong 21100\n",
      "wrong 6.0_23\n",
      "wrong 6.0_23\n",
      "wrong 21100\n",
      "wrong 6.0.1_19\n",
      "wrong 6.0_23\n",
      "wrong 21100\n",
      "wrong 21100\n",
      "wrong 6.0_23\n",
      "wrong 6.0_23\n",
      "wrong 4.4.2_19\n",
      "wrong 21100\n",
      "wrong 21000\n",
      "wrong 21100\n",
      "wrong 21000\n",
      "wrong 6.0_23\n",
      "wrong 21100\n",
      "wrong 21100\n",
      "wrong 21100\n",
      "wrong 21100\n",
      "wrong 21100\n",
      "wrong 6.0_23\n",
      "wrong 21100\n",
      "wrong 21100\n",
      "wrong 21100\n",
      "wrong 21100\n",
      "wrong 6.0_23\n",
      "wrong 21100\n",
      "wrong 6.0_23\n",
      "wrong 7930\n",
      "wrong 6.0_23\n",
      "wrong 21000\n",
      "wrong 21100\n",
      "wrong 6.0_23\n",
      "wrong 21000\n",
      "wrong 21000\n",
      "wrong 21000\n",
      "wrong 6.0_23\n",
      "wrong 21000\n",
      "wrong 21100\n",
      "wrong 4.2.3.2\n",
      "wrong 6.0.1_22\n",
      "wrong 7930\n",
      "wrong 21000\n",
      "wrong 21100\n",
      "wrong 21000\n",
      "wrong 5.0_21\n",
      "wrong 21000\n",
      "wrong 6.0.1_19\n",
      "wrong 21000\n",
      "wrong 5.0_21\n",
      "wrong 6.0_23\n",
      "wrong 6.0.1_19\n",
      "wrong 21100\n",
      "wrong 6.0_23\n",
      "wrong 21100\n",
      "wrong 5.3.0-FL2-20180717.9010\n",
      "wrong 21100\n",
      "wrong 6.0.1_19\n",
      "wrong 6.0 十核2.0G_HD\n",
      "wrong 21100\n",
      "wrong 21100\n",
      "wrong 6.0_23\n",
      "wrong 6.0_23\n",
      "wrong 71200\n",
      "wrong 21100\n",
      "wrong 21000\n",
      "wrong 21000\n",
      "wrong 6.0_23\n",
      "wrong 21100\n",
      "wrong 6.0.1_19\n",
      "wrong 6.0_23\n",
      "wrong 21100\n",
      "wrong 6.0.1_19\n",
      "wrong 6.0_23\n",
      "wrong 6.0_23\n",
      "wrong 21100\n",
      "wrong 21000\n",
      "wrong 21100\n",
      "wrong 21100\n",
      "wrong 6.0_23\n",
      "wrong 6.0_23\n",
      "wrong 6.0_23\n",
      "wrong 21000\n",
      "wrong 21100\n",
      "wrong 21100\n",
      "wrong 71300\n",
      "wrong 21100\n",
      "wrong 6.0_23\n",
      "wrong 6.0_23\n",
      "wrong 21100\n",
      "wrong 6.0_23\n",
      "wrong 21000\n",
      "wrong 21000\n",
      "wrong 21100\n",
      "wrong 6.0_23\n",
      "wrong 21100\n",
      "wrong 6.0.1_22\n",
      "wrong 21000\n",
      "wrong 6.0.1_19\n",
      "wrong 21000\n",
      "wrong 21100\n",
      "wrong 21100\n",
      "wrong 21100\n",
      "wrong 21100\n",
      "wrong 6.0.1_19\n",
      "wrong 21100\n",
      "wrong 21000\n",
      "wrong 6.0_23\n",
      "wrong 5.1.1-F-20180719.9007\n",
      "wrong 21100\n",
      "wrong 6.0_23\n",
      "wrong 21100\n",
      "wrong 7930\n",
      "wrong 7920\n",
      "wrong 6.0_23\n",
      "wrong 6.0_23\n",
      "wrong 21000\n",
      "wrong 6.0.1_22\n",
      "wrong 21100\n",
      "wrong 6.0_23\n",
      "wrong 21100\n",
      "wrong 21100\n",
      "wrong 71200\n",
      "wrong 6.0_23\n",
      "wrong GIONEE_YNGA\n",
      "wrong 6.0_23\n",
      "wrong 6.0_23\n",
      "wrong 6.0_23\n",
      "wrong 21000\n",
      "wrong 21100\n",
      "wrong 6.0_23\n",
      "wrong 21100\n",
      "wrong 6.0_23\n",
      "wrong 21100\n",
      "wrong 21000\n",
      "wrong 6.0_23\n",
      "wrong 21000\n",
      "wrong 21100\n",
      "wrong 21000\n",
      "wrong 21000\n",
      "wrong 5.5.0-FL2-20180716.9011\n",
      "wrong 21000\n",
      "wrong 4.4.2_19\n",
      "wrong 21100\n",
      "wrong 6.0_23\n",
      "wrong 21100\n",
      "wrong 6.0_23\n",
      "wrong 7930\n",
      "wrong 21100\n",
      "wrong 6.0_23\n",
      "wrong 21100\n",
      "wrong 21000\n",
      "wrong 6.0_23\n",
      "wrong 6.0_23\n",
      "wrong 21100\n",
      "wrong 4.4.2_19\n",
      "wrong 5.1_22\n",
      "wrong 6.0_23\n",
      "wrong 4.4.2_19\n",
      "wrong 5.1_22\n",
      "wrong 21000\n",
      "wrong 6.0_23\n",
      "wrong 6.0_23\n",
      "wrong 5.1.1_22\n",
      "wrong 4.4.2_19\n",
      "wrong 6.0_23\n",
      "wrong 6.0.1_19\n",
      "wrong 21000\n",
      "wrong %E6%B1%9F%E7%81%B5OS+5.0\n",
      "wrong 21000\n",
      "wrong 6.0_23\n",
      "wrong 6.0_23\n",
      "wrong 6.0_23\n",
      "wrong Android_3.2.0-FL2-20180726.9015\n",
      "wrong 21000\n",
      "wrong 6.0.1_19\n",
      "wrong 21100\n",
      "wrong 21100\n",
      "wrong 6.0_23\n",
      "wrong 6.0_23\n",
      "wrong 6.0_23\n",
      "wrong 6.0_23\n",
      "wrong 21000\n",
      "wrong 6.0_23\n",
      "wrong 6.0.1_19\n",
      "wrong 6.0_23\n",
      "wrong 21100\n",
      "wrong 6.0_23\n",
      "wrong 21000\n",
      "wrong 5.3.0-FL2-20180717.9010\n",
      "wrong 6.0.1_19\n",
      "wrong 21000\n",
      "wrong 21100\n",
      "wrong 21100\n",
      "wrong 6.0.1_22\n",
      "wrong 6.0_23\n",
      "wrong 21100\n",
      "wrong 21100\n",
      "wrong 21100\n",
      "wrong 21000\n",
      "wrong 21100\n",
      "wrong 21100\n",
      "wrong 21100\n",
      "wrong 6.0_23\n",
      "wrong 21100\n",
      "wrong 21100\n",
      "wrong 21100\n",
      "wrong 21000\n",
      "wrong 6.0.1_22\n",
      "wrong 21100\n",
      "wrong 21000\n",
      "wrong 21100\n",
      "wrong 21000\n",
      "wrong 21100\n",
      "wrong 21100\n",
      "wrong 6.0_23\n",
      "wrong 21100\n",
      "wrong 21000\n",
      "wrong 3.2.0-FL2-20180726.9015\n",
      "wrong 21100\n",
      "wrong 21100\n",
      "wrong 21100\n",
      "wrong 21100\n",
      "wrong unknown\n",
      "wrong 21100\n",
      "wrong 21100\n",
      "wrong 6.0_23\n",
      "wrong 21100\n",
      "wrong 21100\n",
      "wrong 21100\n",
      "wrong 21100\n",
      "wrong 21100\n",
      "wrong 21000\n",
      "wrong 21100\n"
     ]
    },
    {
     "ename": "KeyError",
     "evalue": "\"None of [Index(['osv_0', 'osv_1', 'osv_2'], dtype='object')] are in the [columns]\"",
     "output_type": "error",
     "traceback": [
      "\u001b[0;31m---------------------------------------------------------------------------\u001b[0m",
      "\u001b[0;31mKeyError\u001b[0m                                  Traceback (most recent call last)",
      "\u001b[0;32m<ipython-input-93-9e07e21caddb>\u001b[0m in \u001b[0;36m<module>\u001b[0;34m\u001b[0m\n\u001b[1;32m     13\u001b[0m \u001b[0;31m#         return [np.nan,np.nan,np.nan]\u001b[0m\u001b[0;34m\u001b[0m\u001b[0;34m\u001b[0m\u001b[0m\n\u001b[1;32m     14\u001b[0m         \u001b[0mprint\u001b[0m\u001b[0;34m(\u001b[0m\u001b[0;34m'wrong'\u001b[0m\u001b[0;34m,\u001b[0m\u001b[0mdata\u001b[0m\u001b[0;34m)\u001b[0m\u001b[0;34m\u001b[0m\u001b[0m\n\u001b[0;32m---> 15\u001b[0;31m \u001b[0mtrain\u001b[0m\u001b[0;34m[\u001b[0m\u001b[0;34m[\u001b[0m\u001b[0;34m'osv_0'\u001b[0m\u001b[0;34m,\u001b[0m\u001b[0;34m'osv_1'\u001b[0m\u001b[0;34m,\u001b[0m\u001b[0;34m'osv_2'\u001b[0m\u001b[0;34m]\u001b[0m\u001b[0;34m]\u001b[0m\u001b[0;34m=\u001b[0m\u001b[0mtrain\u001b[0m\u001b[0;34m[\u001b[0m\u001b[0;34m'osv'\u001b[0m\u001b[0;34m]\u001b[0m\u001b[0;34m.\u001b[0m\u001b[0mapply\u001b[0m\u001b[0;34m(\u001b[0m\u001b[0;32mlambda\u001b[0m \u001b[0mx\u001b[0m\u001b[0;34m:\u001b[0m\u001b[0mosv_split\u001b[0m\u001b[0;34m(\u001b[0m\u001b[0mx\u001b[0m\u001b[0;34m)\u001b[0m\u001b[0;34m)\u001b[0m\u001b[0;34m\u001b[0m\u001b[0m\n\u001b[0m",
      "\u001b[0;32m/usr/local/lib/python3.5/dist-packages/pandas/core/frame.py\u001b[0m in \u001b[0;36m__setitem__\u001b[0;34m(self, key, value)\u001b[0m\n\u001b[1;32m   3365\u001b[0m             \u001b[0mself\u001b[0m\u001b[0;34m.\u001b[0m\u001b[0m_setitem_frame\u001b[0m\u001b[0;34m(\u001b[0m\u001b[0mkey\u001b[0m\u001b[0;34m,\u001b[0m \u001b[0mvalue\u001b[0m\u001b[0;34m)\u001b[0m\u001b[0;34m\u001b[0m\u001b[0m\n\u001b[1;32m   3366\u001b[0m         \u001b[0;32melif\u001b[0m \u001b[0misinstance\u001b[0m\u001b[0;34m(\u001b[0m\u001b[0mkey\u001b[0m\u001b[0;34m,\u001b[0m \u001b[0;34m(\u001b[0m\u001b[0mSeries\u001b[0m\u001b[0;34m,\u001b[0m \u001b[0mnp\u001b[0m\u001b[0;34m.\u001b[0m\u001b[0mndarray\u001b[0m\u001b[0;34m,\u001b[0m \u001b[0mlist\u001b[0m\u001b[0;34m,\u001b[0m \u001b[0mIndex\u001b[0m\u001b[0;34m)\u001b[0m\u001b[0;34m)\u001b[0m\u001b[0;34m:\u001b[0m\u001b[0;34m\u001b[0m\u001b[0m\n\u001b[0;32m-> 3367\u001b[0;31m             \u001b[0mself\u001b[0m\u001b[0;34m.\u001b[0m\u001b[0m_setitem_array\u001b[0m\u001b[0;34m(\u001b[0m\u001b[0mkey\u001b[0m\u001b[0;34m,\u001b[0m \u001b[0mvalue\u001b[0m\u001b[0;34m)\u001b[0m\u001b[0;34m\u001b[0m\u001b[0m\n\u001b[0m\u001b[1;32m   3368\u001b[0m         \u001b[0;32melse\u001b[0m\u001b[0;34m:\u001b[0m\u001b[0;34m\u001b[0m\u001b[0m\n\u001b[1;32m   3369\u001b[0m             \u001b[0;31m# set column\u001b[0m\u001b[0;34m\u001b[0m\u001b[0;34m\u001b[0m\u001b[0m\n",
      "\u001b[0;32m/usr/local/lib/python3.5/dist-packages/pandas/core/frame.py\u001b[0m in \u001b[0;36m_setitem_array\u001b[0;34m(self, key, value)\u001b[0m\n\u001b[1;32m   3391\u001b[0m                     \u001b[0mself\u001b[0m\u001b[0;34m[\u001b[0m\u001b[0mk1\u001b[0m\u001b[0;34m]\u001b[0m \u001b[0;34m=\u001b[0m \u001b[0mvalue\u001b[0m\u001b[0;34m[\u001b[0m\u001b[0mk2\u001b[0m\u001b[0;34m]\u001b[0m\u001b[0;34m\u001b[0m\u001b[0m\n\u001b[1;32m   3392\u001b[0m             \u001b[0;32melse\u001b[0m\u001b[0;34m:\u001b[0m\u001b[0;34m\u001b[0m\u001b[0m\n\u001b[0;32m-> 3393\u001b[0;31m                 \u001b[0mindexer\u001b[0m \u001b[0;34m=\u001b[0m \u001b[0mself\u001b[0m\u001b[0;34m.\u001b[0m\u001b[0mloc\u001b[0m\u001b[0;34m.\u001b[0m\u001b[0m_convert_to_indexer\u001b[0m\u001b[0;34m(\u001b[0m\u001b[0mkey\u001b[0m\u001b[0;34m,\u001b[0m \u001b[0maxis\u001b[0m\u001b[0;34m=\u001b[0m\u001b[0;36m1\u001b[0m\u001b[0;34m)\u001b[0m\u001b[0;34m\u001b[0m\u001b[0m\n\u001b[0m\u001b[1;32m   3394\u001b[0m                 \u001b[0mself\u001b[0m\u001b[0;34m.\u001b[0m\u001b[0m_check_setitem_copy\u001b[0m\u001b[0;34m(\u001b[0m\u001b[0;34m)\u001b[0m\u001b[0;34m\u001b[0m\u001b[0m\n\u001b[1;32m   3395\u001b[0m                 \u001b[0mself\u001b[0m\u001b[0;34m.\u001b[0m\u001b[0mloc\u001b[0m\u001b[0;34m.\u001b[0m\u001b[0m_setitem_with_indexer\u001b[0m\u001b[0;34m(\u001b[0m\u001b[0;34m(\u001b[0m\u001b[0mslice\u001b[0m\u001b[0;34m(\u001b[0m\u001b[0;32mNone\u001b[0m\u001b[0;34m)\u001b[0m\u001b[0;34m,\u001b[0m \u001b[0mindexer\u001b[0m\u001b[0;34m)\u001b[0m\u001b[0;34m,\u001b[0m \u001b[0mvalue\u001b[0m\u001b[0;34m)\u001b[0m\u001b[0;34m\u001b[0m\u001b[0m\n",
      "\u001b[0;32m/usr/local/lib/python3.5/dist-packages/pandas/core/indexing.py\u001b[0m in \u001b[0;36m_convert_to_indexer\u001b[0;34m(self, obj, axis, is_setter, raise_missing)\u001b[0m\n\u001b[1;32m   1352\u001b[0m                 kwargs = {'raise_missing': True if is_setter else\n\u001b[1;32m   1353\u001b[0m                           raise_missing}\n\u001b[0;32m-> 1354\u001b[0;31m                 \u001b[0;32mreturn\u001b[0m \u001b[0mself\u001b[0m\u001b[0;34m.\u001b[0m\u001b[0m_get_listlike_indexer\u001b[0m\u001b[0;34m(\u001b[0m\u001b[0mobj\u001b[0m\u001b[0;34m,\u001b[0m \u001b[0maxis\u001b[0m\u001b[0;34m,\u001b[0m \u001b[0;34m**\u001b[0m\u001b[0mkwargs\u001b[0m\u001b[0;34m)\u001b[0m\u001b[0;34m[\u001b[0m\u001b[0;36m1\u001b[0m\u001b[0;34m]\u001b[0m\u001b[0;34m\u001b[0m\u001b[0m\n\u001b[0m\u001b[1;32m   1355\u001b[0m         \u001b[0;32melse\u001b[0m\u001b[0;34m:\u001b[0m\u001b[0;34m\u001b[0m\u001b[0m\n\u001b[1;32m   1356\u001b[0m             \u001b[0;32mtry\u001b[0m\u001b[0;34m:\u001b[0m\u001b[0;34m\u001b[0m\u001b[0m\n",
      "\u001b[0;32m/usr/local/lib/python3.5/dist-packages/pandas/core/indexing.py\u001b[0m in \u001b[0;36m_get_listlike_indexer\u001b[0;34m(self, key, axis, raise_missing)\u001b[0m\n\u001b[1;32m   1159\u001b[0m         self._validate_read_indexer(keyarr, indexer,\n\u001b[1;32m   1160\u001b[0m                                     \u001b[0mo\u001b[0m\u001b[0;34m.\u001b[0m\u001b[0m_get_axis_number\u001b[0m\u001b[0;34m(\u001b[0m\u001b[0maxis\u001b[0m\u001b[0;34m)\u001b[0m\u001b[0;34m,\u001b[0m\u001b[0;34m\u001b[0m\u001b[0m\n\u001b[0;32m-> 1161\u001b[0;31m                                     raise_missing=raise_missing)\n\u001b[0m\u001b[1;32m   1162\u001b[0m         \u001b[0;32mreturn\u001b[0m \u001b[0mkeyarr\u001b[0m\u001b[0;34m,\u001b[0m \u001b[0mindexer\u001b[0m\u001b[0;34m\u001b[0m\u001b[0m\n\u001b[1;32m   1163\u001b[0m \u001b[0;34m\u001b[0m\u001b[0m\n",
      "\u001b[0;32m/usr/local/lib/python3.5/dist-packages/pandas/core/indexing.py\u001b[0m in \u001b[0;36m_validate_read_indexer\u001b[0;34m(self, key, indexer, axis, raise_missing)\u001b[0m\n\u001b[1;32m   1244\u001b[0m                 raise KeyError(\n\u001b[1;32m   1245\u001b[0m                     u\"None of [{key}] are in the [{axis}]\".format(\n\u001b[0;32m-> 1246\u001b[0;31m                         key=key, axis=self.obj._get_axis_name(axis)))\n\u001b[0m\u001b[1;32m   1247\u001b[0m \u001b[0;34m\u001b[0m\u001b[0m\n\u001b[1;32m   1248\u001b[0m             \u001b[0;31m# We (temporarily) allow for some missing keys with .loc, except in\u001b[0m\u001b[0;34m\u001b[0m\u001b[0;34m\u001b[0m\u001b[0m\n",
      "\u001b[0;31mKeyError\u001b[0m: \"None of [Index(['osv_0', 'osv_1', 'osv_2'], dtype='object')] are in the [columns]\""
     ]
    }
   ],
   "source": [
    "###osv,ver版本细分;;;;参考别人的处理方式\n",
    "##有问题暂时不做\n",
    "# import re\n",
    "# def osv_split(data):\n",
    "#     osv_split=re.findall('\\d',str(data))\n",
    "#     if len(osv_split)==1:\n",
    "#         return osv_split+[0,0]\n",
    "#     elif len(osv_split)==2:\n",
    "#         return osv_split+[0]\n",
    "#     elif len(osv_split)==3:\n",
    "#         return osv_split\n",
    "#     else:\n",
    "# #     elif len(osv_split)==0:\n",
    "# #         return [np.nan,np.nan,np.nan]\n",
    "#         print('wrong',data)\n",
    "# train[['osv_0','osv_1','osv_2']]=train['osv'].apply(lambda x:osv_split(x))"
   ]
  },
  {
   "cell_type": "code",
   "execution_count": 43,
   "metadata": {},
   "outputs": [
    {
     "data": {
      "text/plain": [
       "156025     3392ffd73ca325c450595f13f6eb37ff\n",
       "957671     54f773730a2843a5a896ec1523e9dc86\n",
       "869103     f7f51c75903540046d8aa701bd53596c\n",
       "1098657    b6e907ac0d85bb314316757a68086ba4\n",
       "896495     2b48983b5ddb14f7ab4a63d822911507\n",
       "4576       c380827e4fa791fb36bb81f7a35b4a8a\n",
       "672657     c86257bb592de993c1127f73a6e5b352\n",
       "851082     a4efabd72c2f590da85cf850eeec7fea\n",
       "536758     f289d134e8b2500ac2a3a48c28dc2a81\n",
       "965428     f7f51c75903540046d8aa701bd53596c\n",
       "Name: adidmd5, dtype: object"
      ]
     },
     "execution_count": 43,
     "metadata": {},
     "output_type": "execute_result"
    }
   ],
   "source": [
    "train['adidmd5'].sample(10)"
   ]
  },
  {
   "cell_type": "code",
   "execution_count": 56,
   "metadata": {},
   "outputs": [
    {
     "name": "stdout",
     "output_type": "stream",
     "text": [
      "2.0    1073045\n",
      "3.0      26955\n",
      "Name: dvctype, dtype: int64\n",
      "2.0    743293\n",
      "6.0    258570\n",
      "5.0     77550\n",
      "3.0     10277\n",
      "4.0      9657\n",
      "7.0       650\n",
      "1.0         3\n",
      "Name: ntt, dtype: int64\n",
      "46000.0    932656\n",
      "46001.0     95879\n",
      "46003.0     71465\n",
      "Name: carrier, dtype: int64\n"
     ]
    }
   ],
   "source": [
    "for each in ['dvctype','ntt','carrier']:\n",
    "    print(train[each].value_counts())"
   ]
  },
  {
   "cell_type": "code",
   "execution_count": 49,
   "metadata": {},
   "outputs": [
    {
     "data": {
      "text/plain": [
       "array([ 4.6000e+04,  0.0000e+00,  4.6001e+04, -1.0000e+00,  4.6003e+04])"
      ]
     },
     "execution_count": 49,
     "metadata": {},
     "output_type": "execute_result"
    }
   ],
   "source": [
    "train['carrier'].unique()"
   ]
  },
  {
   "cell_type": "code",
   "execution_count": 58,
   "metadata": {},
   "outputs": [],
   "source": [
    "# train.loc[train['carrier']==-1,['label','carrier']].sample(20)"
   ]
  },
  {
   "cell_type": "code",
   "execution_count": 16,
   "metadata": {
    "collapsed": true
   },
   "outputs": [
    {
     "name": "stdout",
     "output_type": "stream",
     "text": [
      "nginxtime 999028\n"
     ]
    },
    {
     "data": {
      "image/png": "[encoded data removed]",
      "text/plain": [
       "<Figure size 432x288 with 1 Axes>"
      ]
     },
     "metadata": {
      "needs_background": "light"
     },
     "output_type": "display_data"
    },
    {
     "name": "stdout",
     "output_type": "stream",
     "text": [
      "ppi 115\n"
     ]
    },
    {
     "data": {
      "image/png": "[encoded data removed]",
      "text/plain": [
       "<Figure size 432x288 with 1 Axes>"
      ]
     },
     "metadata": {
      "needs_background": "light"
     },
     "output_type": "display_data"
    },
    {
     "name": "stdout",
     "output_type": "stream",
     "text": [
      "w 441\n"
     ]
    },
    {
     "data": {
      "image/png": "[encoded data removed]",
      "text/plain": [
       "<Figure size 432x288 with 1 Axes>"
      ]
     },
     "metadata": {
      "needs_background": "light"
     },
     "output_type": "display_data"
    },
    {
     "name": "stdout",
     "output_type": "stream",
     "text": [
      "h 953\n"
     ]
    },
    {
     "data": {
      "image/png": "[encoded data removed]",
      "text/plain": [
       "<Figure size 432x288 with 1 Axes>"
      ]
     },
     "metadata": {
      "needs_background": "light"
     },
     "output_type": "display_data"
    }
   ],
   "source": [
    "from matplotlib import pyplot as plt\n",
    "for each in num_col:\n",
    "    print(each,train[each].nunique())\n",
    "    train[each].hist()\n",
    "    plt.show()"
   ]
  },
  {
   "cell_type": "code",
   "execution_count": 15,
   "metadata": {},
   "outputs": [
    {
     "data": {
      "text/html": [
       "<div>\n",
       "<style scoped>\n",
       "    .dataframe tbody tr th:only-of-type {\n",
       "        vertical-align: middle;\n",
       "    }\n",
       "\n",
       "    .dataframe tbody tr th {\n",
       "        vertical-align: top;\n",
       "    }\n",
       "\n",
       "    .dataframe thead th {\n",
       "        text-align: right;\n",
       "    }\n",
       "</style>\n",
       "<table border=\"1\" class=\"dataframe\">\n",
       "  <thead>\n",
       "    <tr style=\"text-align: right;\">\n",
       "      <th></th>\n",
       "      <th>nginxtime</th>\n",
       "      <th>ppi</th>\n",
       "      <th>w</th>\n",
       "      <th>h</th>\n",
       "    </tr>\n",
       "  </thead>\n",
       "  <tbody>\n",
       "    <tr>\n",
       "      <th>547190</th>\n",
       "      <td>1.559803e+12</td>\n",
       "      <td>3.000000</td>\n",
       "      <td>1080.000000</td>\n",
       "      <td>1920.000000</td>\n",
       "    </tr>\n",
       "    <tr>\n",
       "      <th>960771</th>\n",
       "      <td>1.559547e+12</td>\n",
       "      <td>3.000000</td>\n",
       "      <td>360.000000</td>\n",
       "      <td>572.000000</td>\n",
       "    </tr>\n",
       "    <tr>\n",
       "      <th>73246</th>\n",
       "      <td>1.560039e+12</td>\n",
       "      <td>480.000000</td>\n",
       "      <td>1080.000000</td>\n",
       "      <td>2340.000000</td>\n",
       "    </tr>\n",
       "    <tr>\n",
       "      <th>280747</th>\n",
       "      <td>1.559961e+12</td>\n",
       "      <td>71.740154</td>\n",
       "      <td>703.122219</td>\n",
       "      <td>1264.178138</td>\n",
       "    </tr>\n",
       "    <tr>\n",
       "      <th>718138</th>\n",
       "      <td>1.559741e+12</td>\n",
       "      <td>71.740154</td>\n",
       "      <td>720.000000</td>\n",
       "      <td>1208.000000</td>\n",
       "    </tr>\n",
       "    <tr>\n",
       "      <th>358726</th>\n",
       "      <td>1.559892e+12</td>\n",
       "      <td>71.740154</td>\n",
       "      <td>703.122219</td>\n",
       "      <td>1264.178138</td>\n",
       "    </tr>\n",
       "    <tr>\n",
       "      <th>619628</th>\n",
       "      <td>1.559746e+12</td>\n",
       "      <td>71.740154</td>\n",
       "      <td>1080.000000</td>\n",
       "      <td>1920.000000</td>\n",
       "    </tr>\n",
       "    <tr>\n",
       "      <th>795268</th>\n",
       "      <td>1.559636e+12</td>\n",
       "      <td>71.740154</td>\n",
       "      <td>1080.000000</td>\n",
       "      <td>2136.000000</td>\n",
       "    </tr>\n",
       "    <tr>\n",
       "      <th>475904</th>\n",
       "      <td>1.559802e+12</td>\n",
       "      <td>71.740154</td>\n",
       "      <td>2160.000000</td>\n",
       "      <td>1080.000000</td>\n",
       "    </tr>\n",
       "    <tr>\n",
       "      <th>643540</th>\n",
       "      <td>1.559722e+12</td>\n",
       "      <td>71.740154</td>\n",
       "      <td>1080.000000</td>\n",
       "      <td>1920.000000</td>\n",
       "    </tr>\n",
       "  </tbody>\n",
       "</table>\n",
       "</div>"
      ],
      "text/plain": [
       "           nginxtime         ppi            w            h\n",
       "547190  1.559803e+12    3.000000  1080.000000  1920.000000\n",
       "960771  1.559547e+12    3.000000   360.000000   572.000000\n",
       "73246   1.560039e+12  480.000000  1080.000000  2340.000000\n",
       "280747  1.559961e+12   71.740154   703.122219  1264.178138\n",
       "718138  1.559741e+12   71.740154   720.000000  1208.000000\n",
       "358726  1.559892e+12   71.740154   703.122219  1264.178138\n",
       "619628  1.559746e+12   71.740154  1080.000000  1920.000000\n",
       "795268  1.559636e+12   71.740154  1080.000000  2136.000000\n",
       "475904  1.559802e+12   71.740154  2160.000000  1080.000000\n",
       "643540  1.559722e+12   71.740154  1080.000000  1920.000000"
      ]
     },
     "execution_count": 15,
     "metadata": {},
     "output_type": "execute_result"
    }
   ],
   "source": [
    "train[num_col].sample(10)"
   ]
  },
  {
   "cell_type": "code",
   "execution_count": 72,
   "metadata": {},
   "outputs": [
    {
     "data": {
      "text/plain": [
       "(1100000,)"
      ]
     },
     "execution_count": 72,
     "metadata": {},
     "output_type": "execute_result"
    }
   ],
   "source": [
    "train['os'].shape"
   ]
  },
  {
   "cell_type": "code",
   "execution_count": 15,
   "metadata": {
    "colab": {},
    "colab_type": "code",
    "id": "WF2fXrJ3FXN5"
   },
   "outputs": [
    {
     "name": "stdout",
     "output_type": "stream",
     "text": [
      "OPPO                               276898\n",
      "vivo                               226658\n",
      "HUAWEI                             140049\n",
      "Xiaomi                              53002\n",
      "HONOR                               50046\n",
      "Meizu                               18797\n",
      "xiaomi                              16503\n",
      "华为                                  15654\n",
      "samsung                             15311\n",
      "smartisan                           13922\n",
      "VIVO                                12792\n",
      "oppo                                12081\n",
      "GIONEE                               9634\n",
      "360手机                                7096\n",
      "OnePlus                              5960\n",
      "SMARTISAN                            5460\n",
      "金立                                   5243\n",
      "三星                                   4397\n",
      "huawei                               3724\n",
      "nubia                                3652\n",
      "荣耀                                   2393\n",
      "小米                                   2388\n",
      "魅族                                   2134\n",
      "GiONEE                               2133\n",
      "meizu                                1699\n",
      "EML-AL00                             1522\n",
      "Meitu                                1510\n",
      "BBK                                  1499\n",
      "gionee                               1484\n",
      "Hisense                              1353\n",
      "                                    ...  \n",
      "Q988                                    1\n",
      "OPPO%20R11%20Pluskt                     1\n",
      "ONEPLUS%20A6013                         1\n",
      "msmnile                                 1\n",
      "vivo,vivo X5Max+,bbk6752_lwt_kk         1\n",
      "呵呵呵                                     1\n",
      "gaocaisheng                             1\n",
      "HUAWEI__HUAWEI__HWI-AL00                1\n",
      "Xshitou                                 1\n",
      "oinom                                   1\n",
      "360,1701-M01,1701-M01                   1\n",
      "MRD-TL00                                1\n",
      "lefur                                   1\n",
      "HUAWEI TIT-CL10                         1\n",
      "opalee                                  1\n",
      "hipad                                   1\n",
      "HUAWEI__HUAWEI__EVR-AL00                1\n",
      "VCE-L22                                 1\n",
      "OPPOR11st                               1\n",
      "vivo__vivo__vivoX21A                    1\n",
      "XiaomiMI4                               1\n",
      "full_oppo6763_17031                     1\n",
      "C880                                    1\n",
      "OPPO,PAFT00,PAFT00                      1\n",
      "小学霸                                     1\n",
      "vivo,V1814T,PD1814                      1\n",
      "ta-1041                                 1\n",
      "mi_9_se                                 1\n",
      "miyu                                    1\n",
      "Hizee                                   1\n",
      "Name: make, Length: 2727, dtype: int64\n",
      "[]\n"
     ]
    }
   ],
   "source": [
    "'''\n",
    "[('label', 2), ('os', 2), ('dvctype', 3), ('orientation', 4), ('carrier', 5), ('ntt', 8), ('province', 8),\n",
    "('lan', 33), ('apptype', 91), ('ppi', 119), ('osv', 185), ('mediashowid', 313), ('city', 331), ('idfamd5', 360),\n",
    "('w', 449), ('adunitshowid', 800), ('h', 985), ('pkgname', 2368), ('make', 2727), ('ver', 3268), ('model', 7957),\n",
    "('reqrealip', 9748), ('openudidmd5', 85051), ('macmd5', 329184), ('adidmd5', 780369), ('ip', 813719), ('imeimd5', 1021836),\n",
    "('nginxtime', 1098977), ('sid', 1100000)]\n",
    "'''\n",
    "\n",
    "\n",
    "\n",
    "tt=train[cat_var]\n",
    "# for each in tt:\n",
    "#     tt[each]=tt[each].map(lambda x:str(x).upper())\n",
    "##os版本细分，时间分为早中晚（天小时已有）\n",
    "##类别变量处理，城市根据excel合并，带有%号的那个进行转换，其它异常值-1，全部大写（合并为一类）,可能还要离散化处理（类别变量的长尾分布进行处理）\n",
    "larg_base=[]\n",
    " \n",
    "for each in ['make']:#\n",
    "    nun=tt[each].nunique()\n",
    "#     if nun>5000:\n",
    "#         larg_base.append(each)\n",
    "#         continue\n",
    "      \n",
    "    if True:#nun<100:\n",
    "       print(tt[each].value_counts())\n",
    "print(larg_base)\n",
    "\n"
   ]
  },
  {
   "cell_type": "code",
   "execution_count": 7,
   "metadata": {
    "colab": {},
    "colab_type": "code",
    "id": "xixahdYvFXBZ"
   },
   "outputs": [
    {
     "data": {
      "text/plain": [
       "北京市    33169\n",
       "重庆市    28287\n",
       "成都市    25748\n",
       "广州市    20684\n",
       "上海市    19897\n",
       "Name: city, dtype: int64"
      ]
     },
     "execution_count": 7,
     "metadata": {},
     "output_type": "execute_result"
    }
   ],
   "source": [
    "sa=train['city'].value_counts()\n"
   ]
  },
  {
   "cell_type": "code",
   "execution_count": 30,
   "metadata": {},
   "outputs": [
    {
     "data": {
      "text/plain": [
       "北京市     33169\n",
       "重庆市     28287\n",
       "成都市     25748\n",
       "广州市     20684\n",
       "上海市     19897\n",
       "西安市     18819\n",
       "郑州市     18359\n",
       "南京市     18196\n",
       "深圳市     17156\n",
       "天津市     16876\n",
       "武汉市     16414\n",
       "长沙市     15510\n",
       "青岛市     15355\n",
       "常州市     13506\n",
       "合肥市     13291\n",
       "哈尔滨市    13052\n",
       "南宁市     12625\n",
       "石家庄市    12370\n",
       "宁波市     12324\n",
       "东莞市     12163\n",
       "Name: city, dtype: int64"
      ]
     },
     "execution_count": 30,
     "metadata": {},
     "output_type": "execute_result"
    }
   ],
   "source": [
    "sa.head(20)"
   ]
  },
  {
   "cell_type": "code",
   "execution_count": 28,
   "metadata": {
    "colab": {},
    "colab_type": "code",
    "id": "JpZuAehaFW5Q"
   },
   "outputs": [
    {
     "data": {
      "text/plain": [
       "<matplotlib.axes._subplots.AxesSubplot at 0x7f35b831f400>"
      ]
     },
     "execution_count": 28,
     "metadata": {},
     "output_type": "execute_result"
    },
    {
     "data": {
      "image/png": "[encoded data removed]",
      "text/plain": [
       "<Figure size 4320x504 with 1 Axes>"
      ]
     },
     "metadata": {},
     "output_type": "display_data"
    }
   ],
   "source": [
    "#\n",
    "plt.figure(figsize=(60, 7))\n",
    "sa.plot.bar()"
   ]
  },
  {
   "cell_type": "code",
   "execution_count": 11,
   "metadata": {
    "colab": {},
    "colab_type": "code",
    "id": "W2IqWlKbFWxl"
   },
   "outputs": [
    {
     "name": "stdout",
     "output_type": "stream",
     "text": [
      "/usr/local/lib/python3.5/dist-packages/matplotlib/mpl-data/matplotlibrc\n"
     ]
    }
   ],
   "source": [
    "import matplotlib\n",
    "print(matplotlib.matplotlib_fname())"
   ]
  },
  {
   "cell_type": "code",
   "execution_count": null,
   "metadata": {},
   "outputs": [],
   "source": [
    "print(matplotlib.matplotlib_fname())\n"
   ]
  },
  {
   "cell_type": "code",
   "execution_count": 12,
   "metadata": {},
   "outputs": [
    {
     "name": "stdout",
     "output_type": "stream",
     "text": [
      "/root/.cache/matplotlib\n"
     ]
    }
   ],
   "source": [
    "import matplotlib as mpl\n",
    "print(mpl.get_cachedir())\n"
   ]
  },
  {
   "cell_type": "code",
   "execution_count": 19,
   "metadata": {},
   "outputs": [],
   "source": [
    "##设置matlibplot、seaborn运行环境\n",
    "import matplotlib as mpl \n",
    "mpl.rcParams['font.sans-serif'] = ['simhei'] \n",
    "mpl.rcParams['font.serif'] = ['simhei'] \n",
    "import seaborn as sns \n",
    "sns.set_style('darkgrid',{'font.sans-serif':['simhei','Droid Sans Fallback']})"
   ]
  },
  {
   "cell_type": "code",
   "execution_count": 20,
   "metadata": {},
   "outputs": [
    {
     "data": {
      "text/plain": [
       "0.0    517106\n",
       "1.0    482894\n",
       "Name: label, dtype: int64"
      ]
     },
     "execution_count": 20,
     "metadata": {},
     "output_type": "execute_result"
    }
   ],
   "source": [
    "##\n",
    "train.label.value_counts()"
   ]
  },
  {
   "cell_type": "code",
   "execution_count": 25,
   "metadata": {},
   "outputs": [],
   "source": [
    "####################训练集正负样本比例\n",
    "#% matplotlib inline\n",
    "import seaborn as sns\n",
    "sns.set(style=\"whitegrid\", color_codes=True)\n",
    "sns.set(font_scale=1)"
   ]
  },
  {
   "cell_type": "code",
   "execution_count": 21,
   "metadata": {},
   "outputs": [
    {
     "data": {
      "image/png": "[encoded data removed]",
      "text/plain": [
       "<Figure size 432x288 with 1 Axes>"
      ]
     },
     "metadata": {},
     "output_type": "display_data"
    }
   ],
   "source": [
    "labels = [0,1]\n",
    "sizes = train.label.value_counts().values\n",
    "explode=[0.1,0]\n",
    "colors = [  'lightcoral','gold']\n",
    "patches, texts,autotexts= plt.pie(sizes, labels=labels,colors=colors,explode=explode,autopct=\"%1.1f%%\",startangle=90)\n",
    "plt.title(\"label\")\n",
    "plt.show()"
   ]
  },
  {
   "cell_type": "code",
   "execution_count": 39,
   "metadata": {},
   "outputs": [
    {
     "data": {
      "image/png": "[encoded data removed]",
      "text/plain": [
       "<Figure size 432x288 with 1 Axes>"
      ]
     },
     "metadata": {},
     "output_type": "display_data"
    }
   ],
   "source": [
    "\n",
    "sns.stripplot(train[\"label\"],train[\"h\"],jitter=True)\n",
    "plt.title(\"label Vs h \");"
   ]
  },
  {
   "cell_type": "code",
   "execution_count": 37,
   "metadata": {},
   "outputs": [
    {
     "data": {
      "image/png": "[encoded data removed]",
      "text/plain": [
       "<Figure size 432x288 with 1 Axes>"
      ]
     },
     "metadata": {},
     "output_type": "display_data"
    }
   ],
   "source": [
    "# t=train.sample(1000)\n",
    "sns.stripplot(train[\"label\"],train[\"w\"],jitter=True,order=)\n",
    "plt.title(\"label Vs w \");"
   ]
  },
  {
   "cell_type": "code",
   "execution_count": 46,
   "metadata": {},
   "outputs": [
    {
     "data": {
      "text/plain": [
       "<matplotlib.axes._subplots.AxesSubplot at 0x7f36dbc2eb70>"
      ]
     },
     "execution_count": 46,
     "metadata": {},
     "output_type": "execute_result"
    },
    {
     "data": {
      "image/png": "[encoded data removed]",
      "text/plain": [
       "<Figure size 576x576 with 2 Axes>"
      ]
     },
     "metadata": {},
     "output_type": "display_data"
    }
   ],
   "source": [
    "plt.figure(figsize=(8,8))\n",
    "sns.heatmap(train[['w','h','ppi']].corr(),annot=True)\n"
   ]
  },
  {
   "cell_type": "code",
   "execution_count": null,
   "metadata": {
    "colab": {
     "base_uri": "https://localhost:8080/",
     "height": 35
    },
    "colab_type": "code",
    "executionInfo": {
     "elapsed": 758,
     "status": "ok",
     "timestamp": 1563406882304,
     "user": {
      "displayName": "陶士来",
      "photoUrl": "",
      "userId": "08104502188577818611"
     },
     "user_tz": -480
    },
    "id": "be3nOV39FWqE",
    "outputId": "5018a857-21b1-4a22-9ef0-a99ae6934d1a"
   },
   "outputs": [],
   "source": [
    "# time_data=1560174000000.0 #(ms)\n",
    "# print(time_data)\n",
    "# import pandas as pd\n",
    "# from datetime import datetime,timedelta\n",
    "# import time"
   ]
  },
  {
   "cell_type": "code",
   "execution_count": null,
   "metadata": {
    "colab": {},
    "colab_type": "code",
    "id": "VCH78ahgUXBf"
   },
   "outputs": [],
   "source": [
    "# print(time.localtime(int(time_data)))"
   ]
  },
  {
   "cell_type": "code",
   "execution_count": null,
   "metadata": {
    "colab": {
     "base_uri": "https://localhost:8080/",
     "height": 35
    },
    "colab_type": "code",
    "executionInfo": {
     "elapsed": 1469,
     "status": "ok",
     "timestamp": 1563426274300,
     "user": {
      "displayName": "陶士来",
      "photoUrl": "",
      "userId": "08104502188577818611"
     },
     "user_tz": -480
    },
    "id": "E9NFoZIOUx_e",
    "outputId": "c007397e-3d94-482e-96e7-13f9a9170cf6"
   },
   "outputs": [],
   "source": [
    "# # time_data=1.560091e+12\n",
    "# # time_data=1.560174e+12\n",
    "# day_tt=time.strftime(\"%Y-%m-%d %H:%M:%S\", time.localtime())##服务器时间不同，造成本地时间不同\n",
    "# print('day_tt',day_tt)###服务器时间相差8个小时，与本地时间（自己电脑）"
   ]
  },
  {
   "cell_type": "code",
   "execution_count": null,
   "metadata": {
    "colab": {
     "base_uri": "https://localhost:8080/",
     "height": 71
    },
    "colab_type": "code",
    "executionInfo": {
     "elapsed": 4030,
     "status": "ok",
     "timestamp": 1563426088877,
     "user": {
      "displayName": "陶士来",
      "photoUrl": "",
      "userId": "08104502188577818611"
     },
     "user_tz": -480
    },
    "id": "yNZhmLfPFWUU",
    "outputId": "89ad0ba0-b288-47ef-b6f2-04d0c9c8f1fc"
   },
   "outputs": [],
   "source": [
    "# # time_data=1.560091e+12\n",
    "# time_data=1.560174e+12\n",
    "# day_tt=time.strftime(\"%Y-%m-%d %H:%M:%S\", time.localtime(time_data/1000))##服务器时间不同，造成本地时间不同\n",
    "# print('day_tt',day_tt)\n",
    "\n",
    "\n",
    "# tt1=pd.to_datetime(time_data*1e+6)+timedelta(hours=8)\n",
    "# print(tt1,'||',tt1.day,'||',tt1.year,tt1.hour)\n",
    "\n",
    "# tt2=pd.to_datetime(time_data+8*3600000,unit='ms')\n",
    "# print(tt2)"
   ]
  },
  {
   "cell_type": "code",
   "execution_count": null,
   "metadata": {
    "colab": {},
    "colab_type": "code",
    "id": "SepY2-1jFWKA"
   },
   "outputs": [],
   "source": [
    "# print(timedelta(hours=8))\n",
    "# tt1=pd.to_datetime(time_data*1e+6)+timedelta(hours=8)\n",
    "# print(tt1,'||',tt1.day,'||',tt1.year)"
   ]
  },
  {
   "cell_type": "code",
   "execution_count": null,
   "metadata": {
    "colab": {},
    "colab_type": "code",
    "id": "_rgDn8XyYsfJ"
   },
   "outputs": [],
   "source": []
  },
  {
   "cell_type": "code",
   "execution_count": null,
   "metadata": {
    "colab": {},
    "colab_type": "code",
    "id": "9Y9XAOseFWCk"
   },
   "outputs": [],
   "source": [
    "#########################################################################"
   ]
  },
  {
   "cell_type": "code",
   "execution_count": null,
   "metadata": {
    "colab": {},
    "colab_type": "code",
    "id": "elwmlBigYtdd"
   },
   "outputs": [],
   "source": [
    "from datetime import datetime,timedelta"
   ]
  },
  {
   "cell_type": "code",
   "execution_count": null,
   "metadata": {
    "colab": {},
    "colab_type": "code",
    "id": "usVO-LBvXNsf"
   },
   "outputs": [],
   "source": [
    "#服务器本地时间不对，造成不同，要是在自己电脑上是可以的\n",
    "# import time\n",
    "# train['day'] = train['nginxtime'].apply(lambda x : int(time.strftime(\"%d\", time.localtime(x/1000))))\n",
    "# train['hour'] = train['nginxtime'].apply(lambda x : int(time.strftime(\"%H\", time.localtime(x/1000))))\n"
   ]
  },
  {
   "cell_type": "code",
   "execution_count": null,
   "metadata": {
    "colab": {},
    "colab_type": "code",
    "id": "04ZC1m-ZYrvX"
   },
   "outputs": [],
   "source": []
  },
  {
   "cell_type": "code",
   "execution_count": null,
   "metadata": {
    "colab": {},
    "colab_type": "code",
    "id": "uGk-9VZPYYxh"
   },
   "outputs": [],
   "source": [
    "# 对时间的处理\n",
    "train['time'] = pd.to_datetime(train['nginxtime']*1e+6) + timedelta(hours=8)\n",
    "train['day'] = train['time'].dt.day#ofyear\n",
    "train['hour'] = train['time'].dt.hour"
   ]
  },
  {
   "cell_type": "code",
   "execution_count": null,
   "metadata": {
    "colab": {
     "base_uri": "https://localhost:8080/",
     "height": 269
    },
    "colab_type": "code",
    "executionInfo": {
     "elapsed": 2146,
     "status": "ok",
     "timestamp": 1563462451778,
     "user": {
      "displayName": "陶士来",
      "photoUrl": "",
      "userId": "08104502188577818611"
     },
     "user_tz": -480
    },
    "id": "1VWoH5IxX9ff",
    "outputId": "6f01942f-bb23-406b-e9d3-7acfee581f0d"
   },
   "outputs": [],
   "source": [
    "print(sorted(train['day'].unique()))\n",
    "print(sorted(train['hour'].unique()))\n",
    "print(train.loc[train['label'].isnull(),['day']].groupby('day').size())\n",
    "print(train.loc[train['label'].notnull(),['day']].groupby('day').size())\n",
    "##第三天采样少，要乘以权重1.5"
   ]
  },
  {
   "cell_type": "code",
   "execution_count": null,
   "metadata": {
    "colab": {
     "base_uri": "https://localhost:8080/",
     "height": 107
    },
    "colab_type": "code",
    "executionInfo": {
     "elapsed": 1453,
     "status": "ok",
     "timestamp": 1563426411736,
     "user": {
      "displayName": "陶士来",
      "photoUrl": "",
      "userId": "08104502188577818611"
     },
     "user_tz": -480
    },
    "id": "AOvvdLwmgUoL",
    "outputId": "da858567-f362-4b36-d1b6-c7217131ca90"
   },
   "outputs": [],
   "source": [
    "# print(sorted(train['day1'].unique()))\n",
    "# print(sorted(train['hour1'].unique()))\n",
    "# print(train.loc[train['label'].isnull(),['day']].groupby('day').size())"
   ]
  },
  {
   "cell_type": "code",
   "execution_count": null,
   "metadata": {
    "colab": {
     "base_uri": "https://localhost:8080/",
     "height": 359
    },
    "colab_type": "code",
    "executionInfo": {
     "elapsed": 1370,
     "status": "ok",
     "timestamp": 1563458511065,
     "user": {
      "displayName": "陶士来",
      "photoUrl": "",
      "userId": "08104502188577818611"
     },
     "user_tz": -480
    },
    "id": "OhulleiQarVZ",
    "outputId": "58cf9dbc-e93a-433a-d0c0-dbce083f7649"
   },
   "outputs": [],
   "source": [
    "train[['day','label','hour','time','nginxtime']].head(10)"
   ]
  },
  {
   "cell_type": "code",
   "execution_count": null,
   "metadata": {
    "colab": {
     "base_uri": "https://localhost:8080/",
     "height": 793
    },
    "colab_type": "code",
    "executionInfo": {
     "elapsed": 1672,
     "status": "ok",
     "timestamp": 1563458538213,
     "user": {
      "displayName": "陶士来",
      "photoUrl": "",
      "userId": "08104502188577818611"
     },
     "user_tz": -480
    },
    "id": "qxePjr1Ye62F",
    "outputId": "ceecc7ed-f7f9-40a0-dff0-02b69ad6a6cb"
   },
   "outputs": [],
   "source": [
    "train.loc[train['label'].isnull(),['day','label','hour']].drop_duplicates().sort_values(by='day')"
   ]
  },
  {
   "cell_type": "raw",
   "metadata": {},
   "source": []
  },
  {
   "cell_type": "code",
   "execution_count": null,
   "metadata": {
    "colab": {
     "base_uri": "https://localhost:8080/",
     "height": 530
    },
    "colab_type": "code",
    "executionInfo": {
     "elapsed": 941,
     "status": "ok",
     "timestamp": 1562854471893,
     "user": {
      "displayName": "陶士来",
      "photoUrl": "",
      "userId": "08104502188577818611"
     },
     "user_tz": -480
    },
    "id": "ygqSPSlRYpxm",
    "outputId": "11234b47-3933-4104-9866-cc98a02c20b3"
   },
   "outputs": [],
   "source": [
    "train.head()"
   ]
  },
  {
   "cell_type": "code",
   "execution_count": null,
   "metadata": {
    "colab": {
     "base_uri": "https://localhost:8080/",
     "height": 629
    },
    "colab_type": "code",
    "executionInfo": {
     "elapsed": 17645,
     "status": "ok",
     "timestamp": 1562593710459,
     "user": {
      "displayName": "陶士来",
      "photoUrl": "",
      "userId": "08104502188577818611"
     },
     "user_tz": -480
    },
    "id": "zBCoRFg5PmC-",
    "outputId": "0e0a7037-e1cd-49fa-8953-dc17927ba171"
   },
   "outputs": [],
   "source": [
    "train.info(memory_usage='deep')"
   ]
  },
  {
   "cell_type": "code",
   "execution_count": 9,
   "metadata": {
    "colab": {},
    "colab_type": "code",
    "id": "_Zhr3ydAPph3"
   },
   "outputs": [],
   "source": [
    "import pandas as pd\n",
    "\n",
    "def null_ratio(a):\n",
    "  data=pd.DataFrame()\n",
    "\n",
    "  dd=[]\n",
    "  cc=[]\n",
    "  rr=[]\n",
    "\n",
    "  for i in a.columns:\n",
    "    d=len(a)-a[i].count()\n",
    "    r=(d/len(a))*100\n",
    "    rate='%.2f%%' % r\n",
    "    print('字段名为：',str(i).ljust(10),'缺失值数量:',str(d).ljust(4),'缺失数量占比：',rate) #这里print主要是为了在脚本中观察是否获取到想要的数据，方便调试。\n",
    "    dd.append(i)\n",
    "    cc.append(d)\n",
    "    rr.append(rate)\n",
    "\n",
    "  data[u'字段名为']=dd\n",
    "  data[u'缺失值数量']=cc\n",
    "  data[u'缺失数量占比']=rr\n",
    "  data=data.sort_values(by='缺失数量占比',ascending=False)\n",
    "  return data"
   ]
  },
  {
   "cell_type": "code",
   "execution_count": null,
   "metadata": {
    "colab": {},
    "colab_type": "code",
    "id": "4pdWPwypafLi"
   },
   "outputs": [],
   "source": [
    "# def unique_amout(df):\n",
    "  "
   ]
  },
  {
   "cell_type": "code",
   "execution_count": 10,
   "metadata": {
    "colab": {
     "base_uri": "https://localhost:8080/",
     "height": 539
    },
    "colab_type": "code",
    "executionInfo": {
     "elapsed": 1961,
     "status": "ok",
     "timestamp": 1562593728395,
     "user": {
      "displayName": "陶士来",
      "photoUrl": "",
      "userId": "08104502188577818611"
     },
     "user_tz": -480
    },
    "id": "ILUPY601elZ3",
    "outputId": "83e1bcd9-8725-4ea6-cae0-566f30f83bbc"
   },
   "outputs": [
    {
     "name": "stdout",
     "output_type": "stream",
     "text": [
      "字段名为： adidmd5    缺失值数量: 0    缺失数量占比： 0.00%\n",
      "字段名为： adunitshowid 缺失值数量: 0    缺失数量占比： 0.00%\n",
      "字段名为： apptype    缺失值数量: 0    缺失数量占比： 0.00%\n",
      "字段名为： carrier    缺失值数量: 0    缺失数量占比： 0.00%\n",
      "字段名为： city       缺失值数量: 16660 缺失数量占比： 1.51%\n",
      "字段名为： dvctype    缺失值数量: 0    缺失数量占比： 0.00%\n",
      "字段名为： h          缺失值数量: 0    缺失数量占比： 0.00%\n",
      "字段名为： idfamd5    缺失值数量: 0    缺失数量占比： 0.00%\n",
      "字段名为： imeimd5    缺失值数量: 0    缺失数量占比： 0.00%\n",
      "字段名为： ip         缺失值数量: 0    缺失数量占比： 0.00%\n",
      "字段名为： label      缺失值数量: 100000 缺失数量占比： 9.09%\n",
      "字段名为： lan        缺失值数量: 400862 缺失数量占比： 36.44%\n",
      "字段名为： macmd5     缺失值数量: 0    缺失数量占比： 0.00%\n",
      "字段名为： make       缺失值数量: 135343 缺失数量占比： 12.30%\n",
      "字段名为： mediashowid 缺失值数量: 0    缺失数量占比： 0.00%\n",
      "字段名为： model      缺失值数量: 4562 缺失数量占比： 0.41%\n",
      "字段名为： nginxtime  缺失值数量: 0    缺失数量占比： 0.00%\n",
      "字段名为： ntt        缺失值数量: 0    缺失数量占比： 0.00%\n",
      "字段名为： openudidmd5 缺失值数量: 0    缺失数量占比： 0.00%\n",
      "字段名为： orientation 缺失值数量: 0    缺失数量占比： 0.00%\n",
      "字段名为： os         缺失值数量: 0    缺失数量占比： 0.00%\n",
      "字段名为： osv        缺失值数量: 13929 缺失数量占比： 1.27%\n",
      "字段名为： pkgname    缺失值数量: 0    缺失数量占比： 0.00%\n",
      "字段名为： ppi        缺失值数量: 0    缺失数量占比： 0.00%\n",
      "字段名为： province   缺失值数量: 0    缺失数量占比： 0.00%\n",
      "字段名为： reqrealip  缺失值数量: 0    缺失数量占比： 0.00%\n",
      "字段名为： sid        缺失值数量: 0    缺失数量占比： 0.00%\n",
      "字段名为： ver        缺失值数量: 351016 缺失数量占比： 31.91%\n",
      "字段名为： w          缺失值数量: 0    缺失数量占比： 0.00%\n"
     ]
    }
   ],
   "source": [
    "df_null_ratio=null_ratio(train)"
   ]
  },
  {
   "cell_type": "code",
   "execution_count": 11,
   "metadata": {
    "colab": {
     "base_uri": "https://localhost:8080/",
     "height": 948
    },
    "colab_type": "code",
    "executionInfo": {
     "elapsed": 2029,
     "status": "ok",
     "timestamp": 1562593732373,
     "user": {
      "displayName": "陶士来",
      "photoUrl": "",
      "userId": "08104502188577818611"
     },
     "user_tz": -480
    },
    "id": "EWE26rynQjsh",
    "outputId": "e0ea2134-8f86-4ecf-fa64-98202d1e7a1b"
   },
   "outputs": [
    {
     "data": {
      "text/html": [
       "<div>\n",
       "<style scoped>\n",
       "    .dataframe tbody tr th:only-of-type {\n",
       "        vertical-align: middle;\n",
       "    }\n",
       "\n",
       "    .dataframe tbody tr th {\n",
       "        vertical-align: top;\n",
       "    }\n",
       "\n",
       "    .dataframe thead th {\n",
       "        text-align: right;\n",
       "    }\n",
       "</style>\n",
       "<table border=\"1\" class=\"dataframe\">\n",
       "  <thead>\n",
       "    <tr style=\"text-align: right;\">\n",
       "      <th></th>\n",
       "      <th>字段名为</th>\n",
       "      <th>缺失值数量</th>\n",
       "      <th>缺失数量占比</th>\n",
       "    </tr>\n",
       "  </thead>\n",
       "  <tbody>\n",
       "    <tr>\n",
       "      <th>10</th>\n",
       "      <td>label</td>\n",
       "      <td>100000</td>\n",
       "      <td>9.09%</td>\n",
       "    </tr>\n",
       "    <tr>\n",
       "      <th>11</th>\n",
       "      <td>lan</td>\n",
       "      <td>400862</td>\n",
       "      <td>36.44%</td>\n",
       "    </tr>\n",
       "    <tr>\n",
       "      <th>27</th>\n",
       "      <td>ver</td>\n",
       "      <td>351016</td>\n",
       "      <td>31.91%</td>\n",
       "    </tr>\n",
       "    <tr>\n",
       "      <th>13</th>\n",
       "      <td>make</td>\n",
       "      <td>135343</td>\n",
       "      <td>12.30%</td>\n",
       "    </tr>\n",
       "    <tr>\n",
       "      <th>4</th>\n",
       "      <td>city</td>\n",
       "      <td>16660</td>\n",
       "      <td>1.51%</td>\n",
       "    </tr>\n",
       "    <tr>\n",
       "      <th>21</th>\n",
       "      <td>osv</td>\n",
       "      <td>13929</td>\n",
       "      <td>1.27%</td>\n",
       "    </tr>\n",
       "    <tr>\n",
       "      <th>15</th>\n",
       "      <td>model</td>\n",
       "      <td>4562</td>\n",
       "      <td>0.41%</td>\n",
       "    </tr>\n",
       "    <tr>\n",
       "      <th>0</th>\n",
       "      <td>adidmd5</td>\n",
       "      <td>0</td>\n",
       "      <td>0.00%</td>\n",
       "    </tr>\n",
       "    <tr>\n",
       "      <th>19</th>\n",
       "      <td>orientation</td>\n",
       "      <td>0</td>\n",
       "      <td>0.00%</td>\n",
       "    </tr>\n",
       "    <tr>\n",
       "      <th>20</th>\n",
       "      <td>os</td>\n",
       "      <td>0</td>\n",
       "      <td>0.00%</td>\n",
       "    </tr>\n",
       "    <tr>\n",
       "      <th>22</th>\n",
       "      <td>pkgname</td>\n",
       "      <td>0</td>\n",
       "      <td>0.00%</td>\n",
       "    </tr>\n",
       "    <tr>\n",
       "      <th>17</th>\n",
       "      <td>ntt</td>\n",
       "      <td>0</td>\n",
       "      <td>0.00%</td>\n",
       "    </tr>\n",
       "    <tr>\n",
       "      <th>23</th>\n",
       "      <td>ppi</td>\n",
       "      <td>0</td>\n",
       "      <td>0.00%</td>\n",
       "    </tr>\n",
       "    <tr>\n",
       "      <th>24</th>\n",
       "      <td>province</td>\n",
       "      <td>0</td>\n",
       "      <td>0.00%</td>\n",
       "    </tr>\n",
       "    <tr>\n",
       "      <th>25</th>\n",
       "      <td>reqrealip</td>\n",
       "      <td>0</td>\n",
       "      <td>0.00%</td>\n",
       "    </tr>\n",
       "    <tr>\n",
       "      <th>26</th>\n",
       "      <td>sid</td>\n",
       "      <td>0</td>\n",
       "      <td>0.00%</td>\n",
       "    </tr>\n",
       "    <tr>\n",
       "      <th>18</th>\n",
       "      <td>openudidmd5</td>\n",
       "      <td>0</td>\n",
       "      <td>0.00%</td>\n",
       "    </tr>\n",
       "    <tr>\n",
       "      <th>14</th>\n",
       "      <td>mediashowid</td>\n",
       "      <td>0</td>\n",
       "      <td>0.00%</td>\n",
       "    </tr>\n",
       "    <tr>\n",
       "      <th>16</th>\n",
       "      <td>nginxtime</td>\n",
       "      <td>0</td>\n",
       "      <td>0.00%</td>\n",
       "    </tr>\n",
       "    <tr>\n",
       "      <th>1</th>\n",
       "      <td>adunitshowid</td>\n",
       "      <td>0</td>\n",
       "      <td>0.00%</td>\n",
       "    </tr>\n",
       "    <tr>\n",
       "      <th>12</th>\n",
       "      <td>macmd5</td>\n",
       "      <td>0</td>\n",
       "      <td>0.00%</td>\n",
       "    </tr>\n",
       "    <tr>\n",
       "      <th>9</th>\n",
       "      <td>ip</td>\n",
       "      <td>0</td>\n",
       "      <td>0.00%</td>\n",
       "    </tr>\n",
       "    <tr>\n",
       "      <th>8</th>\n",
       "      <td>imeimd5</td>\n",
       "      <td>0</td>\n",
       "      <td>0.00%</td>\n",
       "    </tr>\n",
       "    <tr>\n",
       "      <th>7</th>\n",
       "      <td>idfamd5</td>\n",
       "      <td>0</td>\n",
       "      <td>0.00%</td>\n",
       "    </tr>\n",
       "    <tr>\n",
       "      <th>6</th>\n",
       "      <td>h</td>\n",
       "      <td>0</td>\n",
       "      <td>0.00%</td>\n",
       "    </tr>\n",
       "    <tr>\n",
       "      <th>5</th>\n",
       "      <td>dvctype</td>\n",
       "      <td>0</td>\n",
       "      <td>0.00%</td>\n",
       "    </tr>\n",
       "    <tr>\n",
       "      <th>3</th>\n",
       "      <td>carrier</td>\n",
       "      <td>0</td>\n",
       "      <td>0.00%</td>\n",
       "    </tr>\n",
       "    <tr>\n",
       "      <th>2</th>\n",
       "      <td>apptype</td>\n",
       "      <td>0</td>\n",
       "      <td>0.00%</td>\n",
       "    </tr>\n",
       "    <tr>\n",
       "      <th>28</th>\n",
       "      <td>w</td>\n",
       "      <td>0</td>\n",
       "      <td>0.00%</td>\n",
       "    </tr>\n",
       "  </tbody>\n",
       "</table>\n",
       "</div>"
      ],
      "text/plain": [
       "            字段名为   缺失值数量  缺失数量占比\n",
       "10         label  100000   9.09%\n",
       "11           lan  400862  36.44%\n",
       "27           ver  351016  31.91%\n",
       "13          make  135343  12.30%\n",
       "4           city   16660   1.51%\n",
       "21           osv   13929   1.27%\n",
       "15         model    4562   0.41%\n",
       "0        adidmd5       0   0.00%\n",
       "19   orientation       0   0.00%\n",
       "20            os       0   0.00%\n",
       "22       pkgname       0   0.00%\n",
       "17           ntt       0   0.00%\n",
       "23           ppi       0   0.00%\n",
       "24      province       0   0.00%\n",
       "25     reqrealip       0   0.00%\n",
       "26           sid       0   0.00%\n",
       "18   openudidmd5       0   0.00%\n",
       "14   mediashowid       0   0.00%\n",
       "16     nginxtime       0   0.00%\n",
       "1   adunitshowid       0   0.00%\n",
       "12        macmd5       0   0.00%\n",
       "9             ip       0   0.00%\n",
       "8        imeimd5       0   0.00%\n",
       "7        idfamd5       0   0.00%\n",
       "6              h       0   0.00%\n",
       "5        dvctype       0   0.00%\n",
       "3        carrier       0   0.00%\n",
       "2        apptype       0   0.00%\n",
       "28             w       0   0.00%"
      ]
     },
     "execution_count": 11,
     "metadata": {},
     "output_type": "execute_result"
    }
   ],
   "source": [
    "df_null_ratio"
   ]
  },
  {
   "cell_type": "code",
   "execution_count": null,
   "metadata": {
    "colab": {},
    "colab_type": "code",
    "id": "BLYc8bRj6_8Q"
   },
   "outputs": [],
   "source": [
    "\n",
    "encoder=['pkgname','ver','adunitshowid','mediashowid','ip','city','province','reqrealip','adidmd5','imeimd5',\n",
    "              'idfamd5','openudidmd5','macmd5','model','make','carrier','os','lan','osv',\n",
    "             'apptype','dvctype','ntt','orientation']\n",
    "numerical_var=['nginxtime','h','w','ppi']"
   ]
  },
  {
   "cell_type": "code",
   "execution_count": null,
   "metadata": {
    "colab": {},
    "colab_type": "code",
    "id": "yDbv_3w2C4yx"
   },
   "outputs": [],
   "source": [
    "from sklearn.preprocessing import LabelEncoder\n",
    "col_encoder = LabelEncoder()\n",
    "for feat in encoder:\n",
    "    col_encoder.fit(train[feat].astype(str))\n",
    "    train[feat] = col_encoder.transform(train[feat].astype(str))"
   ]
  },
  {
   "cell_type": "code",
   "execution_count": null,
   "metadata": {
    "colab": {
     "base_uri": "https://localhost:8080/",
     "height": 1000
    },
    "colab_type": "code",
    "executionInfo": {
     "elapsed": 3035,
     "status": "ok",
     "timestamp": 1563373771870,
     "user": {
      "displayName": "陶士来",
      "photoUrl": "",
      "userId": "08104502188577818611"
     },
     "user_tz": -480
    },
    "id": "lKteWPMQE8gA",
    "outputId": "afe6342e-f7e8-4268-b79c-8a3fc4b5ce0e"
   },
   "outputs": [],
   "source": [
    "train.sample(10)"
   ]
  },
  {
   "cell_type": "code",
   "execution_count": null,
   "metadata": {
    "colab": {},
    "colab_type": "code",
    "id": "_LXgmzNDMif8"
   },
   "outputs": [],
   "source": [
    "\n",
    "\n",
    "    \n",
    " \n"
   ]
  },
  {
   "cell_type": "code",
   "execution_count": null,
   "metadata": {
    "colab": {},
    "colab_type": "code",
    "id": "fPkgMIVnMix8"
   },
   "outputs": [],
   "source": []
  },
  {
   "cell_type": "code",
   "execution_count": 31,
   "metadata": {
    "colab": {},
    "colab_type": "code",
    "id": "OKvLeS8_g0eV"
   },
   "outputs": [],
   "source": [
    "##直接用一个\n",
    "nuni_var=train.nunique()"
   ]
  },
  {
   "cell_type": "code",
   "execution_count": 32,
   "metadata": {
    "colab": {
     "base_uri": "https://localhost:8080/",
     "height": 163
    },
    "colab_type": "code",
    "executionInfo": {
     "elapsed": 942,
     "status": "ok",
     "timestamp": 1563112892359,
     "user": {
      "displayName": "陶士来",
      "photoUrl": "",
      "userId": "08104502188577818611"
     },
     "user_tz": -480
    },
    "id": "buXTCA3rhD9c",
    "outputId": "e3c5ddbb-98ce-4af7-d65c-59232675f7ba"
   },
   "outputs": [
    {
     "name": "stdout",
     "output_type": "stream",
     "text": [
      "Index(['adidmd5', 'adunitshowid', 'apptype', 'carrier', 'city', 'dvctype', 'h',\n",
      "       'idfamd5', 'imeimd5', 'ip', 'label', 'lan', 'macmd5', 'make',\n",
      "       'mediashowid', 'model', 'nginxtime', 'ntt', 'openudidmd5',\n",
      "       'orientation', 'os', 'osv', 'pkgname', 'ppi', 'province', 'reqrealip',\n",
      "       'sid', 'ver', 'w'],\n",
      "      dtype='object')\n",
      "[('label', 2), ('os', 2), ('dvctype', 3), ('orientation', 4), ('carrier', 5), ('ntt', 8), ('province', 8), ('lan', 33), ('apptype', 91), ('ppi', 119), ('osv', 185), ('mediashowid', 313), ('city', 331), ('idfamd5', 360), ('w', 449), ('adunitshowid', 800), ('h', 985), ('pkgname', 2368), ('make', 2727), ('ver', 3268), ('model', 7957), ('reqrealip', 9748), ('openudidmd5', 85051), ('macmd5', 329184), ('adidmd5', 780369), ('ip', 813719), ('imeimd5', 1021836), ('nginxtime', 1098977), ('sid', 1100000)]\n"
     ]
    }
   ],
   "source": [
    "type(nuni_var)\n",
    "print(nuni_var.index)\n",
    "dd=[each for each in zip(nuni_var.index,nuni_var.values)]\n",
    "print(sorted(dd,key=lambda item_tuple:item_tuple[1] ))\n",
    "# sd = sorted(data,key=lambda item:item[1],reverse=False)"
   ]
  },
  {
   "cell_type": "code",
   "execution_count": null,
   "metadata": {
    "colab": {
     "base_uri": "https://localhost:8080/",
     "height": 127
    },
    "colab_type": "code",
    "executionInfo": {
     "elapsed": 2577,
     "status": "ok",
     "timestamp": 1563489678089,
     "user": {
      "displayName": "陶士来",
      "photoUrl": "",
      "userId": "08104502188577818611"
     },
     "user_tz": -480
    },
    "id": "-qq4CsXcULVl",
    "outputId": "45b942ec-ba2f-4d00-8889-e74fb2d2c358"
   },
   "outputs": [],
   "source": [
    "from sklearn.preprocessing import OneHotEncoder\n",
    "enc=OneHotEncoder()\n",
    "one_hot_var=['carrier','dvctype','orientation','os']\n",
    "feat_one_hot_sparse_matrix=enc.fit_transform(train[one_hot_var])\n",
    "\n",
    "    \n",
    "# for feature in cate_feature:\n",
    "#     enc.fit(data[feature].values.reshape(-1, 1))\n",
    "#     base_train_csr = sparse.hstack((base_train_csr, enc.transform(train_x[feature].values.reshape(-1, 1))), 'csr',\n",
    "#                                    'bool')\n",
    "#     base_predict_csr = sparse.hstack((base_predict_csr, enc.transform(predict[feature].values.reshape(-1, 1))),\n",
    "#                                      'csr',\n",
    "#                                      'bool')\n",
    "print('one-hot prepared !')\n"
   ]
  },
  {
   "cell_type": "code",
   "execution_count": null,
   "metadata": {
    "colab": {
     "base_uri": "https://localhost:8080/",
     "height": 107
    },
    "colab_type": "code",
    "executionInfo": {
     "elapsed": 734,
     "status": "ok",
     "timestamp": 1562947031713,
     "user": {
      "displayName": "陶士来",
      "photoUrl": "",
      "userId": "08104502188577818611"
     },
     "user_tz": -480
    },
    "id": "nkNBHAzZULlo",
    "outputId": "86616f39-8ac0-4015-ca51-e554b32e1ff2"
   },
   "outputs": [],
   "source": [
    "print(feat_one_hot_sparse_matrix[0][0])\n",
    "print(feat_one_hot_sparse_matrix.shape)"
   ]
  },
  {
   "cell_type": "code",
   "execution_count": null,
   "metadata": {
    "colab": {
     "base_uri": "https://localhost:8080/",
     "height": 35
    },
    "colab_type": "code",
    "executionInfo": {
     "elapsed": 719,
     "status": "ok",
     "timestamp": 1562947035345,
     "user": {
      "displayName": "陶士来",
      "photoUrl": "",
      "userId": "08104502188577818611"
     },
     "user_tz": -480
    },
    "id": "D3hy2fE25LjX",
    "outputId": "14d9b065-88e0-4796-8c0b-4d650035b5fa"
   },
   "outputs": [],
   "source": [
    "train.shape"
   ]
  },
  {
   "cell_type": "code",
   "execution_count": null,
   "metadata": {
    "colab": {},
    "colab_type": "code",
    "id": "OMJT3oZITiRY"
   },
   "outputs": [],
   "source": [
    "#应该有简化方法，后面在改如value_counts\n",
    "# large_base_var里要去掉数值变量\n",
    "large_base_var=['adidmd5', 'adunitshowid', 'apptype', 'city', 'idfamd5',\n",
    " 'imeimd5', 'ip', 'lan', 'macmd5', 'make', 'mediashowid', 'model', \n",
    " 'ntt', 'openudidmd5', 'osv', 'pkgname',\n",
    " 'province', 'reqrealip', 'sid', 'ver']\n",
    "\n",
    "# # numerical_var=['nginxtime','h','w','ppi']\n",
    "\n",
    "###和下面函数计算的是一样的，但是没有下面的函数范围广\n",
    "# for each in large_base_var:\n",
    "#   df_temp=train.groupby([each])[each].count().to_frame().rename(columns={each:'{}_count1'.format(each)}).reset_index()\n",
    "#   train=pd.merge(train,df_temp,on=[each],how='left')\n",
    "# #   print(df_temp.head(20))\n",
    "# #   break\n",
    "\n",
    "  \n",
    "\n",
    "\n",
    "\n",
    "\n",
    "\n",
    "\n"
   ]
  },
  {
   "cell_type": "code",
   "execution_count": null,
   "metadata": {
    "colab": {
     "base_uri": "https://localhost:8080/",
     "height": 366
    },
    "colab_type": "code",
    "executionInfo": {
     "elapsed": 1945,
     "status": "ok",
     "timestamp": 1563374009393,
     "user": {
      "displayName": "陶士来",
      "photoUrl": "",
      "userId": "08104502188577818611"
     },
     "user_tz": -480
    },
    "id": "-K-d5t_MWg2z",
    "outputId": "c0b3a968-235f-408f-b7f1-5b9fd386bf63"
   },
   "outputs": [],
   "source": [
    "train.sample(3)"
   ]
  },
  {
   "cell_type": "code",
   "execution_count": null,
   "metadata": {
    "colab": {},
    "colab_type": "code",
    "id": "u8c9JsWHiaht"
   },
   "outputs": [],
   "source": [
    "#开始计算各种统计特征\n",
    "count_feature_list=[]\n",
    "def feature_count(data, features=[], is_feature=True):\n",
    "    if len(set(features)) != len(features):\n",
    "        print('equal feature !!!!')\n",
    "        return data\n",
    "    new_feature = 'count'\n",
    "    nunique = []\n",
    "    for i in features:\n",
    "        nunique.append(data[i].nunique())\n",
    "        new_feature += '_' + i.replace('add_', '')\n",
    "\t\t\n",
    "\t#不只一个特征名称\t      该dataframe去掉重复行后的条数<=每个特征的nunique值中的最大值：就是行数小于等于某个特征的最大类别数\n",
    "\t#小于号不可能取到，最多是等于号，因为单个列去重条数一定是大于等于多个列去重，所以这里最多是等于\n",
    "    if len(features) > 1 and len(data[features].drop_duplicates()) <= np.max(nunique):\n",
    "        print(new_feature, 'is unvalid cross feature:')\n",
    "        return data\n",
    "    temp = data.groupby(features).size().reset_index().rename(columns={0: new_feature})\n",
    "    data = data.merge(temp, 'left', on=features)\n",
    "    if is_feature:\n",
    "        count_feature_list.append(new_feature)\n",
    "#     if 'day_' in new_feature:\n",
    "#         print('fix:', new_feature)\n",
    "# \t\t##第三天采样比过低，所以增加了权重\n",
    "#         data.loc[data.day == 3, new_feature] = data[data.day == 3][new_feature] * 4\n",
    "    return data"
   ]
  },
  {
   "cell_type": "code",
   "execution_count": null,
   "metadata": {
    "colab": {},
    "colab_type": "code",
    "id": "VKHHM-qOmOcm"
   },
   "outputs": [],
   "source": [
    "for name in large_base_var:\n",
    "    n = train[name].nunique()##种类数超过5的才会做count\n",
    "    if n > 5:\n",
    "        train = feature_count(train, [name])"
   ]
  },
  {
   "cell_type": "code",
   "execution_count": null,
   "metadata": {
    "colab": {
     "base_uri": "https://localhost:8080/",
     "height": 530
    },
    "colab_type": "code",
    "executionInfo": {
     "elapsed": 1747,
     "status": "ok",
     "timestamp": 1563489758741,
     "user": {
      "displayName": "陶士来",
      "photoUrl": "",
      "userId": "08104502188577818611"
     },
     "user_tz": -480
    },
    "id": "4MaVLzeLmOoV",
    "outputId": "8abb2378-158d-4e16-c770-2ada3c2b4a28"
   },
   "outputs": [],
   "source": [
    "train.sample(5)"
   ]
  },
  {
   "cell_type": "code",
   "execution_count": null,
   "metadata": {
    "colab": {
     "base_uri": "https://localhost:8080/",
     "height": 377
    },
    "colab_type": "code",
    "executionInfo": {
     "elapsed": 4940,
     "status": "ok",
     "timestamp": 1563458753325,
     "user": {
      "displayName": "陶士来",
      "photoUrl": "",
      "userId": "08104502188577818611"
     },
     "user_tz": -480
    },
    "id": "18kpgzb3mPSi",
    "outputId": "5ca89b37-a514-4d68-f454-87113f6baf1c"
   },
   "outputs": [],
   "source": [
    "count_feature_list"
   ]
  },
  {
   "cell_type": "code",
   "execution_count": null,
   "metadata": {
    "colab": {
     "base_uri": "https://localhost:8080/",
     "height": 35
    },
    "colab_type": "code",
    "executionInfo": {
     "elapsed": 1752,
     "status": "ok",
     "timestamp": 1563489793089,
     "user": {
      "displayName": "陶士来",
      "photoUrl": "",
      "userId": "08104502188577818611"
     },
     "user_tz": -480
    },
    "id": "pRhfevT3mP6a",
    "outputId": "f3028bb4-4ec7-4bd8-ada6-d11f94c498c6"
   },
   "outputs": [],
   "source": [
    "media_info=['pkgname','ver','adunitshowid','mediashowid','apptype']\n",
    "ip_info=['ip','city','province','reqrealip']\n",
    "# device_info=list(set(train.columns)-set([each  for each in train.columns if 'count' in each])-set(media_info)-set(ip_info))-set(['label','sid'])\n",
    "device_info=['macmd5', 'nginxtime', 'w', 'make', 'ntt', 'ppi', 'imeimd5', 'dvctype', 'openudidmd5', 'model', 'orientation', 'carrier', 'osv', 'os', 'adidmd5', 'h', 'lan', 'idfamd5']\n",
    "print(device_info)"
   ]
  },
  {
   "cell_type": "code",
   "execution_count": null,
   "metadata": {
    "colab": {},
    "colab_type": "code",
    "id": "dAhql-4nmP16"
   },
   "outputs": [],
   "source": [
    "import numpy as np\n",
    "for each_meida in media_info:\n",
    "   for each_ip in ip_info:\n",
    "      if  (train[each_meida].nunique()>5)  and   (train[each_ip].nunique()>5):\n",
    "           train = feature_count(train, [each_meida,each_ip])\n",
    "    "
   ]
  },
  {
   "cell_type": "code",
   "execution_count": null,
   "metadata": {
    "colab": {
     "base_uri": "https://localhost:8080/",
     "height": 349
    },
    "colab_type": "code",
    "executionInfo": {
     "elapsed": 1885,
     "status": "ok",
     "timestamp": 1563458844329,
     "user": {
      "displayName": "陶士来",
      "photoUrl": "",
      "userId": "08104502188577818611"
     },
     "user_tz": -480
    },
    "id": "MSx_ZI_geXrz",
    "outputId": "066aabdc-6aea-4c02-e25c-51180de7b73b"
   },
   "outputs": [],
   "source": [
    "train.sample(3)"
   ]
  },
  {
   "cell_type": "code",
   "execution_count": null,
   "metadata": {
    "colab": {},
    "colab_type": "code",
    "id": "C6w4IAjKmPw6"
   },
   "outputs": [],
   "source": [
    "for each_meida in media_info:\n",
    "   for each_device in device_info:\n",
    "      if  (train[each_meida].nunique()>5)  and   (train[each_device].nunique()>5):\n",
    "           train = feature_count(train, [each_meida,each_device])\n",
    "    "
   ]
  },
  {
   "cell_type": "code",
   "execution_count": null,
   "metadata": {
    "colab": {
     "base_uri": "https://localhost:8080/",
     "height": 395
    },
    "colab_type": "code",
    "executionInfo": {
     "elapsed": 1524,
     "status": "ok",
     "timestamp": 1563459177817,
     "user": {
      "displayName": "陶士来",
      "photoUrl": "",
      "userId": "08104502188577818611"
     },
     "user_tz": -480
    },
    "id": "Rvo2I3FLhLxo",
    "outputId": "82c19fb5-9b46-429a-ba37-4b2cdc1800f5"
   },
   "outputs": [],
   "source": [
    "train.sample(3)"
   ]
  },
  {
   "cell_type": "code",
   "execution_count": null,
   "metadata": {
    "colab": {},
    "colab_type": "code",
    "id": "j-iwMV3NmPsc"
   },
   "outputs": [],
   "source": [
    "for each_ip in ip_info:\n",
    "   for each_device in device_info:\n",
    "      if  (train[each_ip].nunique()>5)  and   (train[each_device].nunique()>5):\n",
    "           train = feature_count(train, [each_ip,each_device])"
   ]
  },
  {
   "cell_type": "code",
   "execution_count": null,
   "metadata": {
    "colab": {
     "base_uri": "https://localhost:8080/",
     "height": 378
    },
    "colab_type": "code",
    "executionInfo": {
     "elapsed": 2582,
     "status": "ok",
     "timestamp": 1563490496356,
     "user": {
      "displayName": "陶士来",
      "photoUrl": "",
      "userId": "08104502188577818611"
     },
     "user_tz": -480
    },
    "id": "8Fef7kOAjKI2",
    "outputId": "7e873d81-2747-4055-fcd2-e12169ab466d"
   },
   "outputs": [],
   "source": [
    "train.sample(3)"
   ]
  },
  {
   "cell_type": "code",
   "execution_count": null,
   "metadata": {
    "colab": {},
    "colab_type": "code",
    "id": "Z_Uas9DRmPn4"
   },
   "outputs": [],
   "source": [
    "#####以下代码需要许改，添加ratio rank特征\n",
    "from tqdm import tqdm\n"
   ]
  },
  {
   "cell_type": "code",
   "execution_count": null,
   "metadata": {
    "colab": {
     "base_uri": "https://localhost:8080/",
     "height": 53
    },
    "colab_type": "code",
    "executionInfo": {
     "elapsed": 12577,
     "status": "ok",
     "timestamp": 1563490531298,
     "user": {
      "displayName": "陶士来",
      "photoUrl": "",
      "userId": "08104502188577818611"
     },
     "user_tz": -480
    },
    "id": "7uyAUEkhmPjh",
    "outputId": "83575d29-ea4e-4776-a8b0-5ae50f8fe0a7"
   },
   "outputs": [],
   "source": [
    "# H,W,PPI\n",
    "\n",
    "#???1英寸=2.54厘米，由长和宽计算对角线长度###待会在思考\n",
    "\n",
    "train['size'] = (np.sqrt(train['h']**2 + train['w'] ** 2) / 2.54) / 1000\n",
    "train['ratio'] = train['h'] / train['w']\n",
    "train['px'] = train['ppi'] * train['size']\n",
    "train['mj'] = train['h'] * train['w']\n",
    "\n",
    "num_col = ['h','w','size','mj','ratio','px']\n",
    "# cat_col = [i for i in train.select_dtypes(object).columns if i not in ['sid','label']]\n",
    "cat_col=large_base_var\n",
    "both_col = []\n",
    "\n",
    "for i in tqdm(cat_col):\n",
    "#     lbl = LabelEncoder()\n",
    "#     train[i+\"_count\"] = train.groupby([i])[i].transform('count') ##单个的count已经求完了，只是没有求rank值\n",
    "    ##计算rank\n",
    "    train[i+\"_rank\"] = train[\"count_{}\".format(i)].rank(method='min')\n",
    "#     train[i] = lbl.fit_transform(train[i].astype(str))\n",
    "#     both_col.extend([i+\"_count\",i+\"_rank\"])\n",
    "\n",
    "for i in tqdm(['h','w','ppi','ratio']):\n",
    "    train['{}_count'.format(i)] = train.groupby(['{}'.format(i)])['sid'].transform('count')\n",
    "    train['{}_rank'.format(i)] = train['{}_count'.format(i)].rank(method='min')"
   ]
  },
  {
   "cell_type": "code",
   "execution_count": null,
   "metadata": {},
   "outputs": [],
   "source": [
    "train.sample(10)"
   ]
  },
  {
   "cell_type": "code",
   "execution_count": null,
   "metadata": {
    "colab": {},
    "colab_type": "code",
    "id": "p4t2Rk5QYEta"
   },
   "outputs": [],
   "source": [
    "# train.to_csv('train_1.csv',index=False)\n",
    "df_h5 = pd.HDFStore('{}_1.h5'.format('train'),'a',complevel=4, complib='blosc')#追加用a,用w会出错;后面参数是启用压缩模式\n",
    "df_h5['data'] = train\n",
    "df_h5.close()"
   ]
  },
  {
   "cell_type": "code",
   "execution_count": null,
   "metadata": {},
   "outputs": [],
   "source": [
    "ls -lh"
   ]
  },
  {
   "cell_type": "code",
   "execution_count": null,
   "metadata": {
    "colab": {
     "base_uri": "https://localhost:8080/",
     "height": 1000
    },
    "colab_type": "code",
    "executionInfo": {
     "elapsed": 979,
     "status": "ok",
     "timestamp": 1563461607303,
     "user": {
      "displayName": "陶士来",
      "photoUrl": "",
      "userId": "08104502188577818611"
     },
     "user_tz": -480
    },
    "id": "M7gcGV_fhZLF",
    "outputId": "a2557859-f995-4101-9dd1-4dc74ebb8e41"
   },
   "outputs": [],
   "source": [
    "# # ##计算ratio：一组的比上单个值:之后补上\n",
    "# # media_info=['pkgname','ver','adunitshowid','mediashowid','apptype']\n",
    "# # ip_info=['ip','city','province','reqrealip']\n",
    "# # # device_info=list(set(train.columns)-set([each  for each in train.columns if 'count' in each])-set(media_info)-set(ip_info))-set(['label','sid'])\n",
    "# # device_info=['macmd5', 'nginxtime', 'w', 'make', 'ntt', 'ppi', 'imeimd5', 'dvctype', 'openudidmd5', 'model', 'orientation', 'carrier', 'osv', 'os', 'adidmd5', 'h', 'lan', 'idfamd5']\n",
    "# # print(device_info)\n",
    "# '''\n",
    "# ###峰值太大，造成内存不足\n",
    "# ###应该根据重要性得分对重要的变量进行交叉\n",
    "# 字段名为\t缺失值数量\t缺失数量占比\n",
    "# 10\tlabel\t100000\t9.09%\n",
    "# 11\tlan\t400862\t36.44%\n",
    "# 27\tver\t351016\t31.91%\n",
    "# 13\tmake\t135343\t12.30%\n",
    "# 4\tcity\t16660\t1.51%\n",
    "# 21\tosv\t13929\t1.27%\n",
    "# 15\tmodel\t4562\t0.41%\n",
    "# '''\n",
    "# single_count_list=[]\n",
    "# multi_count_list=[]\n",
    "# for each in count_feature_list:\n",
    "#   if each in [ 'nginxtime', 'w', 'ntt', 'ppi', 'dvctype', 'orientation', 'carrier', 'osv', 'os', 'h', 'lan','ver','make']:\n",
    "#     continue\n",
    "#   length=len(each.split('_'))\n",
    "#   if (length>2) :#and (each in media_info) or (each in ip_info) or (each in ['make','imeimd5','openudidmd5', 'model','adidmd5','idfamd5']):\n",
    "#      multi_count_list.append(each)\n",
    "#   else:\n",
    "#      single_count_list.append(each)\n",
    "# print(single_count_list)\n",
    "# print(multi_count_list)\n",
    "# for each_s in single_count_list:\n",
    "#   for each_m in multi_count_list:\n",
    "#     print((each_m,each_s))\n",
    "#     train['ratio_of_{}_and_{}'.format(each_m,each_s)]=train[each_m].astype(np.float32)/train[each_s].astype(np.float32)\n",
    "    \n",
    "\n",
    "\n",
    "\n",
    "\n",
    "\n"
   ]
  },
  {
   "cell_type": "code",
   "execution_count": null,
   "metadata": {
    "colab": {
     "base_uri": "https://localhost:8080/",
     "height": 173
    },
    "colab_type": "code",
    "executionInfo": {
     "elapsed": 1735,
     "status": "error",
     "timestamp": 1563490794219,
     "user": {
      "displayName": "陶士来",
      "photoUrl": "",
      "userId": "08104502188577818611"
     },
     "user_tz": -480
    },
    "id": "gqMZC2SvmPe5",
    "outputId": "7f3ce357-56d3-49de-af36-4ac532e62f7d"
   },
   "outputs": [],
   "source": [
    "train.head()"
   ]
  },
  {
   "cell_type": "code",
   "execution_count": null,
   "metadata": {
    "colab": {},
    "colab_type": "code",
    "id": "8ZK9fHeHmPai"
   },
   "outputs": [],
   "source": [
    "####以下代码要修改；似乎count就是做的这个（但是不确定要确认一下）\n",
    "##行数（count）和唯一值（unique）是不同的概念；count可以直接使用groupby size都不用关心后面的列，因为只是统计行数；\n",
    "  #而nunique是要用到后面的列具体信息的（因为不是行数（与内容无关）），这个需要具体的内容\n"
   ]
  },
  {
   "cell_type": "code",
   "execution_count": null,
   "metadata": {
    "colab": {
     "base_uri": "https://localhost:8080/",
     "height": 485
    },
    "colab_type": "code",
    "executionInfo": {
     "elapsed": 280413,
     "status": "ok",
     "timestamp": 1563463823052,
     "user": {
      "displayName": "陶士来",
      "photoUrl": "",
      "userId": "08104502188577818611"
     },
     "user_tz": -480
    },
    "id": "oyhEdkrDmPN-",
    "outputId": "68ddcd56-858e-461f-ea02-05ffca3447d4"
   },
   "outputs": [],
   "source": [
    "def unique_count(index_col, feature, df_data):\n",
    "    if isinstance(index_col, list):\n",
    "        name = \"{0}_{1}_nq\".format('_'.join(index_col), feature)\n",
    "    else:\n",
    "        name = \"{0}_{1}_nq\".format(index_col, feature)\n",
    "    print(name)\n",
    "    gp1 = df_data.groupby(index_col)[feature].nunique().reset_index().rename(\n",
    "        columns={feature: name})\n",
    "    df_data = pd.merge(df_data, gp1, how='left', on=[index_col])\n",
    "    return df_data#.fillna()\n",
    "\n",
    "\n",
    "# 设备下的媒体数  model_mediashowid_nq model_city_nq\n",
    "train = unique_count('model', 'mediashowid', train)\n",
    "train = unique_count('model', 'city', train)\n",
    "# 设备\n",
    "train = unique_count('adidmd5', 'model', train)\n",
    "train = unique_count('imeimd5', 'model', train)\n",
    "train = unique_count('macmd5', 'model', train)\n",
    "train = unique_count('openudidmd5', 'model', train)\n",
    "train = unique_count('ip', 'model', train)\n",
    "train = unique_count('reqrealip', 'model', train)\n",
    "\n",
    "# 屏幕密度\n",
    "train = unique_count('adidmd5', 'ppi', train)\n",
    "train = unique_count('imeimd5', 'ppi', train)\n",
    "train = unique_count('macmd5', 'ppi', train)\n",
    "train = unique_count('openudidmd5', 'ppi', train)\n",
    "train = unique_count('ip', 'ppi', train)\n",
    "train = unique_count('reqrealip', 'ppi', train)\n",
    "\n",
    "# 网络类型\n",
    "train = unique_count('adidmd5', 'dvctype', train)\n",
    "train = unique_count('imeimd5', 'dvctype', train)\n",
    "train = unique_count('macmd5', 'dvctype', train)\n",
    "train = unique_count('openudidmd5', 'dvctype', train)\n",
    "train = unique_count('ip', 'dvctype', train)\n",
    "train = unique_count('reqrealip', 'dvctype', train)\n",
    "\n",
    "# 地理位置\n",
    "train = unique_count('ip', 'city', train)\n",
    "train = unique_count('reqrealip', 'city', train)\n",
    "\n",
    "# 用户下的ip数\n",
    "train = unique_count('adidmd5', 'ip', train)\n",
    "train = unique_count('imeimd5', 'ip', train)\n",
    "train = unique_count('macmd5', 'ip', train)\n",
    "train = unique_count('openudidmd5', 'ip', train)\n"
   ]
  },
  {
   "cell_type": "code",
   "execution_count": null,
   "metadata": {
    "colab": {
     "base_uri": "https://localhost:8080/",
     "height": 611
    },
    "colab_type": "code",
    "executionInfo": {
     "elapsed": 2903,
     "status": "ok",
     "timestamp": 1563463957489,
     "user": {
      "displayName": "陶士来",
      "photoUrl": "",
      "userId": "08104502188577818611"
     },
     "user_tz": -480
    },
    "id": "YNcUW8uimPJf",
    "outputId": "6642b54f-bef6-4a38-fc6c-85fb3ce1b952"
   },
   "outputs": [],
   "source": [
    "print(train.shape)\n",
    "train.sample(5)"
   ]
  },
  {
   "cell_type": "code",
   "execution_count": null,
   "metadata": {
    "colab": {},
    "colab_type": "code",
    "id": "2UADQkjYmPFO"
   },
   "outputs": [],
   "source": []
  },
  {
   "cell_type": "code",
   "execution_count": null,
   "metadata": {
    "colab": {},
    "colab_type": "code",
    "id": "vP9c-7A2mPAx"
   },
   "outputs": [],
   "source": []
  },
  {
   "cell_type": "code",
   "execution_count": null,
   "metadata": {
    "colab": {},
    "colab_type": "code",
    "id": "SyUYnAGvmO8c"
   },
   "outputs": [],
   "source": []
  },
  {
   "cell_type": "code",
   "execution_count": null,
   "metadata": {
    "colab": {},
    "colab_type": "code",
    "id": "wvSwCdtSmO39"
   },
   "outputs": [],
   "source": []
  },
  {
   "cell_type": "code",
   "execution_count": null,
   "metadata": {
    "colab": {},
    "colab_type": "code",
    "id": "Ula5AHe4mOzP"
   },
   "outputs": [],
   "source": []
  },
  {
   "cell_type": "code",
   "execution_count": null,
   "metadata": {
    "colab": {},
    "colab_type": "code",
    "id": "ayGK1PdYmOub"
   },
   "outputs": [],
   "source": []
  },
  {
   "cell_type": "code",
   "execution_count": null,
   "metadata": {
    "colab": {},
    "colab_type": "code",
    "id": "10wCzEcXZx0X"
   },
   "outputs": [],
   "source": [
    "print(train.shape)\n",
    "train.head(20)"
   ]
  },
  {
   "cell_type": "code",
   "execution_count": null,
   "metadata": {
    "colab": {
     "base_uri": "https://localhost:8080/",
     "height": 53
    },
    "colab_type": "code",
    "executionInfo": {
     "elapsed": 2007,
     "status": "ok",
     "timestamp": 1563463967233,
     "user": {
      "displayName": "陶士来",
      "photoUrl": "",
      "userId": "08104502188577818611"
     },
     "user_tz": -480
    },
    "id": "0I9UBTp9iczz",
    "outputId": "c8cd0e5e-9267-4af8-ee24-31e4b75f07d0"
   },
   "outputs": [],
   "source": [
    "print(train.loc[train['label'].isnull()].shape)\n",
    "print( train.loc[train['label'].notnull()].shape)"
   ]
  },
  {
   "cell_type": "code",
   "execution_count": null,
   "metadata": {
    "colab": {},
    "colab_type": "code",
    "id": "U-jhfu8U29GR"
   },
   "outputs": [],
   "source": [
    "test = train.loc[train['label'].isnull()]\n",
    "\n",
    "train = train.loc[train['label'].notnull()]\n",
    "# train=train.append(test,ignore_index=True)"
   ]
  },
  {
   "cell_type": "code",
   "execution_count": null,
   "metadata": {
    "colab": {},
    "colab_type": "code",
    "id": "UrUX356MZyup"
   },
   "outputs": [],
   "source": [
    "def mean_encode(train_data, test_data, columns, target_col, reg_method=None,\n",
    "                alpha=0, add_random=False, rmean=0, rstd=0.1, folds=1):\n",
    "    '''Returns a DataFrame with encoded columns'''\n",
    "    encoded_cols = []\n",
    "    target_mean_global = train_data[target_col].mean()\n",
    "    for col in columns:\n",
    "        # Getting means for test data\n",
    "        nrows_cat = train_data.groupby(col)[target_col].count()\n",
    "        target_means_cats = train_data.groupby(col)[target_col].mean()\n",
    "        target_means_cats_adj = (target_means_cats*nrows_cat + \n",
    "                                 target_mean_global*alpha)/(nrows_cat+alpha)\n",
    "        # Mapping means to test data\n",
    "        encoded_col_test = test_data[col].map(target_means_cats_adj)\n",
    "        # Getting a train encodings\n",
    "        if reg_method == 'expanding_mean':\n",
    "            train_data_shuffled = train_data.sample(frac=1, random_state=1)\n",
    "            cumsum = train_data_shuffled.groupby(col)[target_col].cumsum() - train_data_shuffled[target_col]\n",
    "            cumcnt = train_data_shuffled.groupby(col).cumcount()\n",
    "            encoded_col_train = cumsum/(cumcnt)\n",
    "            encoded_col_train.fillna(target_mean_global, inplace=True)\n",
    "            if add_random:\n",
    "                encoded_col_train = encoded_col_train + normal(loc=rmean, scale=rstd, \n",
    "                                                               size=(encoded_col_train.shape[0]))\n",
    "        elif (reg_method == 'k_fold') and (folds > 1):\n",
    "            kfold = StratifiedKFold(train_data[target_col].values, folds, shuffle=True, random_state=1)\n",
    "            parts = []\n",
    "            for tr_in, val_ind in kfold:\n",
    "                # divide data\n",
    "                df_for_estimation, df_estimated = train_data.iloc[tr_in], train_data.iloc[val_ind]\n",
    "                # getting means on data for estimation (all folds except estimated)\n",
    "                nrows_cat = df_for_estimation.groupby(col)[target_col].count()\n",
    "                target_means_cats = df_for_estimation.groupby(col)[target_col].mean()\n",
    "                target_means_cats_adj = (target_means_cats*nrows_cat + \n",
    "                                         target_mean_global*alpha)/(nrows_cat+alpha)\n",
    "                # Mapping means to estimated fold\n",
    "                encoded_col_train_part = df_estimated[col].map(target_means_cats_adj)\n",
    "                if add_random:\n",
    "                    encoded_col_train_part = encoded_col_train_part + normal(loc=rmean, scale=rstd, \n",
    "                                                                             size=(encoded_col_train_part.shape[0]))\n",
    "                # Saving estimated encodings for a fold\n",
    "                parts.append(encoded_col_train_part)\n",
    "            encoded_col_train = pd.concat(parts, axis=0)\n",
    "            encoded_col_train.fillna(target_mean_global, inplace=True)\n",
    "        else:\n",
    "            encoded_col_train = train_data[col].map(target_means_cats_adj)\n",
    "            if add_random:\n",
    "                encoded_col_train = encoded_col_train + normal(loc=rmean, scale=rstd, \n",
    "                                                               size=(encoded_col_train.shape[0]))\n",
    "\n",
    "        # Saving the column with means\n",
    "        encoded_col = pd.concat([encoded_col_train, encoded_col_test], axis=0)\n",
    "        encoded_col[encoded_col.isnull()] = target_mean_global\n",
    "        encoded_cols.append(pd.DataFrame({'mean_'+target_col+'_'+col:encoded_col}))\n",
    "    all_encoded = pd.concat(encoded_cols, axis=1)\n",
    "#     return all_encoded\n",
    "    return (all_encoded.loc[train_data.index,:], \n",
    "            all_encoded.loc[test_data.index,:])"
   ]
  },
  {
   "cell_type": "code",
   "execution_count": null,
   "metadata": {
    "colab": {
     "base_uri": "https://localhost:8080/",
     "height": 431
    },
    "colab_type": "code",
    "executionInfo": {
     "elapsed": 1326,
     "status": "ok",
     "timestamp": 1563114530770,
     "user": {
      "displayName": "陶士来",
      "photoUrl": "",
      "userId": "08104502188577818611"
     },
     "user_tz": -480
    },
    "id": "53ezgTyW3XGv",
    "outputId": "10260bc8-586b-457a-ef00-6bd3f782e114"
   },
   "outputs": [],
   "source": [
    "# train_temp=[[1,2,1],[3,4,0],[1,2,0],[3,4,1],[1,2,],[3,4,]]\n",
    "# data=pd.DataFrame(train_temp,columns=['x1','x2','label'])\n",
    "# train_temp=data[data['label'].notnull()]\n",
    "# test_temp=data[data['label'].isnull()]\n",
    "# tr,te=mean_encode(train_temp, test_temp, columns=['x1','x2'], target_col='label', reg_method='expanding_mean',\n",
    "#                 alpha=0, add_random=False, rmean=0, rstd=0.1, folds=1)\n",
    "# print(data)\n",
    "# print(train_temp)\n",
    "# print(test_temp)\n",
    "# print(tr)\n",
    "# print(te)"
   ]
  },
  {
   "cell_type": "code",
   "execution_count": null,
   "metadata": {
    "colab": {},
    "colab_type": "code",
    "id": "RST_VMmEZymz"
   },
   "outputs": [],
   "source": [
    "train_mean,test_mean=mean_encode(train, test, columns=large_base_var, target_col='label', reg_method='expanding_mean',\n",
    "                alpha=0, add_random=False, rmean=0, rstd=0.1, folds=1)"
   ]
  },
  {
   "cell_type": "code",
   "execution_count": null,
   "metadata": {
    "colab": {
     "base_uri": "https://localhost:8080/",
     "height": 341
    },
    "colab_type": "code",
    "executionInfo": {
     "elapsed": 1203,
     "status": "ok",
     "timestamp": 1563464088870,
     "user": {
      "displayName": "陶士来",
      "photoUrl": "",
      "userId": "08104502188577818611"
     },
     "user_tz": -480
    },
    "id": "ChlRV_-eZyer",
    "outputId": "e4ecbdd4-43b0-4009-acfb-80203d492e0d"
   },
   "outputs": [],
   "source": [
    "print(train_mean.shape)\n",
    "print(train_mean.head())\n",
    "print(test_mean.shape)\n",
    "print(test_mean.head())"
   ]
  },
  {
   "cell_type": "code",
   "execution_count": null,
   "metadata": {
    "colab": {},
    "colab_type": "code",
    "id": "-mPuiSsRHdX5"
   },
   "outputs": [],
   "source": [
    "train=pd.merge(train,train_mean,right_index=True,left_index=True)\n",
    "test=pd.merge(test,test_mean,right_index=True,left_index=True)\n"
   ]
  },
  {
   "cell_type": "code",
   "execution_count": null,
   "metadata": {
    "colab": {
     "base_uri": "https://localhost:8080/",
     "height": 125
    },
    "colab_type": "code",
    "executionInfo": {
     "elapsed": 1011,
     "status": "ok",
     "timestamp": 1563464099314,
     "user": {
      "displayName": "陶士来",
      "photoUrl": "",
      "userId": "08104502188577818611"
     },
     "user_tz": -480
    },
    "id": "Y5uX0BAOkuva",
    "outputId": "ed0b9455-7baf-4991-8176-a94c7e229d4a"
   },
   "outputs": [],
   "source": [
    "print(train_mean.shape)\n",
    "print(train.shape)\n",
    "print(train_mean.index[1099900:-1])\n",
    "\n",
    "print(test_mean.shape)\n",
    "print(test.shape)\n",
    "print(test_mean.index[1099900:-1])"
   ]
  },
  {
   "cell_type": "code",
   "execution_count": null,
   "metadata": {
    "colab": {
     "base_uri": "https://localhost:8080/",
     "height": 338
    },
    "colab_type": "code",
    "executionInfo": {
     "elapsed": 983,
     "status": "ok",
     "timestamp": 1563461868152,
     "user": {
      "displayName": "陶士来",
      "photoUrl": "",
      "userId": "08104502188577818611"
     },
     "user_tz": -480
    },
    "id": "cngtk5XYkvA1",
    "outputId": "dd0bc985-fcb1-46c9-fa10-47f3c332f2d3"
   },
   "outputs": [],
   "source": [
    "train_temp.head()"
   ]
  },
  {
   "cell_type": "code",
   "execution_count": null,
   "metadata": {
    "colab": {
     "base_uri": "https://localhost:8080/",
     "height": 1000
    },
    "colab_type": "code",
    "executionInfo": {
     "elapsed": 1152,
     "status": "ok",
     "timestamp": 1563114950051,
     "user": {
      "displayName": "陶士来",
      "photoUrl": "",
      "userId": "08104502188577818611"
     },
     "user_tz": -480
    },
    "id": "EDNqT0ND79LU",
    "outputId": "aa9f5970-a228-4440-86bc-cdace40f06f7"
   },
   "outputs": [],
   "source": [
    "test_temp.sample(10)"
   ]
  },
  {
   "cell_type": "code",
   "execution_count": null,
   "metadata": {
    "colab": {},
    "colab_type": "code",
    "id": "E56cwhig6vHo"
   },
   "outputs": [],
   "source": []
  },
  {
   "cell_type": "code",
   "execution_count": null,
   "metadata": {
    "colab": {},
    "colab_type": "code",
    "id": "yJ4iNt3L6vPc"
   },
   "outputs": [],
   "source": []
  },
  {
   "cell_type": "code",
   "execution_count": null,
   "metadata": {
    "colab": {},
    "colab_type": "code",
    "id": "xaRLIr9MIJwq"
   },
   "outputs": [],
   "source": [
    "\n",
    "# test = train.loc[train['label'].isnull()]\n",
    "\n",
    "# train = train.loc[train['label'].notnull()]"
   ]
  },
  {
   "cell_type": "code",
   "execution_count": null,
   "metadata": {
    "colab": {
     "base_uri": "https://localhost:8080/",
     "height": 35
    },
    "colab_type": "code",
    "executionInfo": {
     "elapsed": 1497,
     "status": "ok",
     "timestamp": 1563464113998,
     "user": {
      "displayName": "陶士来",
      "photoUrl": "",
      "userId": "08104502188577818611"
     },
     "user_tz": -480
    },
    "id": "37kQPNMjITKP",
    "outputId": "c0c238d3-3a30-4b88-ae71-77659868d449"
   },
   "outputs": [],
   "source": [
    "print(train.shape,test.shape)"
   ]
  },
  {
   "cell_type": "code",
   "execution_count": null,
   "metadata": {
    "colab": {
     "base_uri": "https://localhost:8080/",
     "height": 335
    },
    "colab_type": "code",
    "executionInfo": {
     "elapsed": 1031,
     "status": "error",
     "timestamp": 1562950992328,
     "user": {
      "displayName": "陶士来",
      "photoUrl": "",
      "userId": "08104502188577818611"
     },
     "user_tz": -480
    },
    "id": "dVvLjxwJ8BaS",
    "outputId": "bdf2fa07-408f-4a7a-fdcb-3505036746dc"
   },
   "outputs": [],
   "source": [
    "test.sample(10)"
   ]
  },
  {
   "cell_type": "code",
   "execution_count": null,
   "metadata": {
    "colab": {},
    "colab_type": "code",
    "id": "la8VS7Yf8B1I"
   },
   "outputs": [],
   "source": []
  },
  {
   "cell_type": "code",
   "execution_count": null,
   "metadata": {
    "colab": {},
    "colab_type": "code",
    "id": "yC7UaddL8Bq7"
   },
   "outputs": [],
   "source": []
  },
  {
   "cell_type": "code",
   "execution_count": null,
   "metadata": {
    "colab": {},
    "colab_type": "code",
    "id": "hw53YY2SZyR4"
   },
   "outputs": [],
   "source": []
  },
  {
   "cell_type": "code",
   "execution_count": null,
   "metadata": {
    "colab": {},
    "colab_type": "code",
    "id": "S66r-2jHZyGi"
   },
   "outputs": [],
   "source": [
    "# test = train.loc[train['label'].isnull()]\n",
    "# \n",
    "# train = train.loc[train['label'].notnull()]"
   ]
  },
  {
   "cell_type": "code",
   "execution_count": null,
   "metadata": {},
   "outputs": [],
   "source": [
    "# # train.to_csv('train_1.csv',index=False)\n",
    "# df_h5 = pd.HDFStore('{}_final.h5'.format('train'),'a',complevel=4, complib='blosc')#追加用a,用w会出错;后面参数是启用压缩模式\n",
    "# df_h5['data'] = train\n",
    "# df_h5.close()\n",
    "\n",
    "# df_h5 = pd.HDFStore('{}_final.h5'.format('test'),'a',complevel=4, complib='blosc')#追加用a,用w会出错;后面参数是启用压缩模式\n",
    "# df_h5['data'] = test\n",
    "# df_h5.close()"
   ]
  },
  {
   "cell_type": "code",
   "execution_count": null,
   "metadata": {
    "colab": {
     "base_uri": "https://localhost:8080/",
     "height": 53
    },
    "colab_type": "code",
    "executionInfo": {
     "elapsed": 4016,
     "status": "ok",
     "timestamp": 1563464160042,
     "user": {
      "displayName": "陶士来",
      "photoUrl": "",
      "userId": "08104502188577818611"
     },
     "user_tz": -480
    },
    "id": "q6sTamvpLFeK",
    "outputId": "337e7fdc-86e8-4fc4-d8cb-684b8cac968d"
   },
   "outputs": [],
   "source": [
    "# train=train_temp\n",
    "# test=test_temp\n",
    "# 删除没用的特征\n",
    "drop = ['sid','label','nginxtime']+large_base_var+one_hot_var+['time']\n",
    "\n",
    "y_train = train.loc[:,'label']\n",
    "res = test.loc[:, ['sid']]\n",
    "\n",
    "train.drop(drop, axis=1, inplace=True)\n",
    "print('train:',train.shape)\n",
    "test.drop(drop, axis=1, inplace=True)\n",
    "print('test:',test.shape)\n",
    "\n",
    "X_loc_train = train.values\n",
    "y_loc_train = y_train.values\n",
    "X_loc_test = test.values\n",
    "\n",
    "\n",
    "\n"
   ]
  },
  {
   "cell_type": "code",
   "execution_count": null,
   "metadata": {
    "colab": {
     "base_uri": "https://localhost:8080/",
     "height": 53
    },
    "colab_type": "code",
    "executionInfo": {
     "elapsed": 985,
     "status": "ok",
     "timestamp": 1563464169762,
     "user": {
      "displayName": "陶士来",
      "photoUrl": "",
      "userId": "08104502188577818611"
     },
     "user_tz": -480
    },
    "id": "ZGRSyIMKBFwd",
    "outputId": "e866ac9a-74ed-4564-8d91-f3d2b02c8d18"
   },
   "outputs": [],
   "source": [
    "print(X_loc_train.shape)\n",
    "print(X_loc_test.shape)"
   ]
  },
  {
   "cell_type": "code",
   "execution_count": null,
   "metadata": {
    "colab": {
     "base_uri": "https://localhost:8080/",
     "height": 53
    },
    "colab_type": "code",
    "executionInfo": {
     "elapsed": 1185,
     "status": "ok",
     "timestamp": 1563117649302,
     "user": {
      "displayName": "陶士来",
      "photoUrl": "",
      "userId": "08104502188577818611"
     },
     "user_tz": -480
    },
    "id": "vGsxueLnA-hu",
    "outputId": "66cff48a-31c8-4269-81be-28a037a5d223"
   },
   "outputs": [],
   "source": [
    "print(feat_one_hot_sparse_matrix[:1000000].toarray().shape)\n",
    "print(feat_one_hot_sparse_matrix[1000000:].shape)\n"
   ]
  },
  {
   "cell_type": "code",
   "execution_count": null,
   "metadata": {
    "colab": {
     "base_uri": "https://localhost:8080/",
     "height": 35
    },
    "colab_type": "code",
    "executionInfo": {
     "elapsed": 1575,
     "status": "ok",
     "timestamp": 1563117197718,
     "user": {
      "displayName": "陶士来",
      "photoUrl": "",
      "userId": "08104502188577818611"
     },
     "user_tz": -480
    },
    "id": "1TgiIzt_B0BL",
    "outputId": "3ab7d4c3-f32c-4782-e014-97de1fe910d1"
   },
   "outputs": [],
   "source": []
  },
  {
   "cell_type": "code",
   "execution_count": null,
   "metadata": {
    "colab": {},
    "colab_type": "code",
    "id": "RnHHLx_w_UmQ"
   },
   "outputs": [],
   "source": [
    "# feat_one_hot_sparse_matrix=enc.fit_transform(train[one_hot_var])\n",
    "\n",
    "# from scipy import sparse\n",
    "import numpy as np\n",
    "X_loc_train=np.hstack((feat_one_hot_sparse_matrix[:1000000].toarray(),X_loc_train )).astype(np.float32)\n",
    "X_loc_test=np.hstack((feat_one_hot_sparse_matrix[1000000:].toarray(), X_loc_test)).astype(np.float32)\n",
    "\n",
    "\n",
    "\n",
    "    \n",
    "# for feature in cate_feature:\n",
    "#     enc.fit(data[feature].values.reshape(-1, 1))\n",
    "#     base_train_csr = sparse.hstack((base_train_csr, enc.transform(train_x[feature].values.reshape(-1, 1))), 'csr',\n",
    "#                                    'bool')\n",
    "#     base_predict_csr = sparse.hstack((base_predict_csr, enc.transform(predict[feature].values.reshape(-1, 1))),\n",
    "#                                      'csr',\n",
    "#                                      'bool')"
   ]
  },
  {
   "cell_type": "code",
   "execution_count": null,
   "metadata": {},
   "outputs": [],
   "source": [
    "import joblib\n"
   ]
  },
  {
   "cell_type": "code",
   "execution_count": null,
   "metadata": {
    "colab": {},
    "colab_type": "code",
    "id": "D9DD3jlWOhW-"
   },
   "outputs": [],
   "source": [
    "import gc\n",
    "del feat_one_hot_sparse_matrix\n",
    "gc.collect"
   ]
  },
  {
   "cell_type": "code",
   "execution_count": null,
   "metadata": {
    "colab": {
     "base_uri": "https://localhost:8080/",
     "height": 379
    },
    "colab_type": "code",
    "executionInfo": {
     "elapsed": 1223,
     "status": "ok",
     "timestamp": 1563116017515,
     "user": {
      "displayName": "陶士来",
      "photoUrl": "",
      "userId": "08104502188577818611"
     },
     "user_tz": -480
    },
    "id": "N1FCbWjx-Wh5",
    "outputId": "fed835d6-e59d-4213-92c6-c0bef7861ac9"
   },
   "outputs": [],
   "source": [
    "train.sample(10)"
   ]
  },
  {
   "cell_type": "code",
   "execution_count": null,
   "metadata": {
    "colab": {},
    "colab_type": "code",
    "id": "6ZMdeYhIOpcs"
   },
   "outputs": [],
   "source": [
    "# res=test.loc[:, ['sid']]\n",
    "# X_loc_train = train.values[0:100]\n",
    "# y_loc_train = y_train.values[0:100]\n",
    "# X_loc_test = test.values[0:100]"
   ]
  },
  {
   "cell_type": "code",
   "execution_count": null,
   "metadata": {
    "colab": {},
    "colab_type": "code",
    "id": "lVPHgPjRWGMM"
   },
   "outputs": [],
   "source": [
    "# res=res\n",
    "# X_loc_train = train.values\n",
    "# y_loc_train = y_train.values\n",
    "# X_loc_test = test.values"
   ]
  },
  {
   "cell_type": "code",
   "execution_count": null,
   "metadata": {
    "colab": {},
    "colab_type": "code",
    "id": "v5zwQb1RWGIi"
   },
   "outputs": [],
   "source": []
  },
  {
   "cell_type": "code",
   "execution_count": null,
   "metadata": {
    "colab": {
     "base_uri": "https://localhost:8080/",
     "height": 245
    },
    "colab_type": "code",
    "executionInfo": {
     "elapsed": 1866,
     "status": "error",
     "timestamp": 1563487673447,
     "user": {
      "displayName": "陶士来",
      "photoUrl": "",
      "userId": "08104502188577818611"
     },
     "user_tz": -480
    },
    "id": "De4HL7AOKB1A",
    "outputId": "6d244ea1-fa1c-40b9-ccd1-d4417282f86a"
   },
   "outputs": [],
   "source": [
    "# import lightgbm as lgb\n",
    "from lightgbm.sklearn import LGBMClassifier\n",
    "import numpy as np \n",
    "import pandas as pd\n",
    "import time\n",
    "import datetime\n",
    "import gc\n",
    "from sklearn.model_selection import KFold, cross_val_score, train_test_split\n",
    "from sklearn.model_selection import StratifiedKFold\n",
    "from sklearn.metrics import roc_auc_score, log_loss\n",
    "\n",
    "\n",
    "'''\n",
    "from sklearn.model_selection import KFold\n",
    "   ...: import numpy as np\n",
    "   ...: X = np.arange(24).reshape(12,2)\n",
    "   ...: y = np.random.choice([1,2],12,p=[0.4,0.6])\n",
    "   ...: kf = KFold(n_splits=5,shuffle=False)\n",
    "   ...: for train_index , test_index in kf.split(X):\n",
    "   \n",
    "from sklearn.model_selection import StratifiedKFold\n",
    "import numpy as np\n",
    "\n",
    "X = np.array([[1, 2], [3, 4], [1, 2], [3, 4]])\n",
    "y = np.array([0, 0, 1, 1])\n",
    "skf = StratifiedKFold(n_splits=2)\n",
    "skf.get_n_splits(X, y)\n",
    "\n",
    "> 2\n",
    "\n",
    "for train_index, test_index in skf.split(X, y):\n",
    "    print(\"TRAIN:\", train_index, \"TEST:\", test_index)\n",
    "    X_train, X_test = X[train_index], X[test_index]\n",
    "    y_train, y_test = y[train_index], y[test_index]\n",
    "\n",
    "> TRAIN: [1 3] TEST: [0 2]\n",
    "TRAIN: [0 2] TEST: [1 3]\n",
    "\n",
    "'''\n",
    "\n",
    "# 模型部分\n",
    "model = LGBMClassifier(boosting_type='gbdt', num_leaves=48, max_depth=-1, learning_rate=0.05, n_estimators=5000,\n",
    "                           max_bin=425, subsample_for_bin=50000, objective='binary', min_split_gain=0,\n",
    "                           min_child_weight=5, min_child_samples=10, subsample=0.8, subsample_freq=1,\n",
    "                           colsample_bytree=1, reg_alpha=3, reg_lambda=5, seed=1000, n_jobs=10, silent=True,verbose=1000)\n",
    "\n",
    "# 五折交叉训练，构造五个模型\n",
    "skf=StratifiedKFold( n_splits=5, shuffle=True, random_state=1024)\n",
    "skf.get_n_splits(X_loc_train, y_loc_train)\n",
    "baseloss = []\n",
    "loss = 0\n",
    "for i, (train_index, test_index) in enumerate(skf.split(X_loc_train, y_loc_train)):\n",
    "    print(\"Fold\", i)\n",
    "    lgb_model = model.fit(X_loc_train[train_index], y_loc_train[train_index],\n",
    "                          eval_names =['train','valid'],\n",
    "                          eval_metric='logloss',\n",
    "                          eval_set=[(X_loc_train[train_index], y_loc_train[train_index]), \n",
    "                                    (X_loc_train[test_index], y_loc_train[test_index])],early_stopping_rounds=100)\n",
    "    baseloss.append(lgb_model.best_score_['valid']['binary_logloss'])\n",
    "    loss += lgb_model.best_score_['valid']['binary_logloss']\n",
    "    test_pred= lgb_model.predict_proba(X_loc_test, num_iteration=lgb_model.best_iteration_)[:, 1]\n",
    "    print('test mean:', test_pred.mean())\n",
    "    res['prob_%s' % str(i)] = test_pred\n",
    "print('logloss:', baseloss, loss/5)\n",
    "\n",
    "# 加权平均\n",
    "res['label'] = 0\n",
    "for i in range(5):\n",
    "    res['label'] += res['prob_%s' % str(i)]\n",
    "res['label'] = res['label']/5\n",
    "now = datetime.datetime.now()\n",
    "\n",
    "res[['sid', 'label']].to_csv(\"lgb_baseline_%s_prob.csv\" % now, index=False)\n",
    "res['label']=res['label'].map(lambda row:1 if row>=0.5  else 0)\n",
    "\n",
    "# 提交结果\n",
    "mean = res['label'].mean()\n",
    "print('mean:',mean)\n",
    "\n",
    "now = now.strftime('%m-%d-%H-%M')\n",
    "res[['sid', 'label']].to_csv(\"lgb_baseline_%s.csv\" % now, index=False)\n",
    "print(res[['sid', 'label']].head())"
   ]
  },
  {
   "cell_type": "code",
   "execution_count": null,
   "metadata": {
    "colab": {
     "base_uri": "https://localhost:8080/",
     "height": 1000
    },
    "colab_type": "code",
    "executionInfo": {
     "elapsed": 7673,
     "status": "ok",
     "timestamp": 1562600323136,
     "user": {
      "displayName": "陶士来",
      "photoUrl": "",
      "userId": "08104502188577818611"
     },
     "user_tz": -480
    },
    "id": "an4Mb7wNPIgB",
    "outputId": "c8d0ab67-a268-42ee-d37a-4b453de60a28"
   },
   "outputs": [],
   "source": [
    "now = datetime.datetime.now()\n",
    "\n",
    "res[['sid', 'label']].to_csv(\"lgb_baseline_%s_prob.csv\" % now, index=False)\n",
    "res['label']=res['label'].map(lambda row:1 if row>=0.5  else 0)\n",
    "\n",
    "# 提交结果\n",
    "mean = res['label'].mean()\n",
    "print('mean:',mean)\n",
    "\n",
    "now = now.strftime('%m-%d-%H-%M')\n",
    "res[['sid', 'label']].to_csv(\"lgb_baseline_%s.csv\" % now, index=False)\n",
    "print(res[['sid', 'label']].head())"
   ]
  },
  {
   "cell_type": "code",
   "execution_count": null,
   "metadata": {},
   "outputs": [],
   "source": [
    "ls -lh"
   ]
  },
  {
   "cell_type": "code",
   "execution_count": null,
   "metadata": {
    "colab": {
     "base_uri": "https://localhost:8080/",
     "height": 233
    },
    "colab_type": "code",
    "executionInfo": {
     "elapsed": 2025,
     "status": "ok",
     "timestamp": 1562490349867,
     "user": {
      "displayName": "陶士来",
      "photoUrl": "",
      "userId": "08104502188577818611"
     },
     "user_tz": -480
    },
    "id": "suv3Ksv2iRo0",
    "outputId": "af2a0815-4d4e-4a5b-c5b6-cb7a75befb3e"
   },
   "outputs": [],
   "source": [
    "# lan\t400862\t36.44%\n",
    "# 27\tver\t351016\t31.91%\n",
    "# 13\tmake\t135343\t12.30%\n",
    "# 4\tcity\t16660\t1.51%\n",
    "# 21\tosv\t13929\t1.27%\n",
    "# 15\tmodel\t4562\t0.41%\n",
    "for each in ['lan','ver','make','city','osv','model']:\n",
    "  print(train[each].mode())\n",
    "  train[each]=train[each].fillna(train[each].mode()) "
   ]
  },
  {
   "cell_type": "code",
   "execution_count": null,
   "metadata": {
    "colab": {
     "base_uri": "https://localhost:8080/",
     "height": 539
    },
    "colab_type": "code",
    "executionInfo": {
     "elapsed": 1613,
     "status": "ok",
     "timestamp": 1562490354040,
     "user": {
      "displayName": "陶士来",
      "photoUrl": "",
      "userId": "08104502188577818611"
     },
     "user_tz": -480
    },
    "id": "LtpgG439UF1b",
    "outputId": "76feb9e4-ca64-424a-9035-cddda225beaf"
   },
   "outputs": [],
   "source": [
    "df_null_ratio=null_ratio(train)"
   ]
  },
  {
   "cell_type": "code",
   "execution_count": null,
   "metadata": {
    "colab": {
     "base_uri": "https://localhost:8080/",
     "height": 948
    },
    "colab_type": "code",
    "executionInfo": {
     "elapsed": 934,
     "status": "ok",
     "timestamp": 1562490360373,
     "user": {
      "displayName": "陶士来",
      "photoUrl": "",
      "userId": "08104502188577818611"
     },
     "user_tz": -480
    },
    "id": "gThuIQ1tVP30",
    "outputId": "3ed7d54d-9711-4a72-d21a-44bd27d0b37a"
   },
   "outputs": [],
   "source": [
    "df_null_ratio"
   ]
  },
  {
   "cell_type": "code",
   "execution_count": null,
   "metadata": {
    "colab": {
     "base_uri": "https://localhost:8080/",
     "height": 359
    },
    "colab_type": "code",
    "executionInfo": {
     "elapsed": 885,
     "status": "ok",
     "timestamp": 1562490956874,
     "user": {
      "displayName": "陶士来",
      "photoUrl": "",
      "userId": "08104502188577818611"
     },
     "user_tz": -480
    },
    "id": "uC9GafuEOLu2",
    "outputId": "bd3f8fbd-00ab-4462-e1f3-91619dba27c5"
   },
   "outputs": [],
   "source": [
    "train[['lan','ver','make','city','osv','model']].sample(10)\n"
   ]
  },
  {
   "cell_type": "code",
   "execution_count": null,
   "metadata": {
    "colab": {},
    "colab_type": "code",
    "id": "8rW5MPO1lc0p"
   },
   "outputs": [],
   "source": [
    "\n",
    "import pandas as pd\n",
    "import numpy as np\n",
    "#显示所有列\n",
    "pd.set_option(\"display.max_columns\",500)"
   ]
  },
  {
   "cell_type": "code",
   "execution_count": null,
   "metadata": {
    "colab": {
     "base_uri": "https://localhost:8080/",
     "height": 161
    },
    "colab_type": "code",
    "executionInfo": {
     "elapsed": 9986,
     "status": "ok",
     "timestamp": 1562000494770,
     "user": {
      "displayName": "陶士来",
      "photoUrl": "",
      "userId": "08104502188577818611"
     },
     "user_tz": -480
    },
    "id": "rRGKrTJtQi2r",
    "outputId": "87286efe-5e90-4248-a5c1-16bf48e4c852"
   },
   "outputs": [],
   "source": [
    "path = \"../data/\"\n",
    "# print(os.listdir(path))\n",
    "train = pd.read_csv(path+\"train.csv\",encoding='utf8'\n",
    "                   ) #100W\n",
    "test = pd.read_csv(path+\"test.csv\",encoding='utf8',parse_dates=['auditing_date', 'due_date']) #13W\n",
    "train=train.append(test)"
   ]
  },
  {
   "cell_type": "code",
   "execution_count": null,
   "metadata": {
    "colab": {
     "base_uri": "https://localhost:8080/",
     "height": 233
    },
    "colab_type": "code",
    "executionInfo": {
     "elapsed": 4132,
     "status": "ok",
     "timestamp": 1561985016303,
     "user": {
      "displayName": "陶士来",
      "photoUrl": "",
      "userId": "08104502188577818611"
     },
     "user_tz": -480
    },
    "id": "o66A1XoOXNE-",
    "outputId": "e028d7f9-d36f-46d2-f62e-e16429777307"
   },
   "outputs": [],
   "source": [
    "train.info(memory_usage='deep')"
   ]
  },
  {
   "cell_type": "code",
   "execution_count": null,
   "metadata": {
    "colab": {
     "base_uri": "https://localhost:8080/",
     "height": 359
    },
    "colab_type": "code",
    "executionInfo": {
     "elapsed": 735,
     "status": "ok",
     "timestamp": 1561985019390,
     "user": {
      "displayName": "陶士来",
      "photoUrl": "",
      "userId": "08104502188577818611"
     },
     "user_tz": -480
    },
    "id": "AnxPJvI9gGg8",
    "outputId": "798e3d42-077d-4895-9e34-520410a419b6"
   },
   "outputs": [],
   "source": [
    "train.sample(10)"
   ]
  },
  {
   "cell_type": "code",
   "execution_count": null,
   "metadata": {
    "colab": {},
    "colab_type": "code",
    "id": "w8tu0-aMgGlQ"
   },
   "outputs": [],
   "source": [
    "def replace_na_date(x):\n",
    "  if x=='\\\\N'or pd.isnull(x):\n",
    "    return '2080-01-01'\n",
    "  else:\n",
    "    return x\n",
    "def replace_na_amt(x):\n",
    "  if x=='\\\\N'or pd.isnull(x):\n",
    "    return 0\n",
    "  else :\n",
    "    return x\n",
    "train['repay_date']=train['repay_date'].map(replace_na_date)\n",
    "train['repay_amt']=train['repay_amt'].map(replace_na_amt)"
   ]
  },
  {
   "cell_type": "code",
   "execution_count": null,
   "metadata": {
    "colab": {},
    "colab_type": "code",
    "id": "g5snF0pLgHFW"
   },
   "outputs": [],
   "source": [
    "#convert to uint32\n",
    "for each in ['user_id',\t'listing_id']:\n",
    "  train[each]=train[each].astype(np.uint32)"
   ]
  },
  {
   "cell_type": "code",
   "execution_count": null,
   "metadata": {
    "colab": {},
    "colab_type": "code",
    "id": "XG2BtP59gHnx"
   },
   "outputs": [],
   "source": [
    "#convert to datatime\n",
    "train['auditing_date']=pd.to_datetime(train['auditing_date'],format='%Y-%m-%d')\n",
    "train['due_date']=pd.to_datetime(train['due_date'],format='%Y-%m-%d')\n",
    "train['repay_date']=pd.to_datetime(train['repay_date'],format='%Y-%m-%d')"
   ]
  },
  {
   "cell_type": "code",
   "execution_count": null,
   "metadata": {
    "colab": {},
    "colab_type": "code",
    "id": "mcvBCQlUgHlR"
   },
   "outputs": [],
   "source": [
    "#convert to float32\n",
    "for each in['due_amt','repay_amt']:\n",
    "  train[each]=train[each].astype(np.float32)\n",
    "  "
   ]
  },
  {
   "cell_type": "code",
   "execution_count": null,
   "metadata": {
    "colab": {
     "base_uri": "https://localhost:8080/",
     "height": 233
    },
    "colab_type": "code",
    "executionInfo": {
     "elapsed": 754,
     "status": "ok",
     "timestamp": 1561985269490,
     "user": {
      "displayName": "陶士来",
      "photoUrl": "",
      "userId": "08104502188577818611"
     },
     "user_tz": -480
    },
    "id": "Yh2oND4mgHim",
    "outputId": "a24262bf-9831-4036-cc03-36360e106eac"
   },
   "outputs": [],
   "source": [
    "train.info(memory_usage='deep')"
   ]
  },
  {
   "cell_type": "code",
   "execution_count": null,
   "metadata": {
    "colab": {
     "base_uri": "https://localhost:8080/",
     "height": 359
    },
    "colab_type": "code",
    "executionInfo": {
     "elapsed": 739,
     "status": "ok",
     "timestamp": 1561985280325,
     "user": {
      "displayName": "陶士来",
      "photoUrl": "",
      "userId": "08104502188577818611"
     },
     "user_tz": -480
    },
    "id": "FXx0qEIYgHfS",
    "outputId": "2beb2225-6187-4b51-e449-59ca422ec8a1"
   },
   "outputs": [],
   "source": [
    "train.sample(10)"
   ]
  },
  {
   "cell_type": "code",
   "execution_count": null,
   "metadata": {
    "colab": {},
    "colab_type": "code",
    "id": "ZCPghGEsgHcz"
   },
   "outputs": [],
   "source": [
    "submission = pd.read_csv(path+\"/submission/submission.csv\",encoding='utf8',parse_dates=[ 'repay_date'],##字符串似乎占空间是最大的\n",
    "                        dtype={'user_id':np.uint32, 'listing_id':np.uint32,'repay_amt':np.float32\n",
    "                               }) #398W"
   ]
  },
  {
   "cell_type": "code",
   "execution_count": null,
   "metadata": {
    "colab": {
     "base_uri": "https://localhost:8080/",
     "height": 161
    },
    "colab_type": "code",
    "executionInfo": {
     "elapsed": 1110,
     "status": "ok",
     "timestamp": 1561985671214,
     "user": {
      "displayName": "陶士来",
      "photoUrl": "",
      "userId": "08104502188577818611"
     },
     "user_tz": -480
    },
    "id": "iuICz8cVgHaR",
    "outputId": "8b5a8931-2884-44b8-d347-2991d16559ab"
   },
   "outputs": [],
   "source": [
    "submission.info(memory_usage='deep')"
   ]
  },
  {
   "cell_type": "code",
   "execution_count": null,
   "metadata": {
    "colab": {},
    "colab_type": "code",
    "id": "Kg9WPsY4gHWo"
   },
   "outputs": [],
   "source": [
    "listing_info = pd.read_csv(path+\"listing_info.csv\",encoding='utf8',parse_dates=['auditing_date'],\n",
    "                          dtype={'user_id':np.uint32, 'listing_id':np.uint32,'term':np.uint32,'rate':np.float32,'principal':np.float32 \n",
    "                                #'due_amt':np.float32,'repay_amt':np.float32\n",
    "                               })"
   ]
  },
  {
   "cell_type": "code",
   "execution_count": null,
   "metadata": {
    "colab": {
     "base_uri": "https://localhost:8080/",
     "height": 215
    },
    "colab_type": "code",
    "executionInfo": {
     "elapsed": 1060,
     "status": "ok",
     "timestamp": 1561985620638,
     "user": {
      "displayName": "陶士来",
      "photoUrl": "",
      "userId": "08104502188577818611"
     },
     "user_tz": -480
    },
    "id": "aljqDa_ngHUJ",
    "outputId": "410f452d-bbcb-44a1-bfe6-f234f6e30a7b"
   },
   "outputs": [],
   "source": [
    "listing_info.info(memory_usage='deep')"
   ]
  },
  {
   "cell_type": "code",
   "execution_count": null,
   "metadata": {
    "colab": {
     "base_uri": "https://localhost:8080/",
     "height": 359
    },
    "colab_type": "code",
    "executionInfo": {
     "elapsed": 836,
     "status": "ok",
     "timestamp": 1561985734183,
     "user": {
      "displayName": "陶士来",
      "photoUrl": "",
      "userId": "08104502188577818611"
     },
     "user_tz": -480
    },
    "id": "yJeh5UH-gHRt",
    "outputId": "5e83f225-bb23-4fe5-b4b1-0b3ed3160b25"
   },
   "outputs": [],
   "source": [
    "listing_info.sample(10)"
   ]
  },
  {
   "cell_type": "code",
   "execution_count": null,
   "metadata": {
    "colab": {},
    "colab_type": "code",
    "id": "63b2SS2BgHOK"
   },
   "outputs": [],
   "source": [
    "user_info = pd.read_csv(path+\"user_info.csv\",encoding='utf8',parse_dates=['insertdate','reg_mon'],\n",
    "                        dtype={'user_id':np.uint32, 'age':np.uint32,\n",
    "                               })"
   ]
  },
  {
   "cell_type": "code",
   "execution_count": null,
   "metadata": {
    "colab": {
     "base_uri": "https://localhost:8080/",
     "height": 251
    },
    "colab_type": "code",
    "executionInfo": {
     "elapsed": 3530,
     "status": "ok",
     "timestamp": 1561986464048,
     "user": {
      "displayName": "陶士来",
      "photoUrl": "",
      "userId": "08104502188577818611"
     },
     "user_tz": -480
    },
    "id": "2PIzm8MSgHLH",
    "outputId": "296e11e6-6e55-4dbb-cd01-6b2149786c7d"
   },
   "outputs": [],
   "source": [
    "user_info.info(memory_usage='deep')"
   ]
  },
  {
   "cell_type": "code",
   "execution_count": null,
   "metadata": {
    "colab": {
     "base_uri": "https://localhost:8080/",
     "height": 204
    },
    "colab_type": "code",
    "executionInfo": {
     "elapsed": 795,
     "status": "ok",
     "timestamp": 1561986717379,
     "user": {
      "displayName": "陶士来",
      "photoUrl": "",
      "userId": "08104502188577818611"
     },
     "user_tz": -480
    },
    "id": "zQssP8RVqbII",
    "outputId": "b71fe952-ba20-47d2-c4c5-cc927c8ab529"
   },
   "outputs": [],
   "source": [
    "user_info.head()"
   ]
  },
  {
   "cell_type": "code",
   "execution_count": null,
   "metadata": {
    "colab": {},
    "colab_type": "code",
    "id": "VIQ7z_2VgHB6"
   },
   "outputs": [],
   "source": [
    "#labelencoder+onehotencoder\n",
    "from sklearn.preprocessing import LabelEncoder"
   ]
  },
  {
   "cell_type": "code",
   "execution_count": null,
   "metadata": {
    "colab": {},
    "colab_type": "code",
    "id": "61xZDvNagG_J"
   },
   "outputs": [],
   "source": [
    "user_info['gender']=LabelEncoder().fit_transform(user_info['gender'])"
   ]
  },
  {
   "cell_type": "code",
   "execution_count": null,
   "metadata": {
    "colab": {},
    "colab_type": "code",
    "id": "L-9d_CY0uQvl"
   },
   "outputs": [],
   "source": [
    "user_info['gender']=user_info['gender'].astype(np.uint32)"
   ]
  },
  {
   "cell_type": "code",
   "execution_count": null,
   "metadata": {
    "colab": {},
    "colab_type": "code",
    "id": "awD4TwOAz5sJ"
   },
   "outputs": [],
   "source": []
  },
  {
   "cell_type": "code",
   "execution_count": null,
   "metadata": {
    "colab": {},
    "colab_type": "code",
    "id": "ZiRXCZKrxnct"
   },
   "outputs": [],
   "source": [
    "#fill null value and convert dtype\n",
    "for each in ['cell_province',\t'id_province',\t'id_city']:\n",
    "  user_info[each]=user_info[each].map(lambda x:np.nan if x=='\\\\N' else x )\n",
    "  user_info[each].fillna(user_info[each].mode()[0], inplace=True)\n",
    "  user_info[each]=user_info[each].map(lambda x:x[1:] ).astype(np.uint32)\n"
   ]
  },
  {
   "cell_type": "code",
   "execution_count": null,
   "metadata": {
    "colab": {},
    "colab_type": "code",
    "id": "exlOyItHuQsa"
   },
   "outputs": [],
   "source": [
    "\n",
    "  \n",
    "    "
   ]
  },
  {
   "cell_type": "code",
   "execution_count": null,
   "metadata": {
    "colab": {},
    "colab_type": "code",
    "id": "T-P0TTQQrGdH"
   },
   "outputs": [],
   "source": []
  },
  {
   "cell_type": "code",
   "execution_count": null,
   "metadata": {
    "colab": {
     "base_uri": "https://localhost:8080/",
     "height": 359
    },
    "colab_type": "code",
    "executionInfo": {
     "elapsed": 753,
     "status": "ok",
     "timestamp": 1561989726544,
     "user": {
      "displayName": "陶士来",
      "photoUrl": "",
      "userId": "08104502188577818611"
     },
     "user_tz": -480
    },
    "id": "OihhwuswgG8C",
    "outputId": "72ed7e76-31b5-4559-c4c5-89ccb352241a"
   },
   "outputs": [],
   "source": [
    "user_info.head(10)#1代表男，0代表女"
   ]
  },
  {
   "cell_type": "code",
   "execution_count": null,
   "metadata": {
    "colab": {
     "base_uri": "https://localhost:8080/",
     "height": 251
    },
    "colab_type": "code",
    "executionInfo": {
     "elapsed": 1003,
     "status": "ok",
     "timestamp": 1561989717764,
     "user": {
      "displayName": "陶士来",
      "photoUrl": "",
      "userId": "08104502188577818611"
     },
     "user_tz": -480
    },
    "id": "5UHBxiCAgG48",
    "outputId": "c43d7676-1cb9-45af-a391-991aaba44a4a"
   },
   "outputs": [],
   "source": [
    "user_info.info(memory_usage='deep')"
   ]
  },
  {
   "cell_type": "code",
   "execution_count": null,
   "metadata": {
    "colab": {},
    "colab_type": "code",
    "id": "oJDIKQcJgG2j"
   },
   "outputs": [],
   "source": [
    "user_taglist = pd.read_csv(path+\"user_taglist.csv\",encoding='utf8',parse_dates=['insertdate'],dtype={'user_id':np.uint32})"
   ]
  },
  {
   "cell_type": "code",
   "execution_count": null,
   "metadata": {
    "colab": {},
    "colab_type": "code",
    "id": "XzU-2Plx9vTP"
   },
   "outputs": [],
   "source": [
    "def property_feature(org):\n",
    "    tmp=org['taglist'].apply(lambda x:x.split('|')).values\n",
    "    property_dict={}\n",
    "    property_list=[]\n",
    "    for i in tmp:\n",
    "        property_list+=i\n",
    "    for i in property_list:\n",
    "        if i in property_dict:\n",
    "            property_dict[i]+=1\n",
    "        else:\n",
    "            property_dict[i] = 1\n",
    "#     print(property_dict)\n",
    "#     print('dict finish')\n",
    "    def top(x):\n",
    "        propertys=x.split('|')\n",
    "        cnt=[property_dict[i] for i in propertys]\n",
    "        res=sorted(zip(propertys,cnt),key=lambda x:x[1],reverse=True)#字典按照次数进行排序\n",
    "#         print('res',res)\n",
    "        top1=res[0][0]\n",
    "        top2 = '_'.join([i[0] for i in res[:2]])\n",
    "        top3 = '_'.join([i[0] for i in res[:3]])\n",
    "        top4 = '_'.join([i[0] for i in res[:4]])\n",
    "        top5='_'.join([i[0] for i in res[:5]])\n",
    "        top10 = '_'.join([i[0] for i in res[:10]])\n",
    "        return (top1,top2,top3,top4,top5,top10)\n",
    "    org['top']=org['taglist'].apply(top)###运用top函数\n",
    "    print('top finish')\n",
    "    org['top1']=org['top'].apply(lambda x:x[0])\n",
    "    org['top2'] = org['top'].apply(lambda x: x[1])\n",
    "    org['top3'] = org['top'].apply(lambda x: x[2])\n",
    "    org['top4'] = org['top'].apply(lambda x: x[3])\n",
    "    org['top5'] = org['top'].apply(lambda x: x[4])\n",
    "    org['top10'] = org['top'].apply(lambda x: x[5])\n",
    "#     print(org)\n",
    "#     org.to_csv('org.csv',index=False)\n",
    "    return org[['user_id','top1','top2','top3','top4','top5','top10']]"
   ]
  },
  {
   "cell_type": "code",
   "execution_count": null,
   "metadata": {
    "colab": {},
    "colab_type": "code",
    "id": "NT80psk8-yG7"
   },
   "outputs": [],
   "source": []
  },
  {
   "cell_type": "markdown",
   "metadata": {
    "colab_type": "text",
    "id": "RY3AAwoD98Am"
   },
   "source": []
  },
  {
   "cell_type": "code",
   "execution_count": null,
   "metadata": {
    "colab": {
     "base_uri": "https://localhost:8080/",
     "height": 35
    },
    "colab_type": "code",
    "executionInfo": {
     "elapsed": 53433,
     "status": "ok",
     "timestamp": 1562000666740,
     "user": {
      "displayName": "陶士来",
      "photoUrl": "",
      "userId": "08104502188577818611"
     },
     "user_tz": -480
    },
    "id": "hJVqIsKn98n8",
    "outputId": "537c2ba5-bc26-4b1d-c089-73bfbc29a222"
   },
   "outputs": [],
   "source": [
    "user_taglist_new_feature= property_feature(user_taglist)"
   ]
  },
  {
   "cell_type": "code",
   "execution_count": null,
   "metadata": {
    "colab": {
     "base_uri": "https://localhost:8080/",
     "height": 359
    },
    "colab_type": "code",
    "executionInfo": {
     "elapsed": 1169,
     "status": "ok",
     "timestamp": 1561992622887,
     "user": {
      "displayName": "陶士来",
      "photoUrl": "",
      "userId": "08104502188577818611"
     },
     "user_tz": -480
    },
    "id": "_4JQzPFhA1fW",
    "outputId": "4fc5429b-8c60-4299-9a40-8d4bc69d2d70"
   },
   "outputs": [],
   "source": [
    "user_taglist_new_feature.sample(10)"
   ]
  },
  {
   "cell_type": "code",
   "execution_count": null,
   "metadata": {
    "colab": {
     "base_uri": "https://localhost:8080/",
     "height": 737
    },
    "colab_type": "code",
    "executionInfo": {
     "elapsed": 1928,
     "status": "error",
     "timestamp": 1562000881917,
     "user": {
      "displayName": "陶士来",
      "photoUrl": "",
      "userId": "08104502188577818611"
     },
     "user_tz": -480
    },
    "id": "CM66bUQOCeey",
    "outputId": "daed5d71-a692-40c4-baba-05db3cf4ed9b"
   },
   "outputs": [],
   "source": [
    "import gc\n",
    "del user_taglist['taglist']\n",
    "del user_taglist['top']\n",
    "gc.collect()"
   ]
  },
  {
   "cell_type": "code",
   "execution_count": null,
   "metadata": {
    "colab": {
     "base_uri": "https://localhost:8080/",
     "height": 549
    },
    "colab_type": "code",
    "executionInfo": {
     "elapsed": 805,
     "status": "ok",
     "timestamp": 1562000927532,
     "user": {
      "displayName": "陶士来",
      "photoUrl": "",
      "userId": "08104502188577818611"
     },
     "user_tz": -480
    },
    "id": "sIHVgVIXCUAA",
    "outputId": "ac0931cd-a09e-42a1-8afa-7cf547cae8c3"
   },
   "outputs": [],
   "source": [
    "user_taglist.sample(10)"
   ]
  },
  {
   "cell_type": "code",
   "execution_count": null,
   "metadata": {
    "colab": {},
    "colab_type": "code",
    "id": "KHZd_GaSA9x7"
   },
   "outputs": [],
   "source": [
    "#lablencoder\n",
    "for each in ['top1','top2','top3','top4','top5','top10']:\n",
    "  user_taglist[each]=LabelEncoder().fit_transform(user_taglist[each]).astype(np.uint32)"
   ]
  },
  {
   "cell_type": "code",
   "execution_count": null,
   "metadata": {
    "colab": {
     "base_uri": "https://localhost:8080/",
     "height": 35
    },
    "colab_type": "code",
    "executionInfo": {
     "elapsed": 1107,
     "status": "ok",
     "timestamp": 1561992737328,
     "user": {
      "displayName": "陶士来",
      "photoUrl": "",
      "userId": "08104502188577818611"
     },
     "user_tz": -480
    },
    "id": "dLGFdfxyBTjs",
    "outputId": "27ecd5ec-40f1-41d1-f454-84fb87627179"
   },
   "outputs": [],
   "source": []
  },
  {
   "cell_type": "code",
   "execution_count": null,
   "metadata": {
    "colab": {
     "base_uri": "https://localhost:8080/",
     "height": 359
    },
    "colab_type": "code",
    "executionInfo": {
     "elapsed": 800,
     "status": "ok",
     "timestamp": 1562000965839,
     "user": {
      "displayName": "陶士来",
      "photoUrl": "",
      "userId": "08104502188577818611"
     },
     "user_tz": -480
    },
    "id": "tv0uVs7SA9vL",
    "outputId": "836d3227-43a2-40a6-8599-d8ac53f930b7"
   },
   "outputs": [],
   "source": [
    "user_taglist.sample(10)"
   ]
  },
  {
   "cell_type": "code",
   "execution_count": null,
   "metadata": {
    "colab": {
     "base_uri": "https://localhost:8080/",
     "height": 251
    },
    "colab_type": "code",
    "executionInfo": {
     "elapsed": 806,
     "status": "ok",
     "timestamp": 1561993359415,
     "user": {
      "displayName": "陶士来",
      "photoUrl": "",
      "userId": "08104502188577818611"
     },
     "user_tz": -480
    },
    "id": "zt0GEdvMgG0H",
    "outputId": "ae855742-048e-4993-94aa-738a0110626e"
   },
   "outputs": [],
   "source": [
    "user_taglist.info(memory_usage='deep')"
   ]
  },
  {
   "cell_type": "code",
   "execution_count": null,
   "metadata": {
    "colab": {
     "base_uri": "https://localhost:8080/",
     "height": 35
    },
    "colab_type": "code",
    "executionInfo": {
     "elapsed": 4704,
     "status": "ok",
     "timestamp": 1561996198693,
     "user": {
      "displayName": "陶士来",
      "photoUrl": "",
      "userId": "08104502188577818611"
     },
     "user_tz": -480
    },
    "id": "DfYI9TEEgGxn",
    "outputId": "953e90d3-fe87-416e-b6d2-9d50ab8e6105"
   },
   "outputs": [],
   "source": [
    "user_taglist['top5'].nunique()"
   ]
  },
  {
   "cell_type": "code",
   "execution_count": null,
   "metadata": {
    "colab": {},
    "colab_type": "code",
    "id": "jMW6n9KxgGvQ"
   },
   "outputs": [],
   "source": [
    "user_behavior_logs = pd.read_csv(path+\"user_behavior_logs.csv\",encoding='utf8',parse_dates=['behavior_time'],\n",
    "                                 dtype={'user_id':np.uint32,'behavior_type':np.uint32}) #1G"
   ]
  },
  {
   "cell_type": "code",
   "execution_count": null,
   "metadata": {
    "colab": {
     "base_uri": "https://localhost:8080/",
     "height": 173
    },
    "colab_type": "code",
    "executionInfo": {
     "elapsed": 1086,
     "status": "error",
     "timestamp": 1562001038893,
     "user": {
      "displayName": "陶士来",
      "photoUrl": "",
      "userId": "08104502188577818611"
     },
     "user_tz": -480
    },
    "id": "EEwM1znTgGej",
    "outputId": "fcb61060-8d9c-4bf8-c0cb-d7fc64ea2cb3"
   },
   "outputs": [],
   "source": [
    "user_behavior_logs.info(memory_usage='deep')"
   ]
  },
  {
   "cell_type": "code",
   "execution_count": null,
   "metadata": {
    "colab": {},
    "colab_type": "code",
    "id": "i7k1YX7nP-um"
   },
   "outputs": [],
   "source": [
    "user_repay_logs = pd.read_csv(path+\"user_repay_logs.csv\",encoding='utf8',\n",
    "                              parse_dates=[ 'due_date', 'repay_date'],\n",
    "                    dtype={'user_id':np.uint32, 'listing_id':np.uint32,'order_id':np.uint32,  \n",
    "                                'due_amt':np.float32,'repay_amt':np.float32}) #900M"
   ]
  },
  {
   "cell_type": "code",
   "execution_count": null,
   "metadata": {
    "colab": {
     "base_uri": "https://localhost:8080/",
     "height": 233
    },
    "colab_type": "code",
    "executionInfo": {
     "elapsed": 801,
     "status": "ok",
     "timestamp": 1561997017940,
     "user": {
      "displayName": "陶士来",
      "photoUrl": "",
      "userId": "08104502188577818611"
     },
     "user_tz": -480
    },
    "id": "y89sdCBYP-7S",
    "outputId": "a7bd7efa-8e41-4741-9c39-8c16facf5125"
   },
   "outputs": [],
   "source": [
    "user_repay_logs.info(memory_usage='deep')"
   ]
  },
  {
   "cell_type": "code",
   "execution_count": null,
   "metadata": {
    "colab": {},
    "colab_type": "code",
    "id": "7Cyaqx1qP_Gn"
   },
   "outputs": [],
   "source": []
  },
  {
   "cell_type": "code",
   "execution_count": null,
   "metadata": {
    "colab": {},
    "colab_type": "code",
    "id": "lSoGn46WP_SU"
   },
   "outputs": [],
   "source": []
  },
  {
   "cell_type": "code",
   "execution_count": null,
   "metadata": {
    "colab": {},
    "colab_type": "code",
    "id": "jJPb-ls_VMfM"
   },
   "outputs": [],
   "source": [
    "\n",
    "# train = pd.read_csv(path+\"train.csv\",encoding='utf8',parse_dates=['auditing_date', 'due_date', 'repay_date'],\n",
    "#                     dtype={'user_id':np.uint32, 'listing_id':np.uint32, \n",
    "#                                 #'due_amt':np.float32,'repay_amt':np.float32\n",
    "#                                }\n",
    "#                    ) #100W\n",
    "# test = pd.read_csv(path+\"test.csv\",encoding='utf8',parse_dates=['auditing_date', 'due_date']) #13W\n",
    "# submission = pd.read_csv(path+\"/submission/submission.csv\",encoding='utf8',\n",
    "#                         dtype={'user_id':np.uint32, 'listing_id':np.uint32,'repay_date':str,'repay_amt':np.float32\n",
    "#                                }) #398W\n",
    "# listing_info = pd.read_csv(path+\"listing_info.csv\",encoding='utf8',\n",
    "#                           dtype={'user_id':np.uint32, 'listing_id':np.uint32,'term':np.uint32,'rate':np.floate32,'principal':np.float32 \n",
    "#                                 #'due_amt':np.float32,'repay_amt':np.float32\n",
    "#                                })\n",
    "# user_info = pd.read_csv(path+\"user_info.csv\",encoding='utf8',dtype={'user_id':np.uint32, 'age':np.uint32,\n",
    "#                                })\n",
    "# user_taglist = pd.read_csv(path+\"user_taglist.csv\",encoding='utf8',dtype={'user_id':np.uint32})\n",
    "# user_behavior_logs = pd.read_csv(path+\"user_behavior_logs.csv\",encoding='utf8') #1G\n",
    "# user_repay_logs = pd.read_csv(path+\"user_repay_logs.csv\",encoding='utf8') #900M\n"
   ]
  },
  {
   "cell_type": "code",
   "execution_count": null,
   "metadata": {
    "colab": {},
    "colab_type": "code",
    "id": "wsG4-XrGZT7k"
   },
   "outputs": [],
   "source": []
  },
  {
   "cell_type": "code",
   "execution_count": null,
   "metadata": {
    "colab": {
     "base_uri": "https://localhost:8080/",
     "height": 35
    },
    "colab_type": "code",
    "executionInfo": {
     "elapsed": 830,
     "status": "ok",
     "timestamp": 1562001153004,
     "user": {
      "displayName": "陶士来",
      "photoUrl": "",
      "userId": "08104502188577818611"
     },
     "user_tz": -480
    },
    "id": "gJ9DjZupaJig",
    "outputId": "8fdad4c5-36ef-49af-cf81-a9817176fb9d"
   },
   "outputs": [],
   "source": [
    "\n",
    "del user_repay_logs['user_id']\n",
    "gc.collect()\n"
   ]
  },
  {
   "cell_type": "code",
   "execution_count": null,
   "metadata": {
    "colab": {},
    "colab_type": "code",
    "id": "F1cOcvlnZUIb"
   },
   "outputs": [],
   "source": [
    "listing_repay=pd.merge(listing_info,user_repay_logs,on=['listing_id'],how='left')"
   ]
  },
  {
   "cell_type": "code",
   "execution_count": null,
   "metadata": {
    "colab": {
     "base_uri": "https://localhost:8080/",
     "height": 35
    },
    "colab_type": "code",
    "executionInfo": {
     "elapsed": 859,
     "status": "ok",
     "timestamp": 1562001167210,
     "user": {
      "displayName": "陶士来",
      "photoUrl": "",
      "userId": "08104502188577818611"
     },
     "user_tz": -480
    },
    "id": "FTk4KcUvSkR_",
    "outputId": "32b363fd-8ebd-43e1-bb99-3a6589a8d4a4"
   },
   "outputs": [],
   "source": [
    "\n",
    "del listing_info\n",
    "del user_repay_logs\n",
    "gc.collect()"
   ]
  },
  {
   "cell_type": "code",
   "execution_count": null,
   "metadata": {
    "colab": {
     "base_uri": "https://localhost:8080/",
     "height": 359
    },
    "colab_type": "code",
    "executionInfo": {
     "elapsed": 2735,
     "status": "ok",
     "timestamp": 1561997272524,
     "user": {
      "displayName": "陶士来",
      "photoUrl": "",
      "userId": "08104502188577818611"
     },
     "user_tz": -480
    },
    "id": "FYJHJm-RZVYG",
    "outputId": "690ece50-0793-420b-a207-c6f9fc1cfe6c"
   },
   "outputs": [],
   "source": [
    "listing_repay.sample(10)"
   ]
  },
  {
   "cell_type": "code",
   "execution_count": null,
   "metadata": {
    "colab": {},
    "colab_type": "code",
    "id": "fnlT2AQQZVT-"
   },
   "outputs": [],
   "source": [
    "sy_listing_id=list(set(listing_repay['listing_id'])-set(train['listing_id']))"
   ]
  },
  {
   "cell_type": "code",
   "execution_count": null,
   "metadata": {
    "colab": {
     "base_uri": "https://localhost:8080/",
     "height": 35
    },
    "colab_type": "code",
    "executionInfo": {
     "elapsed": 895,
     "status": "ok",
     "timestamp": 1561997399196,
     "user": {
      "displayName": "陶士来",
      "photoUrl": "",
      "userId": "08104502188577818611"
     },
     "user_tz": -480
    },
    "id": "VWKd2zYqZVQp",
    "outputId": "7d75024a-1981-43c2-c88b-f11c49412615"
   },
   "outputs": [],
   "source": [
    "sy_listing_id[:10]"
   ]
  },
  {
   "cell_type": "code",
   "execution_count": null,
   "metadata": {
    "colab": {},
    "colab_type": "code",
    "id": "nvPCxkhyZVNv"
   },
   "outputs": [],
   "source": [
    "sy_listing_repay=listing_repay[listing_repay['listing_id'].isin(sy_listing_id)]"
   ]
  },
  {
   "cell_type": "code",
   "execution_count": null,
   "metadata": {
    "colab": {
     "base_uri": "https://localhost:8080/",
     "height": 204
    },
    "colab_type": "code",
    "executionInfo": {
     "elapsed": 1559,
     "status": "ok",
     "timestamp": 1561997445537,
     "user": {
      "displayName": "陶士来",
      "photoUrl": "",
      "userId": "08104502188577818611"
     },
     "user_tz": -480
    },
    "id": "QkT82bqBZVKg",
    "outputId": "dd30b0d6-bf33-49ff-8cc5-99f8be60609a"
   },
   "outputs": [],
   "source": [
    "sy_listing_repay.sample(5)"
   ]
  },
  {
   "cell_type": "code",
   "execution_count": null,
   "metadata": {
    "colab": {
     "base_uri": "https://localhost:8080/",
     "height": 35
    },
    "colab_type": "code",
    "executionInfo": {
     "elapsed": 1023,
     "status": "ok",
     "timestamp": 1562001195275,
     "user": {
      "displayName": "陶士来",
      "photoUrl": "",
      "userId": "08104502188577818611"
     },
     "user_tz": -480
    },
    "id": "M4UuqpYOcb8A",
    "outputId": "8e266311-fcaa-4163-f0a6-dbe8cb6c2dbd"
   },
   "outputs": [],
   "source": [
    "for each in  ['user_id','auditing_date','due_date',\t'due_amt',\t'repay_date',\t'repay_amt']:\n",
    "    del listing_repay[each]\n",
    "gc.collect()"
   ]
  },
  {
   "cell_type": "code",
   "execution_count": null,
   "metadata": {
    "colab": {},
    "colab_type": "code",
    "id": "BjTqWFsrZVH2"
   },
   "outputs": [],
   "source": [
    "train=pd.merge(train,listing_repay,on=['listing_id'],how='left')"
   ]
  },
  {
   "cell_type": "code",
   "execution_count": null,
   "metadata": {
    "colab": {
     "base_uri": "https://localhost:8080/",
     "height": 35
    },
    "colab_type": "code",
    "executionInfo": {
     "elapsed": 894,
     "status": "ok",
     "timestamp": 1562001203677,
     "user": {
      "displayName": "陶士来",
      "photoUrl": "",
      "userId": "08104502188577818611"
     },
     "user_tz": -480
    },
    "id": "ebJSKIsWVMDd",
    "outputId": "aa6749ee-5f79-4219-a5a7-94de372fca4b"
   },
   "outputs": [],
   "source": [
    "del listing_repay\n",
    "gc.collect()"
   ]
  },
  {
   "cell_type": "code",
   "execution_count": null,
   "metadata": {
    "colab": {
     "base_uri": "https://localhost:8080/",
     "height": 359
    },
    "colab_type": "code",
    "executionInfo": {
     "elapsed": 917,
     "status": "ok",
     "timestamp": 1561997953653,
     "user": {
      "displayName": "陶士来",
      "photoUrl": "",
      "userId": "08104502188577818611"
     },
     "user_tz": -480
    },
    "id": "O8Q0b5DjZVFZ",
    "outputId": "1c3408ff-5f60-42a0-8d18-3d4b549d7600"
   },
   "outputs": [],
   "source": [
    "train.sample(10)"
   ]
  },
  {
   "cell_type": "code",
   "execution_count": null,
   "metadata": {
    "colab": {
     "base_uri": "https://localhost:8080/",
     "height": 161
    },
    "colab_type": "code",
    "executionInfo": {
     "elapsed": 1871,
     "status": "ok",
     "timestamp": 1562001214210,
     "user": {
      "displayName": "陶士来",
      "photoUrl": "",
      "userId": "08104502188577818611"
     },
     "user_tz": -480
    },
    "id": "bPcsdvTQZVBO",
    "outputId": "ae948a3a-6c06-4e9e-c0cc-70db24a51d66"
   },
   "outputs": [],
   "source": [
    "train=train.append(sy_listing_repay)"
   ]
  },
  {
   "cell_type": "code",
   "execution_count": null,
   "metadata": {
    "colab": {
     "base_uri": "https://localhost:8080/",
     "height": 173
    },
    "colab_type": "code",
    "executionInfo": {
     "elapsed": 2248,
     "status": "error",
     "timestamp": 1562853777281,
     "user": {
      "displayName": "陶士来",
      "photoUrl": "",
      "userId": "08104502188577818611"
     },
     "user_tz": -480
    },
    "id": "Ir1ps6CsZU-c",
    "outputId": "9a73adde-a397-4b33-e8d3-ffeaec5bc095"
   },
   "outputs": [],
   "source": [
    "train.sample(20)"
   ]
  },
  {
   "cell_type": "code",
   "execution_count": null,
   "metadata": {
    "colab": {},
    "colab_type": "code",
    "id": "fx6M_98yZU7z"
   },
   "outputs": [],
   "source": [
    "train=pd.merge(train,user_info,on=['user_id'],how='left')"
   ]
  },
  {
   "cell_type": "code",
   "execution_count": null,
   "metadata": {
    "colab": {
     "base_uri": "https://localhost:8080/",
     "height": 35
    },
    "colab_type": "code",
    "executionInfo": {
     "elapsed": 739,
     "status": "ok",
     "timestamp": 1562001238768,
     "user": {
      "displayName": "陶士来",
      "photoUrl": "",
      "userId": "08104502188577818611"
     },
     "user_tz": -480
    },
    "id": "LcJCTRw3ZU4J",
    "outputId": "9e2f89b5-d605-4f05-8ba1-45c2f6c09ace"
   },
   "outputs": [],
   "source": [
    "del user_info\n",
    "gc.collect()"
   ]
  },
  {
   "cell_type": "code",
   "execution_count": null,
   "metadata": {
    "colab": {},
    "colab_type": "code",
    "id": "Z-Iub_EqY8Wu"
   },
   "outputs": [],
   "source": [
    "train['order_id']=train['order_id'].astype(np.float32)"
   ]
  },
  {
   "cell_type": "code",
   "execution_count": null,
   "metadata": {
    "colab": {
     "base_uri": "https://localhost:8080/",
     "height": 789
    },
    "colab_type": "code",
    "executionInfo": {
     "elapsed": 1956,
     "status": "ok",
     "timestamp": 1561998784701,
     "user": {
      "displayName": "陶士来",
      "photoUrl": "",
      "userId": "08104502188577818611"
     },
     "user_tz": -480
    },
    "id": "_gFAT2ndZU1q",
    "outputId": "984ebb42-30b5-4142-ac91-824294bc012e"
   },
   "outputs": [],
   "source": [
    "train.sample(15)"
   ]
  },
  {
   "cell_type": "code",
   "execution_count": null,
   "metadata": {
    "colab": {
     "base_uri": "https://localhost:8080/",
     "height": 431
    },
    "colab_type": "code",
    "executionInfo": {
     "elapsed": 897,
     "status": "ok",
     "timestamp": 1561998942408,
     "user": {
      "displayName": "陶士来",
      "photoUrl": "",
      "userId": "08104502188577818611"
     },
     "user_tz": -480
    },
    "id": "sJf3cVTQZUzJ",
    "outputId": "cb0a0891-97f4-4b0d-ab9b-e95677c3f596"
   },
   "outputs": [],
   "source": [
    "train.info(memory_usage='deep')"
   ]
  },
  {
   "cell_type": "code",
   "execution_count": null,
   "metadata": {
    "colab": {},
    "colab_type": "code",
    "id": "oL_8Bf06ZUvp"
   },
   "outputs": [],
   "source": [
    "\n",
    "user_taglist.rename(columns={'insertdate': 'tag_insert_date'}, inplace=True)\n",
    "user_taglist = user_taglist.sort_values(by='tag_insert_date', ascending=False).drop_duplicates('user_id').reset_index(drop=True)\n"
   ]
  },
  {
   "cell_type": "code",
   "execution_count": null,
   "metadata": {
    "colab": {},
    "colab_type": "code",
    "id": "gjHuyC5eZUs3"
   },
   "outputs": [],
   "source": [
    "train=pd.merge(train,user_taglist,on=['user_id'],how='left')"
   ]
  },
  {
   "cell_type": "code",
   "execution_count": null,
   "metadata": {
    "colab": {
     "base_uri": "https://localhost:8080/",
     "height": 35
    },
    "colab_type": "code",
    "executionInfo": {
     "elapsed": 864,
     "status": "ok",
     "timestamp": 1562001266864,
     "user": {
      "displayName": "陶士来",
      "photoUrl": "",
      "userId": "08104502188577818611"
     },
     "user_tz": -480
    },
    "id": "DbjAPDr1ZUqU",
    "outputId": "4f1d4ed7-9ee4-4e8c-c04d-c1d30bff638a"
   },
   "outputs": [],
   "source": [
    "del user_taglist\n",
    "gc.collect()"
   ]
  },
  {
   "cell_type": "code",
   "execution_count": null,
   "metadata": {
    "colab": {},
    "colab_type": "code",
    "id": "hLHPLvjOiCgF"
   },
   "outputs": [],
   "source": [
    "train.to_csv('train_new.csv',index=False)"
   ]
  },
  {
   "cell_type": "code",
   "execution_count": null,
   "metadata": {
    "colab": {
     "base_uri": "https://localhost:8080/",
     "height": 549
    },
    "colab_type": "code",
    "executionInfo": {
     "elapsed": 4454,
     "status": "ok",
     "timestamp": 1561999269831,
     "user": {
      "displayName": "陶士来",
      "photoUrl": "",
      "userId": "08104502188577818611"
     },
     "user_tz": -480
    },
    "id": "6MLFYXoAZUmG",
    "outputId": "948784a1-0a97-4f24-c454-07f6cbffa679"
   },
   "outputs": [],
   "source": [
    "train.sample(10)"
   ]
  },
  {
   "cell_type": "code",
   "execution_count": null,
   "metadata": {
    "colab": {},
    "colab_type": "code",
    "id": "9PpYJUkDZUjg"
   },
   "outputs": [],
   "source": [
    "# user_taglist.rename(columns={'insertdate': 'tag_insert_date'}, inplace=True)\n",
    "# user_taglist = user_taglist.sort_values(by='tag_insert_date', ascending=False).drop_duplicates('user_id').reset_index(drop=True)\n"
   ]
  },
  {
   "cell_type": "code",
   "execution_count": null,
   "metadata": {
    "colab": {
     "base_uri": "https://localhost:8080/",
     "height": 359
    },
    "colab_type": "code",
    "executionInfo": {
     "elapsed": 4861,
     "status": "ok",
     "timestamp": 1561999826388,
     "user": {
      "displayName": "陶士来",
      "photoUrl": "",
      "userId": "08104502188577818611"
     },
     "user_tz": -480
    },
    "id": "PiRLslboZUgl",
    "outputId": "f9e65672-da26-4e69-ae7f-683addc622c3"
   },
   "outputs": [],
   "source": [
    "user_behavior_logs.sample(10)"
   ]
  },
  {
   "cell_type": "code",
   "execution_count": null,
   "metadata": {
    "colab": {},
    "colab_type": "code",
    "id": "w5cprQqpZUca"
   },
   "outputs": [],
   "source": [
    "user_behavior_logs_times=user_behavior_logs.groupby('behavior_time').count()"
   ]
  },
  {
   "cell_type": "code",
   "execution_count": null,
   "metadata": {
    "colab": {},
    "colab_type": "code",
    "id": "HtmxKsKuZUYe"
   },
   "outputs": [],
   "source": [
    "\n",
    "user_behavior_logs_times.reset_index().rename({'user_id':'user_id_times'}).sample(10)\n"
   ]
  },
  {
   "cell_type": "code",
   "execution_count": null,
   "metadata": {
    "colab": {},
    "colab_type": "code",
    "id": "sgTSeoCiZUU9"
   },
   "outputs": [],
   "source": []
  },
  {
   "cell_type": "code",
   "execution_count": null,
   "metadata": {
    "colab": {},
    "colab_type": "code",
    "id": "h7WgIcdkZURA"
   },
   "outputs": [],
   "source": [
    "#################################################################################"
   ]
  },
  {
   "cell_type": "code",
   "execution_count": null,
   "metadata": {
    "colab": {},
    "colab_type": "code",
    "id": "Tau3hANXBur2"
   },
   "outputs": [],
   "source": []
  },
  {
   "cell_type": "code",
   "execution_count": null,
   "metadata": {
    "colab": {
     "base_uri": "https://localhost:8080/",
     "height": 35
    },
    "colab_type": "code",
    "executionInfo": {
     "elapsed": 1179,
     "status": "ok",
     "timestamp": 1561708101867,
     "user": {
      "displayName": "陶士来",
      "photoUrl": "",
      "userId": "08104502188577818611"
     },
     "user_tz": -480
    },
    "id": "L8VuWkGMDJVI",
    "outputId": "5f44cd36-0bec-42e5-83ec-1dfb09e96852"
   },
   "outputs": [],
   "source": [
    "all_data[all_data['repay_amt'].isnull()].shape"
   ]
  },
  {
   "cell_type": "code",
   "execution_count": null,
   "metadata": {
    "colab": {
     "base_uri": "https://localhost:8080/",
     "height": 204
    },
    "colab_type": "code",
    "executionInfo": {
     "elapsed": 1068,
     "status": "ok",
     "timestamp": 1561708139087,
     "user": {
      "displayName": "陶士来",
      "photoUrl": "",
      "userId": "08104502188577818611"
     },
     "user_tz": -480
    },
    "id": "ZKw6jHLXDJTL",
    "outputId": "d9bcf2ca-d9f1-4462-d3e6-979fa96b08fe"
   },
   "outputs": [],
   "source": [
    "all_data.head()"
   ]
  },
  {
   "cell_type": "code",
   "execution_count": null,
   "metadata": {
    "colab": {
     "base_uri": "https://localhost:8080/",
     "height": 35
    },
    "colab_type": "code",
    "executionInfo": {
     "elapsed": 1045,
     "status": "ok",
     "timestamp": 1561712182279,
     "user": {
      "displayName": "陶士来",
      "photoUrl": "",
      "userId": "08104502188577818611"
     },
     "user_tz": -480
    },
    "id": "Vn04GGY-ESE8",
    "outputId": "fffa7ac3-84dc-4ea2-d8bf-24347f925fa3"
   },
   "outputs": [],
   "source": [
    "import gc\n",
    "del listing_info['user_id'], listing_info['auditing_date']\n",
    "gc.collect()"
   ]
  },
  {
   "cell_type": "code",
   "execution_count": null,
   "metadata": {
    "colab": {},
    "colab_type": "code",
    "id": "mnMmzpOJESC6"
   },
   "outputs": [],
   "source": []
  },
  {
   "cell_type": "code",
   "execution_count": null,
   "metadata": {
    "colab": {},
    "colab_type": "code",
    "id": "4IehTlgsD0O4"
   },
   "outputs": [],
   "source": [
    "all_data=pd.merge(all_data,listing_info,on=['listing_id'],how='left')##只将all_data中的listing_id添加了一些维度，对于新增的listing_id并没有添加"
   ]
  },
  {
   "cell_type": "code",
   "execution_count": null,
   "metadata": {
    "colab": {
     "base_uri": "https://localhost:8080/",
     "height": 669
    },
    "colab_type": "code",
    "executionInfo": {
     "elapsed": 2033,
     "status": "ok",
     "timestamp": 1561712243769,
     "user": {
      "displayName": "陶士来",
      "photoUrl": "",
      "userId": "08104502188577818611"
     },
     "user_tz": -480
    },
    "id": "2IdYN6qtD0MI",
    "outputId": "fbc5960d-d5b8-42d8-8ce5-67146b28d92d"
   },
   "outputs": [],
   "source": [
    "all_data.sample(20)"
   ]
  },
  {
   "cell_type": "code",
   "execution_count": null,
   "metadata": {
    "colab": {
     "base_uri": "https://localhost:8080/",
     "height": 35
    },
    "colab_type": "code",
    "executionInfo": {
     "elapsed": 2723,
     "status": "ok",
     "timestamp": 1561712399704,
     "user": {
      "displayName": "陶士来",
      "photoUrl": "",
      "userId": "08104502188577818611"
     },
     "user_tz": -480
    },
    "id": "FNiYNHCsT_Hb",
    "outputId": "a2fcd6ed-0deb-46e2-c602-ea2d7b94002b"
   },
   "outputs": [],
   "source": [
    "all_data.shape"
   ]
  },
  {
   "cell_type": "code",
   "execution_count": null,
   "metadata": {
    "colab": {
     "base_uri": "https://localhost:8080/",
     "height": 204
    },
    "colab_type": "code",
    "executionInfo": {
     "elapsed": 1060,
     "status": "ok",
     "timestamp": 1561712621460,
     "user": {
      "displayName": "陶士来",
      "photoUrl": "",
      "userId": "08104502188577818611"
     },
     "user_tz": -480
    },
    "id": "KzZPZFEoU1CN",
    "outputId": "5dff037a-2908-41cd-b56c-272c733ac9b5"
   },
   "outputs": [],
   "source": [
    "user_info.head()"
   ]
  },
  {
   "cell_type": "code",
   "execution_count": null,
   "metadata": {
    "colab": {},
    "colab_type": "code",
    "id": "rQvg0lnpT_Fa"
   },
   "outputs": [],
   "source": [
    "## 表中有少数user不止一条记录，因此按日期排序，去重，只保留最新的一条记录。\n",
    "user_info = user_info.sort_values(by='insertdate', ascending=False).drop_duplicates('user_id').reset_index(drop=True)"
   ]
  },
  {
   "cell_type": "code",
   "execution_count": null,
   "metadata": {
    "colab": {},
    "colab_type": "code",
    "id": "EKRR_WBQVK47"
   },
   "outputs": [],
   "source": [
    "all_data=pd.merge(all_data,user_info,on=['user_id'],how='left')"
   ]
  },
  {
   "cell_type": "code",
   "execution_count": null,
   "metadata": {
    "colab": {
     "base_uri": "https://localhost:8080/",
     "height": 549
    },
    "colab_type": "code",
    "executionInfo": {
     "elapsed": 1553,
     "status": "ok",
     "timestamp": 1561712782759,
     "user": {
      "displayName": "陶士来",
      "photoUrl": "",
      "userId": "08104502188577818611"
     },
     "user_tz": -480
    },
    "id": "E7GmdlXkVb1Q",
    "outputId": "c6b20588-e0b1-4e58-abc6-391cd78903e5"
   },
   "outputs": [],
   "source": [
    "all_data.sample(10)"
   ]
  },
  {
   "cell_type": "code",
   "execution_count": null,
   "metadata": {
    "colab": {},
    "colab_type": "code",
    "id": "AO5qq3W2WYNT"
   },
   "outputs": [],
   "source": [
    "user_taglist.rename(columns={'insertdate': 'tag_insert_date'}, inplace=True)\n",
    "user_taglist = user_taglist.sort_values(by='tag_insert_date', ascending=False).drop_duplicates('user_id').reset_index(drop=True)\n"
   ]
  },
  {
   "cell_type": "code",
   "execution_count": null,
   "metadata": {
    "colab": {},
    "colab_type": "code",
    "id": "T1FMMrLuWYTZ"
   },
   "outputs": [],
   "source": [
    "all_data=pd.merge(all_data,user_taglist,on=['user_id'],how='left')"
   ]
  },
  {
   "cell_type": "code",
   "execution_count": null,
   "metadata": {
    "colab": {
     "base_uri": "https://localhost:8080/",
     "height": 549
    },
    "colab_type": "code",
    "executionInfo": {
     "elapsed": 2116,
     "status": "ok",
     "timestamp": 1561713099606,
     "user": {
      "displayName": "陶士来",
      "photoUrl": "",
      "userId": "08104502188577818611"
     },
     "user_tz": -480
    },
    "id": "vf5kqQGzWYZb",
    "outputId": "3eb9b681-e4bd-49ab-9a01-66d7c55fd76c"
   },
   "outputs": [],
   "source": [
    "all_data.sample(10)"
   ]
  },
  {
   "cell_type": "code",
   "execution_count": null,
   "metadata": {
    "colab": {},
    "colab_type": "code",
    "id": "XaSNphQyWYfe"
   },
   "outputs": [],
   "source": [
    "all_data=pd.merge(all_data,user_repay_logs[['listing_id','order_id']],on=['listing_id'],how='left')"
   ]
  },
  {
   "cell_type": "code",
   "execution_count": null,
   "metadata": {
    "colab": {
     "base_uri": "https://localhost:8080/",
     "height": 309
    },
    "colab_type": "code",
    "executionInfo": {
     "elapsed": 1108,
     "status": "ok",
     "timestamp": 1561713660020,
     "user": {
      "displayName": "陶士来",
      "photoUrl": "",
      "userId": "08104502188577818611"
     },
     "user_tz": -480
    },
    "id": "pQ0L9MlGWYlX",
    "outputId": "e11bee9b-9aec-42ba-b11f-11206b4b2056"
   },
   "outputs": [],
   "source": [
    "all_data.sample(5)"
   ]
  },
  {
   "cell_type": "code",
   "execution_count": null,
   "metadata": {
    "colab": {},
    "colab_type": "code",
    "id": "Xy24537-WYrC"
   },
   "outputs": [],
   "source": [
    "all_data.to_csv('all_data.csv',index=False)"
   ]
  },
  {
   "cell_type": "code",
   "execution_count": null,
   "metadata": {
    "colab": {},
    "colab_type": "code",
    "id": "H6eXcuwzWYww"
   },
   "outputs": [],
   "source": []
  },
  {
   "cell_type": "code",
   "execution_count": null,
   "metadata": {
    "colab": {},
    "colab_type": "code",
    "id": "9SY0JBZbWY3F"
   },
   "outputs": [],
   "source": []
  },
  {
   "cell_type": "code",
   "execution_count": null,
   "metadata": {
    "colab": {},
    "colab_type": "code",
    "id": "7lGr6lM5WY9E"
   },
   "outputs": [],
   "source": []
  },
  {
   "cell_type": "code",
   "execution_count": null,
   "metadata": {
    "colab": {},
    "colab_type": "code",
    "id": "PnkAHrk1WZDU"
   },
   "outputs": [],
   "source": []
  },
  {
   "cell_type": "code",
   "execution_count": null,
   "metadata": {
    "colab": {},
    "colab_type": "code",
    "id": "XVAiYDRbWZBU"
   },
   "outputs": [],
   "source": []
  },
  {
   "cell_type": "code",
   "execution_count": null,
   "metadata": {
    "colab": {},
    "colab_type": "code",
    "id": "5NdpdILWWY7F"
   },
   "outputs": [],
   "source": []
  },
  {
   "cell_type": "code",
   "execution_count": null,
   "metadata": {
    "colab": {},
    "colab_type": "code",
    "id": "WKsex50sWY1G"
   },
   "outputs": [],
   "source": []
  },
  {
   "cell_type": "code",
   "execution_count": null,
   "metadata": {
    "colab": {},
    "colab_type": "code",
    "id": "ixOs1nrVWYu1"
   },
   "outputs": [],
   "source": []
  },
  {
   "cell_type": "code",
   "execution_count": null,
   "metadata": {
    "colab": {},
    "colab_type": "code",
    "id": "BafqDYkTWYpG"
   },
   "outputs": [],
   "source": []
  },
  {
   "cell_type": "code",
   "execution_count": null,
   "metadata": {
    "colab": {},
    "colab_type": "code",
    "id": "prYhiRM9WYje"
   },
   "outputs": [],
   "source": []
  },
  {
   "cell_type": "code",
   "execution_count": null,
   "metadata": {
    "colab": {},
    "colab_type": "code",
    "id": "dBijA1ZVWYdl"
   },
   "outputs": [],
   "source": []
  },
  {
   "cell_type": "code",
   "execution_count": null,
   "metadata": {
    "colab": {},
    "colab_type": "code",
    "id": "HnK1p8BuWYXl"
   },
   "outputs": [],
   "source": []
  },
  {
   "cell_type": "code",
   "execution_count": null,
   "metadata": {
    "colab": {},
    "colab_type": "code",
    "id": "opoOS5J-WYRX"
   },
   "outputs": [],
   "source": []
  },
  {
   "cell_type": "code",
   "execution_count": null,
   "metadata": {
    "colab": {},
    "colab_type": "code",
    "id": "pTzHCt0VWYLU"
   },
   "outputs": [],
   "source": []
  },
  {
   "cell_type": "code",
   "execution_count": null,
   "metadata": {
    "colab": {
     "base_uri": "https://localhost:8080/",
     "height": 204
    },
    "colab_type": "code",
    "executionInfo": {
     "elapsed": 1242,
     "status": "ok",
     "timestamp": 1561696530846,
     "user": {
      "displayName": "陶士来",
      "photoUrl": "",
      "userId": "08104502188577818611"
     },
     "user_tz": -480
    },
    "id": "XCPmpL12HDF-",
    "outputId": "cce23afc-bf80-43e6-db39-159404fb8c4f"
   },
   "outputs": [],
   "source": [
    "train.loc[(train['auditing_date']>=pd.to_datetime('2018-01-05'))&(train['auditing_date']<=pd.to_datetime('2018-08-05'))].head()"
   ]
  },
  {
   "cell_type": "code",
   "execution_count": null,
   "metadata": {
    "colab": {},
    "colab_type": "code",
    "id": "qqnicVSNHDDy"
   },
   "outputs": [],
   "source": []
  },
  {
   "cell_type": "code",
   "execution_count": null,
   "metadata": {
    "colab": {
     "base_uri": "https://localhost:8080/",
     "height": 179
    },
    "colab_type": "code",
    "executionInfo": {
     "elapsed": 1233,
     "status": "ok",
     "timestamp": 1561683667249,
     "user": {
      "displayName": "陶士来",
      "photoUrl": "",
      "userId": "08104502188577818611"
     },
     "user_tz": -480
    },
    "id": "sdK28IPpmR9L",
    "outputId": "a2ee65df-7345-42f1-bddb-5dc5c36c7d3c"
   },
   "outputs": [],
   "source": [
    "print(train.describe())"
   ]
  },
  {
   "cell_type": "code",
   "execution_count": null,
   "metadata": {
    "colab": {
     "base_uri": "https://localhost:8080/",
     "height": 35
    },
    "colab_type": "code",
    "executionInfo": {
     "elapsed": 897,
     "status": "ok",
     "timestamp": 1561640731173,
     "user": {
      "displayName": "陶士来",
      "photoUrl": "",
      "userId": "08104502188577818611"
     },
     "user_tz": -480
    },
    "id": "MgY7QBdrClDH",
    "outputId": "8a9bb473-2fa6-44fa-ee0a-850feff8f8d1"
   },
   "outputs": [],
   "source": [
    "print(listing_info.shape)"
   ]
  },
  {
   "cell_type": "code",
   "execution_count": null,
   "metadata": {
    "colab": {
     "base_uri": "https://localhost:8080/",
     "height": 35
    },
    "colab_type": "code",
    "executionInfo": {
     "elapsed": 1264,
     "status": "ok",
     "timestamp": 1561641823713,
     "user": {
      "displayName": "陶士来",
      "photoUrl": "",
      "userId": "08104502188577818611"
     },
     "user_tz": -480
    },
    "id": "zqw3Z3AlGqkk",
    "outputId": "d6bc2fa6-c707-4fc2-e476-daff54cfea86"
   },
   "outputs": [],
   "source": [
    "print(listing_info['listing_id'].nunique())"
   ]
  },
  {
   "cell_type": "code",
   "execution_count": null,
   "metadata": {
    "colab": {
     "base_uri": "https://localhost:8080/",
     "height": 35
    },
    "colab_type": "code",
    "executionInfo": {
     "elapsed": 2884,
     "status": "ok",
     "timestamp": 1561684835276,
     "user": {
      "displayName": "陶士来",
      "photoUrl": "",
      "userId": "08104502188577818611"
     },
     "user_tz": -480
    },
    "id": "crCO7OGoqBeu",
    "outputId": "242a1462-3707-4e61-baf3-e5dfc6b1f4ab"
   },
   "outputs": [],
   "source": [
    "# print(listing_info['user_id'].nunique())\n",
    "# print((train['user_id'].append(test['user_id']).nunique())\n",
    "\n",
    "set(listing_info['user_id'])-set(train['user_id'])-set(test['user_id'])"
   ]
  },
  {
   "cell_type": "code",
   "execution_count": null,
   "metadata": {
    "colab": {
     "base_uri": "https://localhost:8080/",
     "height": 80
    },
    "colab_type": "code",
    "executionInfo": {
     "elapsed": 1064,
     "status": "ok",
     "timestamp": 1561684991521,
     "user": {
      "displayName": "陶士来",
      "photoUrl": "",
      "userId": "08104502188577818611"
     },
     "user_tz": -480
    },
    "id": "AYvTn6hUrUae",
    "outputId": "73aff6fb-0134-4f4a-e1c1-d5934081fb26"
   },
   "outputs": [],
   "source": [
    "train[train['user_id']==65747]\t##train中的标的只是用户的部分标的情况，还有一些标的没有给出因为是抽样的把，但是listing_info中的标的有更多，包括不在train中的"
   ]
  },
  {
   "cell_type": "code",
   "execution_count": null,
   "metadata": {
    "colab": {
     "base_uri": "https://localhost:8080/",
     "height": 35
    },
    "colab_type": "code",
    "executionInfo": {
     "elapsed": 3499,
     "status": "ok",
     "timestamp": 1561685204589,
     "user": {
      "displayName": "陶士来",
      "photoUrl": "",
      "userId": "08104502188577818611"
     },
     "user_tz": -480
    },
    "id": "euI7h-_UlqQr",
    "outputId": "b038fa86-06f3-4f03-a276-eada2c6e773b"
   },
   "outputs": [],
   "source": [
    "len(set(listing_info['listing_id'])-set(train['listing_id'])-set(test['listing_id']))\n",
    "##4354891这么多的标的既不在train中也不在test中，但是若统计一段时间内用户的借款次数要把这些加上；预测的用户部分标的的还款时间\n",
    "##也就是统计用户信息，以user_id为键，（或者user_id listing_id）"
   ]
  },
  {
   "cell_type": "code",
   "execution_count": null,
   "metadata": {
    "colab": {
     "base_uri": "https://localhost:8080/",
     "height": 173
    },
    "colab_type": "code",
    "executionInfo": {
     "elapsed": 1076,
     "status": "ok",
     "timestamp": 1561684084303,
     "user": {
      "displayName": "陶士来",
      "photoUrl": "",
      "userId": "08104502188577818611"
     },
     "user_tz": -480
    },
    "id": "Mnokb1Xtn2-v",
    "outputId": "1ba9e8af-23c4-479b-dadd-bc374f5294e8"
   },
   "outputs": [],
   "source": [
    "user_repay_logs[user_repay_logs['listing_id'].isin([1,2,3,4])]"
   ]
  },
  {
   "cell_type": "code",
   "execution_count": null,
   "metadata": {
    "colab": {
     "base_uri": "https://localhost:8080/",
     "height": 235
    },
    "colab_type": "code",
    "executionInfo": {
     "elapsed": 1097,
     "status": "ok",
     "timestamp": 1561684458254,
     "user": {
      "displayName": "陶士来",
      "photoUrl": "",
      "userId": "08104502188577818611"
     },
     "user_tz": -480
    },
    "id": "_-bpdNkZn29C",
    "outputId": "5e849ac5-6a98-437f-ebcf-c69352209a1d"
   },
   "outputs": [],
   "source": [
    "user_repay_logs[user_repay_logs['listing_id'].isin([5138741,3661187])]"
   ]
  },
  {
   "cell_type": "code",
   "execution_count": null,
   "metadata": {
    "colab": {},
    "colab_type": "code",
    "id": "lRwkgYSGn27Y"
   },
   "outputs": [],
   "source": []
  },
  {
   "cell_type": "markdown",
   "metadata": {
    "colab_type": "text",
    "id": "GqiecqGnn17V"
   },
   "source": []
  },
  {
   "cell_type": "code",
   "execution_count": null,
   "metadata": {
    "colab": {
     "base_uri": "https://localhost:8080/",
     "height": 251
    },
    "colab_type": "code",
    "executionInfo": {
     "elapsed": 2666,
     "status": "ok",
     "timestamp": 1561635352495,
     "user": {
      "displayName": "陶士来",
      "photoUrl": "",
      "userId": "08104502188577818611"
     },
     "user_tz": -480
    },
    "id": "Mo9kFuQYOQ7O",
    "outputId": "1241db59-0ea8-44e2-d84e-8019b6ac92a1"
   },
   "outputs": [],
   "source": [
    "print(train.info(memory_usage='deep'))"
   ]
  },
  {
   "cell_type": "code",
   "execution_count": null,
   "metadata": {
    "colab": {
     "base_uri": "https://localhost:8080/",
     "height": 173
    },
    "colab_type": "code",
    "executionInfo": {
     "elapsed": 1208,
     "status": "error",
     "timestamp": 1561679041460,
     "user": {
      "displayName": "陶士来",
      "photoUrl": "",
      "userId": "08104502188577818611"
     },
     "user_tz": -480
    },
    "id": "Did3skghqxYz",
    "outputId": "53464a7c-2c44-4de4-ede8-c30b3e433462"
   },
   "outputs": [],
   "source": [
    "print((train['due_date']-train['auditing_date']).dt.days.head())"
   ]
  },
  {
   "cell_type": "code",
   "execution_count": null,
   "metadata": {
    "colab": {
     "base_uri": "https://localhost:8080/",
     "height": 35
    },
    "colab_type": "code",
    "executionInfo": {
     "elapsed": 1096,
     "status": "ok",
     "timestamp": 1561635559299,
     "user": {
      "displayName": "陶士来",
      "photoUrl": "",
      "userId": "08104502188577818611"
     },
     "user_tz": -480
    },
    "id": "bVU4JtHHulYu",
    "outputId": "6a26992f-ba9f-4371-abb0-8fc28e038f41"
   },
   "outputs": [],
   "source": [
    "train['user_id'].nunique()/train['user_id'].shape[0]"
   ]
  },
  {
   "cell_type": "code",
   "execution_count": null,
   "metadata": {
    "colab": {
     "base_uri": "https://localhost:8080/",
     "height": 53
    },
    "colab_type": "code",
    "executionInfo": {
     "elapsed": 1103,
     "status": "ok",
     "timestamp": 1561290155795,
     "user": {
      "displayName": "陶士来",
      "photoUrl": "",
      "userId": "08104502188577818611"
     },
     "user_tz": -480
    },
    "id": "LHUlPly92RYg",
    "outputId": "b876f822-6d9d-4e3d-c8fa-0aa1d3cd793f"
   },
   "outputs": [],
   "source": [
    "print(train.shape)\n",
    "print(test.shape)"
   ]
  },
  {
   "cell_type": "code",
   "execution_count": null,
   "metadata": {
    "colab": {
     "base_uri": "https://localhost:8080/",
     "height": 35
    },
    "colab_type": "code",
    "executionInfo": {
     "elapsed": 1065,
     "status": "ok",
     "timestamp": 1560655279538,
     "user": {
      "displayName": "陶士来",
      "photoUrl": "",
      "userId": "08104502188577818611"
     },
     "user_tz": -480
    },
    "id": "Kh_vzR7VGDOX",
    "outputId": "84a1b6c6-975f-4fd8-ebc0-cd0fa57ed90f"
   },
   "outputs": [],
   "source": [
    "print(train['user_id'].nunique())"
   ]
  },
  {
   "cell_type": "code",
   "execution_count": null,
   "metadata": {
    "colab": {
     "base_uri": "https://localhost:8080/",
     "height": 35
    },
    "colab_type": "code",
    "executionInfo": {
     "elapsed": 1140,
     "status": "ok",
     "timestamp": 1561290648129,
     "user": {
      "displayName": "陶士来",
      "photoUrl": "",
      "userId": "08104502188577818611"
     },
     "user_tz": -480
    },
    "id": "czFaFzA7LHRI",
    "outputId": "f739a20d-ad28-4153-b2fe-11786e203597"
   },
   "outputs": [],
   "source": [
    "print(train['listing_id'].nunique())##说明不同的用户，有相同的标的，"
   ]
  },
  {
   "cell_type": "code",
   "execution_count": null,
   "metadata": {
    "colab": {
     "base_uri": "https://localhost:8080/",
     "height": 35
    },
    "colab_type": "code",
    "executionInfo": {
     "elapsed": 675,
     "status": "ok",
     "timestamp": 1561259566614,
     "user": {
      "displayName": "陶士来",
      "photoUrl": "",
      "userId": "08104502188577818611"
     },
     "user_tz": -480
    },
    "id": "d2uALzvHLhuU",
    "outputId": "1073b3ce-9f49-4ab2-c736-888d415ad597"
   },
   "outputs": [],
   "source": [
    "print(test['user_id'].nunique())\n"
   ]
  },
  {
   "cell_type": "code",
   "execution_count": null,
   "metadata": {
    "colab": {},
    "colab_type": "code",
    "id": "AYnCRTDxeI-C"
   },
   "outputs": [],
   "source": [
    "sort_test=test.sort_values(by='user_id')"
   ]
  },
  {
   "cell_type": "code",
   "execution_count": null,
   "metadata": {
    "colab": {
     "base_uri": "https://localhost:8080/",
     "height": 215
    },
    "colab_type": "code",
    "executionInfo": {
     "elapsed": 661,
     "status": "ok",
     "timestamp": 1561262281147,
     "user": {
      "displayName": "陶士来",
      "photoUrl": "",
      "userId": "08104502188577818611"
     },
     "user_tz": -480
    },
    "id": "rY04Y7QreQyK",
    "outputId": "d7f6c752-5397-44c4-ed23-5a07ac3c8c80"
   },
   "outputs": [],
   "source": [
    "print(sort_test.head(10))"
   ]
  },
  {
   "cell_type": "code",
   "execution_count": null,
   "metadata": {
    "colab": {
     "base_uri": "https://localhost:8080/",
     "height": 35
    },
    "colab_type": "code",
    "executionInfo": {
     "elapsed": 867,
     "status": "ok",
     "timestamp": 1561262308608,
     "user": {
      "displayName": "陶士来",
      "photoUrl": "",
      "userId": "08104502188577818611"
     },
     "user_tz": -480
    },
    "id": "Bb4rINGZfBei",
    "outputId": "0fdeb508-9373-4fcf-ea55-638bf110fa76"
   },
   "outputs": [],
   "source": [
    "print(sort_test.shape)"
   ]
  },
  {
   "cell_type": "code",
   "execution_count": null,
   "metadata": {
    "colab": {
     "base_uri": "https://localhost:8080/",
     "height": 35
    },
    "colab_type": "code",
    "executionInfo": {
     "elapsed": 852,
     "status": "ok",
     "timestamp": 1561262348475,
     "user": {
      "displayName": "陶士来",
      "photoUrl": "",
      "userId": "08104502188577818611"
     },
     "user_tz": -480
    },
    "id": "yT3sVxiyfE5S",
    "outputId": "96886482-547c-47fa-ba86-a4abe8a00ccd"
   },
   "outputs": [],
   "source": [
    "print(sort_test['user_id'].nunique())"
   ]
  },
  {
   "cell_type": "code",
   "execution_count": null,
   "metadata": {
    "colab": {},
    "colab_type": "code",
    "id": "_juEAWplGwV9"
   },
   "outputs": [],
   "source": [
    "sort_info=listing_info.sort_values(by='listing_id')"
   ]
  },
  {
   "cell_type": "code",
   "execution_count": null,
   "metadata": {
    "colab": {
     "base_uri": "https://localhost:8080/",
     "height": 125
    },
    "colab_type": "code",
    "executionInfo": {
     "elapsed": 752,
     "status": "ok",
     "timestamp": 1561260126906,
     "user": {
      "displayName": "陶士来",
      "photoUrl": "",
      "userId": "08104502188577818611"
     },
     "user_tz": -480
    },
    "id": "ei4ItW2ctKgO",
    "outputId": "ec6188f5-60f3-4507-a4fb-564b027912de"
   },
   "outputs": [],
   "source": [
    "print(sort_info.head())"
   ]
  },
  {
   "cell_type": "code",
   "execution_count": null,
   "metadata": {
    "colab": {},
    "colab_type": "code",
    "id": "yVnaKitOZzX8"
   },
   "outputs": [],
   "source": [
    "sort_info_user=listing_info.sort_values(by='user_id')"
   ]
  },
  {
   "cell_type": "code",
   "execution_count": null,
   "metadata": {
    "colab": {
     "base_uri": "https://localhost:8080/",
     "height": 215
    },
    "colab_type": "code",
    "executionInfo": {
     "elapsed": 820,
     "status": "ok",
     "timestamp": 1561261031912,
     "user": {
      "displayName": "陶士来",
      "photoUrl": "",
      "userId": "08104502188577818611"
     },
     "user_tz": -480
    },
    "id": "nCbJ8l7YZ78H",
    "outputId": "cd2904e0-aa9a-4fe7-d3a5-89f4d4d289f6"
   },
   "outputs": [],
   "source": [
    "print(sort_info_user.head(10))#同一个用户在不同时间有不同的成交标的"
   ]
  },
  {
   "cell_type": "code",
   "execution_count": null,
   "metadata": {
    "colab": {},
    "colab_type": "code",
    "id": "iawCB9L3WyKX"
   },
   "outputs": [],
   "source": [
    "sort_train=train.sort_values(by='user_id')\n",
    "#同一个人在不同时间有不同的成交标的##用户的成交次数作为特征\n",
    "#借款用户可能有多个标的记录，但在测试集时间范围内每位用户只有一条记录。"
   ]
  },
  {
   "cell_type": "markdown",
   "metadata": {
    "colab_type": "text",
    "id": "aeBIRhoDGt59"
   },
   "source": []
  },
  {
   "cell_type": "code",
   "execution_count": null,
   "metadata": {
    "colab": {
     "base_uri": "https://localhost:8080/",
     "height": 791
    },
    "colab_type": "code",
    "executionInfo": {
     "elapsed": 673,
     "status": "ok",
     "timestamp": 1561260862040,
     "user": {
      "displayName": "陶士来",
      "photoUrl": "",
      "userId": "08104502188577818611"
     },
     "user_tz": -480
    },
    "id": "MLWJMxN4YDda",
    "outputId": "ac61ce3c-6781-44d9-cb16-6c8592b72c64"
   },
   "outputs": [],
   "source": [
    "print(sort_train.head(20))"
   ]
  },
  {
   "cell_type": "code",
   "execution_count": null,
   "metadata": {
    "colab": {},
    "colab_type": "code",
    "id": "mjgqqYquJf5f"
   },
   "outputs": [],
   "source": [
    "sort_train_by_listid=train.sort_values(by='listing_id')"
   ]
  },
  {
   "cell_type": "code",
   "execution_count": null,
   "metadata": {
    "colab": {
     "base_uri": "https://localhost:8080/",
     "height": 791
    },
    "colab_type": "code",
    "executionInfo": {
     "elapsed": 1165,
     "status": "ok",
     "timestamp": 1561290264837,
     "user": {
      "displayName": "陶士来",
      "photoUrl": "",
      "userId": "08104502188577818611"
     },
     "user_tz": -480
    },
    "id": "SVdnCL3PJp6P",
    "outputId": "8a42c9f7-40f8-493a-8673-b497b8ee84cb"
   },
   "outputs": [],
   "source": [
    "print(sort_train_by_listid.head(20))"
   ]
  },
  {
   "cell_type": "code",
   "execution_count": null,
   "metadata": {
    "colab": {},
    "colab_type": "code",
    "id": "eqiuPD92YHFo"
   },
   "outputs": [],
   "source": [
    "sort_user_info=user_info.sort_values(by='user_id')"
   ]
  },
  {
   "cell_type": "code",
   "execution_count": null,
   "metadata": {
    "colab": {
     "base_uri": "https://localhost:8080/",
     "height": 431
    },
    "colab_type": "code",
    "executionInfo": {
     "elapsed": 623,
     "status": "ok",
     "timestamp": 1561261123605,
     "user": {
      "displayName": "陶士来",
      "photoUrl": "",
      "userId": "08104502188577818611"
     },
     "user_tz": -480
    },
    "id": "QXsN3C0oaeAT",
    "outputId": "924d834e-af32-405c-b099-7f650341cef6"
   },
   "outputs": [],
   "source": [
    "print(sort_user_info.head(10))#用户信息可能发生变更，表中同一用户可能存在多条数据  ##记录变更次数作为特征"
   ]
  },
  {
   "cell_type": "code",
   "execution_count": null,
   "metadata": {
    "colab": {},
    "colab_type": "code",
    "id": "wAwTtyk4aiVs"
   },
   "outputs": [],
   "source": [
    "sort_user_taglist=user_taglist.sort_values(by='user_id')"
   ]
  },
  {
   "cell_type": "code",
   "execution_count": null,
   "metadata": {
    "colab": {
     "base_uri": "https://localhost:8080/",
     "height": 395
    },
    "colab_type": "code",
    "executionInfo": {
     "elapsed": 835,
     "status": "ok",
     "timestamp": 1561261343202,
     "user": {
      "displayName": "陶士来",
      "photoUrl": "",
      "userId": "08104502188577818611"
     },
     "user_tz": -480
    },
    "id": "sBMTW9AcbRYs",
    "outputId": "42092133-b201-4903-ad48-8193c0fdc217"
   },
   "outputs": [],
   "source": [
    "print(sort_user_taglist.head(20))#用户标签可能发生变更，表中同一用户可能存在多条数据；若在表中无法查到用户标签信息，则表示该用户标签信息未知。"
   ]
  },
  {
   "cell_type": "code",
   "execution_count": null,
   "metadata": {
    "colab": {},
    "colab_type": "code",
    "id": "rDTbkyrcbVKo"
   },
   "outputs": [],
   "source": [
    "sort_user_behavior_logs=user_behavior_logs.sort_values(by='user_id')"
   ]
  },
  {
   "cell_type": "code",
   "execution_count": null,
   "metadata": {
    "colab": {
     "base_uri": "https://localhost:8080/",
     "height": 35
    },
    "colab_type": "code",
    "executionInfo": {
     "elapsed": 669,
     "status": "ok",
     "timestamp": 1561261673947,
     "user": {
      "displayName": "陶士来",
      "photoUrl": "",
      "userId": "08104502188577818611"
     },
     "user_tz": -480
    },
    "id": "elaV6-cRcllY",
    "outputId": "252b6bef-428a-4e38-aaef-eefb05fe49a5"
   },
   "outputs": [],
   "source": [
    "print(sort_user_behavior_logs.shape)"
   ]
  },
  {
   "cell_type": "code",
   "execution_count": null,
   "metadata": {
    "colab": {
     "base_uri": "https://localhost:8080/",
     "height": 35
    },
    "colab_type": "code",
    "executionInfo": {
     "elapsed": 883,
     "status": "ok",
     "timestamp": 1561261911411,
     "user": {
      "displayName": "陶士来",
      "photoUrl": "",
      "userId": "08104502188577818611"
     },
     "user_tz": -480
    },
    "id": "s7iJgoOVdSvV",
    "outputId": "48ce6dc8-ae09-4e94-ea03-46cb089b6757"
   },
   "outputs": [],
   "source": [
    "print(sort_user_behavior_logs['user_id'].nunique())"
   ]
  },
  {
   "cell_type": "code",
   "execution_count": null,
   "metadata": {
    "colab": {},
    "colab_type": "code",
    "id": "iiDdUtSPcqRp"
   },
   "outputs": [],
   "source": []
  },
  {
   "cell_type": "code",
   "execution_count": null,
   "metadata": {
    "colab": {
     "base_uri": "https://localhost:8080/",
     "height": 395
    },
    "colab_type": "code",
    "executionInfo": {
     "elapsed": 1054,
     "status": "ok",
     "timestamp": 1561290516099,
     "user": {
      "displayName": "陶士来",
      "photoUrl": "",
      "userId": "08104502188577818611"
     },
     "user_tz": -480
    },
    "id": "N5PPIA1Kb6iN",
    "outputId": "64f9f8bc-8a78-402d-80be-a966bcd85f6a"
   },
   "outputs": [],
   "source": [
    "print(sort_user_behavior_logs.head(20))#相同用户的相同行为在同一秒内可能出现多条数据。###这样的数据要去重"
   ]
  },
  {
   "cell_type": "code",
   "execution_count": null,
   "metadata": {
    "colab": {},
    "colab_type": "code",
    "id": "mtJXsgdtcEW5"
   },
   "outputs": [],
   "source": []
  },
  {
   "cell_type": "code",
   "execution_count": null,
   "metadata": {
    "colab": {},
    "colab_type": "code",
    "id": "g7gB5zdPZCMg"
   },
   "outputs": [],
   "source": [
    "train_df = pd.read_csv(path+'train.csv', parse_dates=['auditing_date', 'due_date', 'repay_date'])\n",
    "\n"
   ]
  },
  {
   "cell_type": "code",
   "execution_count": null,
   "metadata": {
    "colab": {},
    "colab_type": "code",
    "id": "g4hsK5CTZtnw"
   },
   "outputs": [],
   "source": [
    "train_df['repay_date'] = train_df[['due_date', 'repay_date']].apply(\n",
    "    lambda x: x['repay_date'] if x['repay_date'] != '\\\\N' else x['due_date'], axis=1\n",
    ")"
   ]
  },
  {
   "cell_type": "code",
   "execution_count": null,
   "metadata": {
    "colab": {},
    "colab_type": "code",
    "id": "FSeorI0TZ_-L"
   },
   "outputs": [],
   "source": [
    "train_df['repay_amt'] = train_df['repay_amt'].apply(lambda x: x if x != '\\\\N' else 0).astype('float32')\n",
    "train_df['label'] = (train_df['repay_date'] - train_df['auditing_date']).dt.days\n"
   ]
  },
  {
   "cell_type": "code",
   "execution_count": null,
   "metadata": {
    "colab": {
     "base_uri": "https://localhost:8080/",
     "height": 251
    },
    "colab_type": "code",
    "executionInfo": {
     "elapsed": 1138,
     "status": "ok",
     "timestamp": 1561294757827,
     "user": {
      "displayName": "陶士来",
      "photoUrl": "",
      "userId": "08104502188577818611"
     },
     "user_tz": -480
    },
    "id": "mpdOUznAaSie",
    "outputId": "abcaaa68-58a1-497d-90ff-5243da6ccb10"
   },
   "outputs": [],
   "source": [
    "print(train_df[train_df['repay_amt']==0].head())#此时就是刚才定义的，未还款时将应还款时间赋值成实际还款时间了"
   ]
  },
  {
   "cell_type": "code",
   "execution_count": null,
   "metadata": {
    "colab": {},
    "colab_type": "code",
    "id": "sXIu4hcDaVbH"
   },
   "outputs": [],
   "source": [
    "train_df.loc[train_df['repay_amt'] == 0, 'label'] = 32"
   ]
  },
  {
   "cell_type": "code",
   "execution_count": null,
   "metadata": {
    "colab": {
     "base_uri": "https://localhost:8080/",
     "height": 251
    },
    "colab_type": "code",
    "executionInfo": {
     "elapsed": 1079,
     "status": "ok",
     "timestamp": 1561294831518,
     "user": {
      "displayName": "陶士来",
      "photoUrl": "",
      "userId": "08104502188577818611"
     },
     "user_tz": -480
    },
    "id": "nY-f5wtha4z4",
    "outputId": "78549e12-3dea-4345-dfc5-28feb37a59bd"
   },
   "outputs": [],
   "source": [
    "print(train_df[train_df['label']==32].head())"
   ]
  },
  {
   "cell_type": "code",
   "execution_count": null,
   "metadata": {
    "colab": {},
    "colab_type": "code",
    "id": "W9rPjmSkbHsn"
   },
   "outputs": [],
   "source": [
    "import gc\n",
    "clf_labels = train_df['label'].values\n",
    "amt_labels = train_df['repay_amt'].values\n",
    "del train_df['label'], train_df['repay_amt'], train_df['repay_date']\n",
    "gc.collect()\n",
    "train_due_amt_df = train_df[['due_amt']]\n",
    "train_num = train_df.shape[0]"
   ]
  },
  {
   "cell_type": "code",
   "execution_count": null,
   "metadata": {
    "colab": {},
    "colab_type": "code",
    "id": "41CarlzQiE55"
   },
   "outputs": [],
   "source": [
    "test_df = pd.read_csv(path+'test.csv', parse_dates=['auditing_date', 'due_date'])\n",
    "sub = test_df[['listing_id', 'auditing_date', 'due_amt']]\n",
    "df = pd.concat([train_df, test_df], axis=0, ignore_index=True)\n"
   ]
  },
  {
   "cell_type": "code",
   "execution_count": null,
   "metadata": {
    "colab": {
     "base_uri": "https://localhost:8080/",
     "height": 359
    },
    "colab_type": "code",
    "executionInfo": {
     "elapsed": 1131,
     "status": "ok",
     "timestamp": 1561296931682,
     "user": {
      "displayName": "陶士来",
      "photoUrl": "",
      "userId": "08104502188577818611"
     },
     "user_tz": -480
    },
    "id": "ho7I993-icSY",
    "outputId": "b8d13900-d687-44bb-b84a-71e1e5974d5b"
   },
   "outputs": [],
   "source": [
    "df.sample(10)"
   ]
  },
  {
   "cell_type": "code",
   "execution_count": null,
   "metadata": {
    "colab": {
     "base_uri": "https://localhost:8080/",
     "height": 89
    },
    "colab_type": "code",
    "executionInfo": {
     "elapsed": 3793,
     "status": "ok",
     "timestamp": 1561533766319,
     "user": {
      "displayName": "陶士来",
      "photoUrl": "",
      "userId": "08104502188577818611"
     },
     "user_tz": -480
    },
    "id": "wq80PQpwqiTN",
    "outputId": "c4f7b059-556d-4df7-b1a4-8fe9a2cfa047"
   },
   "outputs": [],
   "source": [
    "\n"
   ]
  },
  {
   "cell_type": "code",
   "execution_count": null,
   "metadata": {
    "colab": {},
    "colab_type": "code",
    "id": "XtBKXKPgjDiO"
   },
   "outputs": [],
   "source": [
    "from lightgbm.sklearn import LGBMClassifier\n"
   ]
  },
  {
   "cell_type": "code",
   "execution_count": null,
   "metadata": {
    "colab": {},
    "colab_type": "code",
    "id": "_7Yt7zHVvDlP"
   },
   "outputs": [],
   "source": [
    "clf = LGBMClassifier(\n",
    "    learning_rate=0.05,\n",
    "    n_estimators=10000,\n",
    "    subsample=0.8,\n",
    "    subsample_freq=1,\n",
    "    colsample_bytree=0.8,\n",
    "    random_state=2019,\n",
    "     device='gpu',\n",
    ")"
   ]
  },
  {
   "cell_type": "code",
   "execution_count": null,
   "metadata": {
    "colab": {},
    "colab_type": "code",
    "id": "QN8Uue-evuZw"
   },
   "outputs": [],
   "source": [
    "trn_x=[[1,2,3],[2,3,4]]\n",
    "trn_y=[0,1]"
   ]
  },
  {
   "cell_type": "code",
   "execution_count": null,
   "metadata": {
    "colab": {
     "base_uri": "https://localhost:8080/",
     "height": 395
    },
    "colab_type": "code",
    "executionInfo": {
     "elapsed": 952,
     "status": "error",
     "timestamp": 1561533716185,
     "user": {
      "displayName": "陶士来",
      "photoUrl": "",
      "userId": "08104502188577818611"
     },
     "user_tz": -480
    },
    "id": "NwyOPtsnvIRA",
    "outputId": "da95a247-b488-4b33-e346-1ed7a11a23e8"
   },
   "outputs": [],
   "source": [
    "clf.fit(\n",
    "        trn_x, trn_y, \n",
    "        eval_set=[(trn_x, trn_y), (trn_x, trn_y)],\n",
    "        early_stopping_rounds=100, verbose=5\n",
    "    )"
   ]
  },
  {
   "cell_type": "code",
   "execution_count": null,
   "metadata": {
    "colab": {
     "base_uri": "https://localhost:8080/",
     "height": 251
    },
    "colab_type": "code",
    "executionInfo": {
     "elapsed": 1026,
     "status": "ok",
     "timestamp": 1561533832005,
     "user": {
      "displayName": "陶士来",
      "photoUrl": "",
      "userId": "08104502188577818611"
     },
     "user_tz": -480
    },
    "id": "cVijnNGmvRM2",
    "outputId": "f440c3d7-ed40-40e6-929b-ba986774769b"
   },
   "outputs": [],
   "source": [
    "####eda\n",
    "print(train.head())\n"
   ]
  },
  {
   "cell_type": "code",
   "execution_count": null,
   "metadata": {
    "colab": {
     "base_uri": "https://localhost:8080/",
     "height": 251
    },
    "colab_type": "code",
    "executionInfo": {
     "elapsed": 2325,
     "status": "ok",
     "timestamp": 1561534144396,
     "user": {
      "displayName": "陶士来",
      "photoUrl": "",
      "userId": "08104502188577818611"
     },
     "user_tz": -480
    },
    "id": "E__yxnZCq1cD",
    "outputId": "642e6425-5153-475f-c277-ecf569f595ef"
   },
   "outputs": [],
   "source": [
    "print(train.info(memory_usage='deep'))"
   ]
  },
  {
   "cell_type": "code",
   "execution_count": null,
   "metadata": {
    "colab": {
     "base_uri": "https://localhost:8080/",
     "height": 179
    },
    "colab_type": "code",
    "executionInfo": {
     "elapsed": 1024,
     "status": "ok",
     "timestamp": 1561535336899,
     "user": {
      "displayName": "陶士来",
      "photoUrl": "",
      "userId": "08104502188577818611"
     },
     "user_tz": -480
    },
    "id": "i4qH6P9Rq_IB",
    "outputId": "43e23af4-4eb2-4ab3-a8ae-af08a10eaed2"
   },
   "outputs": [],
   "source": [
    "print(train.describe())"
   ]
  },
  {
   "cell_type": "code",
   "execution_count": null,
   "metadata": {
    "colab": {},
    "colab_type": "code",
    "id": "3927hkxqrM8n"
   },
   "outputs": [],
   "source": [
    "##更改数据类型节省变量\n",
    "\n",
    "\n",
    "for each in ['user_id','listing_id']:\n",
    "  train[each]=train[each].astype('int32')##整型变量比字符串变量节省内存\n",
    "for each in ['due_amt']:\n",
    "  train[each]=train[each].astype('float32')\n"
   ]
  },
  {
   "cell_type": "code",
   "execution_count": null,
   "metadata": {
    "colab": {},
    "colab_type": "code",
    "id": "ZKLIbVugtHaH"
   },
   "outputs": [],
   "source": []
  },
  {
   "cell_type": "code",
   "execution_count": null,
   "metadata": {
    "colab": {
     "base_uri": "https://localhost:8080/",
     "height": 35
    },
    "colab_type": "code",
    "executionInfo": {
     "elapsed": 906,
     "status": "ok",
     "timestamp": 1561535425220,
     "user": {
      "displayName": "陶士来",
      "photoUrl": "",
      "userId": "08104502188577818611"
     },
     "user_tz": -480
    },
    "id": "2Y1CVjX9tK0Q",
    "outputId": "c6380ade-51f7-4f48-b2b0-513d1cfdadc5"
   },
   "outputs": [],
   "source": [
    "train.shape"
   ]
  },
  {
   "cell_type": "code",
   "execution_count": null,
   "metadata": {
    "colab": {
     "base_uri": "https://localhost:8080/",
     "height": 161
    },
    "colab_type": "code",
    "executionInfo": {
     "elapsed": 1030,
     "status": "ok",
     "timestamp": 1561535668401,
     "user": {
      "displayName": "陶士来",
      "photoUrl": "",
      "userId": "08104502188577818611"
     },
     "user_tz": -480
    },
    "id": "vt3Fft0Iw6b3",
    "outputId": "e70acf63-02cb-4058-f053-7bdd9534960d"
   },
   "outputs": [],
   "source": [
    "train[train['repay_date']=='\\\\N'].count()"
   ]
  },
  {
   "cell_type": "code",
   "execution_count": null,
   "metadata": {
    "colab": {
     "base_uri": "https://localhost:8080/",
     "height": 35
    },
    "colab_type": "code",
    "executionInfo": {
     "elapsed": 883,
     "status": "ok",
     "timestamp": 1561535744448,
     "user": {
      "displayName": "陶士来",
      "photoUrl": "",
      "userId": "08104502188577818611"
     },
     "user_tz": -480
    },
    "id": "wcILhQ27xn2U",
    "outputId": "e7fd9530-b69a-4cea-b636-f35e28078121"
   },
   "outputs": [],
   "source": [
    "print(117192/1000000)##只有11.72%的标的没有还款，大部分标的都按时还款"
   ]
  },
  {
   "cell_type": "code",
   "execution_count": null,
   "metadata": {
    "colab": {
     "base_uri": "https://localhost:8080/",
     "height": 1000
    },
    "colab_type": "code",
    "executionInfo": {
     "elapsed": 867,
     "status": "ok",
     "timestamp": 1561536558391,
     "user": {
      "displayName": "陶士来",
      "photoUrl": "",
      "userId": "08104502188577818611"
     },
     "user_tz": -480
    },
    "id": "HgjEA-NIyIYM",
    "outputId": "0879f75f-9065-4e3d-c757-285b70d03324"
   },
   "outputs": [],
   "source": [
    "print(train[train['repay_date']=='\\\\N']['user_id'].value_counts().sort_values())"
   ]
  },
  {
   "cell_type": "code",
   "execution_count": null,
   "metadata": {
    "colab": {
     "base_uri": "https://localhost:8080/",
     "height": 179
    },
    "colab_type": "code",
    "executionInfo": {
     "elapsed": 1129,
     "status": "ok",
     "timestamp": 1561536774786,
     "user": {
      "displayName": "陶士来",
      "photoUrl": "",
      "userId": "08104502188577818611"
     },
     "user_tz": -480
    },
    "id": "zwcM9PHvyvoP",
    "outputId": "2523f49e-66a7-42fb-e76e-421ac5b19b63"
   },
   "outputs": [],
   "source": [
    "print(train[train['user_id']==241016])"
   ]
  },
  {
   "cell_type": "code",
   "execution_count": null,
   "metadata": {
    "colab": {
     "base_uri": "https://localhost:8080/",
     "height": 359
    },
    "colab_type": "code",
    "executionInfo": {
     "elapsed": 944,
     "status": "ok",
     "timestamp": 1561537015054,
     "user": {
      "displayName": "陶士来",
      "photoUrl": "",
      "userId": "08104502188577818611"
     },
     "user_tz": -480
    },
    "id": "_3Q7DCyB0_Es",
    "outputId": "cbb816a5-ca2c-4e10-af56-23b35cfecfd6"
   },
   "outputs": [],
   "source": [
    "print(train[train['user_id'].isin([571576,804774])].sort_values(by=['user_id','auditing_date']))\n",
    "\n",
    "##对于某一个标的，一共被多少人借过，有多少人没还(这些人的特征是什么)\n",
    "##根据user_id统计人的特征，然join得到相应标的上人特征### 人 时间 标的；例如：一共借了多少次（分全量数据，和滑窗数据特征），每次借的金额处于哪个等级，（需要多借款金额离散化）逾期了多少次"
   ]
  },
  {
   "cell_type": "code",
   "execution_count": null,
   "metadata": {
    "colab": {
     "base_uri": "https://localhost:8080/",
     "height": 107
    },
    "colab_type": "code",
    "executionInfo": {
     "elapsed": 905,
     "status": "ok",
     "timestamp": 1561537957851,
     "user": {
      "displayName": "陶士来",
      "photoUrl": "",
      "userId": "08104502188577818611"
     },
     "user_tz": -480
    },
    "id": "aVLv27Hz2KGh",
    "outputId": "280908f5-5110-412c-9378-cd19b52391a5"
   },
   "outputs": [],
   "source": [
    "print(train[train['listing_id']==2508866])"
   ]
  },
  {
   "cell_type": "code",
   "execution_count": null,
   "metadata": {
    "colab": {},
    "colab_type": "code",
    "id": "iT8E5v3T5Bm8"
   },
   "outputs": [],
   "source": [
    "print(train.sort_values())"
   ]
  }
 ],
 "metadata": {
  "accelerator": "GPU",
  "colab": {
   "collapsed_sections": [],
   "name": "mobileadv_competiton_feature_enging.ipynb",
   "provenance": [],
   "version": "0.3.2"
  },
  "kernelspec": {
   "display_name": "Python 3",
   "language": "python",
   "name": "python3"
  },
  "language_info": {
   "codemirror_mode": {
    "name": "ipython",
    "version": 3
   },
   "file_extension": ".py",
   "mimetype": "text/x-python",
   "name": "python",
   "nbconvert_exporter": "python",
   "pygments_lexer": "ipython3",
   "version": "3.5.2"
  }
 },
 "nbformat": 4,
 "nbformat_minor": 1
}
